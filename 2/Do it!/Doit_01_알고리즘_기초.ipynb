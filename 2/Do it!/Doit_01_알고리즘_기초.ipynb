{
  "nbformat": 4,
  "nbformat_minor": 0,
  "metadata": {
    "colab": {
      "name": "Doit_01_알고리즘 기초.ipynb",
      "provenance": [],
      "collapsed_sections": [],
      "authorship_tag": "ABX9TyP9wnQkMIKq+//qxx+dULir"
    },
    "kernelspec": {
      "name": "python3",
      "display_name": "Python 3"
    },
    "language_info": {
      "name": "python"
    }
  },
  "cells": [
    {
      "cell_type": "markdown",
      "metadata": {
        "id": "dMj-77iYmLsh"
      },
      "source": [
        "컴퓨터가 프로그램의 명령에 따라 순서대로 일을 처리하는데에 있어, 효율적인 결과를 얻기 위해 필요한 것이 알고리즘\n",
        "\n",
        "자료구조는 컴퓨터에 정보를 효율적으로 저장하고 관리하는 방법\n",
        "\n",
        "효율적인 자료구조를 선택하면 알고리즘의 성능도 향상되기 때문에 이 둘은 상호 보완 관계에 있다.\n",
        "\n",
        "즉, 자료구조를 만드는 과정은 알고리즘으로 순서화되어 있으며 다시 이 자료구조를 가지고 효율적인 알고리즘을 구현한다."
      ]
    },
    {
      "cell_type": "markdown",
      "metadata": {
        "id": "bDhuz8tNpMUF"
      },
      "source": [
        "# 01. 알고리즘 기초"
      ]
    },
    {
      "cell_type": "markdown",
      "metadata": {
        "id": "j15awd5wzmGx"
      },
      "source": [
        "## 01-1 알고리즘이란?"
      ]
    },
    {
      "cell_type": "code",
      "metadata": {
        "colab": {
          "base_uri": "https://localhost:8080/"
        },
        "id": "QEoZzMc_pL2O",
        "outputId": "44d3d32f-3318-4874-cae0-900e2433f672"
      },
      "source": [
        "# 실습 1-1\n",
        "# 세 정수를 입력받아 최댓값 구하기\n",
        "\n",
        "print('세 정수의 최댓값을 구합니다.')\n",
        "a = int(input('정수 a의 값을 입력하세요.: '))\n",
        "b = int(input('정수 b의 값을 입력하세요.: '))\n",
        "c = int(input('정수 c의 값을 입력하세요.: '))\n",
        "\n",
        "maximum = a\n",
        "if b > maximum: maximum = b\n",
        "if c > maximum: maximum = c\n",
        "\n",
        "print(f'최댓값은 {maximum}입니다.')     "
      ],
      "execution_count": null,
      "outputs": [
        {
          "output_type": "stream",
          "text": [
            "세 정수의 최댓값을 구합니다.\n",
            "정수 a의 값을 입력하세요.: 1\n",
            "정수 b의 값을 입력하세요.: 3\n",
            "정수 c의 값을 입력하세요.: 2\n",
            "최댓값은 3입니다.\n"
          ],
          "name": "stdout"
        }
      ]
    },
    {
      "cell_type": "markdown",
      "metadata": {
        "id": "foVkvEvj7w2U"
      },
      "source": [
        "f-string(문자열 포매팅) : https://blockdmask.tistory.com/429\n",
        "\n",
        "f-string을 써야하는 이유 : https://sikaleo.tistory.com/98"
      ]
    },
    {
      "cell_type": "code",
      "metadata": {
        "colab": {
          "base_uri": "https://localhost:8080/"
        },
        "id": "dpYjmcUhpq0R",
        "outputId": "11a002d7-e28b-4c77-faec-541426a496c2"
      },
      "source": [
        "# 실습 1C-1\n",
        "# 이름을 입력받아 인사하기\n",
        "\n",
        "print('이름을 입력하세요.: ', end='')   # end옵션 통해서 print문의 출력문들 사이에 해당하는 내용 넣을 수 있음.\n",
        "name = input()\n",
        "print(f'안녕하세요? {name} 님.')"
      ],
      "execution_count": null,
      "outputs": [
        {
          "output_type": "stream",
          "text": [
            "이름을 입력하세요.: 박서진\n",
            "안녕하세요? 박서진 님.\n"
          ],
          "name": "stdout"
        }
      ]
    },
    {
      "cell_type": "code",
      "metadata": {
        "colab": {
          "base_uri": "https://localhost:8080/"
        },
        "id": "T1JVpz7Up7uJ",
        "outputId": "1322c4c3-d097-4a4c-f71f-610e0aca5228"
      },
      "source": [
        "# int()함수\n",
        "\n",
        "# 파이썬에서는 기본적으로 10진수 형태로 숫자를 표현하기 때문에 다른 진수의 형태로 숫자를 표기하기 위해서는 접두어 필요\n",
        "print(int('17'))   # 10진수 문자열을 10진수 정수형으로 변환(기본)\n",
        "print(int('0b110', 2))   # 2진수 : 0b\n",
        "print(int('0o75', 8))   # 8진수 : 0o\n",
        "print(int('13',10))    \n",
        "print(int('0x3F', 16))    # 16진수 : 0x\n",
        "print('============')\n",
        "print(float('3.14'))   # 문자열을 실수형으로 변환"
      ],
      "execution_count": null,
      "outputs": [
        {
          "output_type": "stream",
          "text": [
            "17\n",
            "6\n",
            "61\n",
            "13\n",
            "63\n",
            "============\n",
            "3.14\n"
          ],
          "name": "stdout"
        }
      ]
    },
    {
      "cell_type": "markdown",
      "metadata": {
        "id": "8JHRxsCLsyrf"
      },
      "source": [
        "컴퓨터에서의 실수 표현 : 고정 소수점 vs 부동 소수점\n",
        "\n",
        "**부동소수점**\n",
        "소수점이 움직인다는 의미에서 부동소수점\n",
        "\n",
        "2진수로 변환한 수를 다시 부호비트와 지수/가수 부분으로 정규화하는 과정을 거치기 때문에 고정 소수점보다 큰 수를 32비트 안에 충분히 표현할 수 있다는 장점이 있다. 따라서 부동 소수점 방식은 고정 소수점 방식보다 넓은 범위의 수를 나타낼 수 있어서 과학 또는 수학 계산을 할 때 많이 이용된다. 하지만 근삿값으로 표현된다는 점과 고정 소수점 방식보다 연산속도가 느리다는 점 때문에 부동 소수점 방식을 위한 별도의 연산 장치를 두는 경우가 많다. "
      ]
    },
    {
      "cell_type": "code",
      "metadata": {
        "colab": {
          "base_uri": "https://localhost:8080/"
        },
        "id": "u-IwZDyEmFXn",
        "outputId": "35413e0a-d7ef-4c75-a679-ba6ed75e98f7"
      },
      "source": [
        "# 실습 1-2\n",
        "# 세 정수의 최댓값 구하기\n",
        "\n",
        "def max3(a, b, c):\n",
        "    \"\"\"a, b, c의 최댓값을 구하여 반환\"\"\"\n",
        "    maximum = a\n",
        "    if b > maximum : maximum = b\n",
        "    if c > maximum : maximum = c\n",
        "    return maximum    # 최댓값 반환\n",
        "\n",
        "print(f'max3(3, 2, 1) = {max3(3, 2, 1)}')\n",
        "print(f'max3(3, 2, 2) = {max3(3, 2, 2)}')\n",
        "print(f'max3(3, 1, 2) = {max3(3, 1, 2)}')\n",
        "print(f'max3(3, 2, 3) = {max3(3, 2, 3)}')\n",
        "print(f'max3(2, 1, 3) = {max3(2, 1, 3)}')\n",
        "print(f'max3(3, 3, 2) = {max3(3, 3, 2)}')\n",
        "print(f'max3(3, 3, 3) = {max3(3, 3, 3)}')\n",
        "print(f'max3(2, 2, 3) = {max3(2, 2, 3)}')\n",
        "print(f'max3(2, 3, 1) = {max3(2, 3, 1)}')\n",
        "print(f'max3(2, 3, 2) = {max3(2, 3, 2)}')\n",
        "print(f'max3(1, 3, 2) = {max3(1, 3, 2)}')\n",
        "print(f'max3(2, 3, 3) = {max3(2, 3, 3)}')\n",
        "print(f'max3(1, 2, 3) = {max3(1, 2, 3)}')"
      ],
      "execution_count": null,
      "outputs": [
        {
          "output_type": "stream",
          "text": [
            "max3(3, 2, 1) = 3\n",
            "max3(3, 2, 2) = 3\n",
            "max3(3, 1, 2) = 3\n",
            "max3(3, 2, 3) = 3\n",
            "max3(2, 1, 3) = 3\n",
            "max3(3, 3, 2) = 3\n",
            "max3(3, 3, 3) = 3\n",
            "max3(2, 2, 3) = 3\n",
            "max3(2, 3, 1) = 3\n",
            "max3(2, 3, 2) = 3\n",
            "max3(1, 3, 2) = 3\n",
            "max3(2, 3, 3) = 3\n",
            "max3(1, 2, 3) = 3\n"
          ],
          "name": "stdout"
        }
      ]
    },
    {
      "cell_type": "markdown",
      "metadata": {
        "id": "q54-iK7UuH64"
      },
      "source": [
        "**알고리즘 : 어떠한 문제를 해결하기 위해 정해 놓은 일련의 절차**\n",
        "\n",
        "*특히, 올바른 알고리즘이란 '어떠한 경우에도 실행 결과가 똑같이 나오는 것'*"
      ]
    },
    {
      "cell_type": "code",
      "metadata": {
        "colab": {
          "base_uri": "https://localhost:8080/"
        },
        "id": "c6PcNvZ0uDz8",
        "outputId": "8ce4715f-0fd9-4346-f606-d9a29ff68cb1"
      },
      "source": [
        "# 실습 1C-2\n",
        "# 세 정수를 입력받아 중앙값 구하기 1\n",
        "\n",
        "def med3(a, b, c):\n",
        "    \"\"\"a, b, c의 중앙값을 구하여 반환\"\"\"\n",
        "    if a >= b:\n",
        "        if b >= c:   # a>=b>=c\n",
        "            return b\n",
        "        elif a <= c:   #c>=a>=b\n",
        "            return a\n",
        "        else:\n",
        "            return c\n",
        "    elif a > c:\n",
        "        return a\n",
        "    elif b > c:\n",
        "        return c\n",
        "    else:\n",
        "        return b\n",
        "\n",
        "print('세 정수의 중앙값을 구합니다.')\n",
        "a = int(input('정수 a의 값을 입력하세요.: '))\n",
        "b = int(input('정수 b의 값을 입력하세요.: '))\n",
        "c = int(input('정수 c의 값을 입력하세요.: '))\n",
        "\n",
        "print(f'중앙값은 {med3(a, b, c)}입니다.')"
      ],
      "execution_count": null,
      "outputs": [
        {
          "output_type": "stream",
          "text": [
            "세 정수의 중앙값을 구합니다.\n",
            "정수 a의 값을 입력하세요.: 1\n",
            "정수 b의 값을 입력하세요.: 3\n",
            "정수 c의 값을 입력하세요.: 2\n",
            "중앙값은 2입니다.\n"
          ],
          "name": "stdout"
        }
      ]
    },
    {
      "cell_type": "code",
      "metadata": {
        "id": "KgPtBa_Yv0SH"
      },
      "source": [
        "# 세 정수를 입력받아 중앙값 구하기 2\n",
        "\n",
        "def med3(a, b, c):\n",
        "    \"\"\"a, b, c의 중앙값을 구하여 반환\"\"\"\n",
        "    if (b >= a and c <= a) or (b <= a and c >= a):\n",
        "        return a\n",
        "    elif (a > b and c < b) or (a < b and c > b):    # 불필요한 조건식 판단이 들어가있다.\n",
        "        return b\n",
        "    return c"
      ],
      "execution_count": null,
      "outputs": []
    },
    {
      "cell_type": "markdown",
      "metadata": {
        "id": "65O6pGv8woJt"
      },
      "source": [
        "**파이썬 분기문**은 프로그램 중 참(True) 또는 거짓(False)을 반환하는 조건식의 결과에 따라 \n",
        "\n",
        "프로그램을 어떠한 경로로 실행할지를 결정하는 문\n",
        "\n",
        "0이 아니거나, null이 아닐 경우에 참(True)값으로 판단하며, \n",
        "\n",
        "그 반대의 경우에는 거짓(False)값으로 판단"
      ]
    },
    {
      "cell_type": "code",
      "metadata": {
        "colab": {
          "base_uri": "https://localhost:8080/"
        },
        "id": "iYPV9uNwwHq3",
        "outputId": "63bfb975-a5a0-4f0c-9e95-623c9c0a1690"
      },
      "source": [
        "# 실습 1-3\n",
        "# 입력받은 정수의 부호(양수, 음수, 0) 출력하기\n",
        "\n",
        "n = int(input('정수를 입력하세요.: '))\n",
        "\n",
        "if n > 0:\n",
        "    print('이 수는 양수입니다.')\n",
        "elif n < 0:\n",
        "    print('이 수는 음수입니다.')\n",
        "else:\n",
        "    print('이 수는 0입니다.')"
      ],
      "execution_count": null,
      "outputs": [
        {
          "output_type": "stream",
          "text": [
            "정수를 입력하세요.: 1118\n",
            "이 수는 양수입니다.\n"
          ],
          "name": "stdout"
        }
      ]
    },
    {
      "cell_type": "code",
      "metadata": {
        "colab": {
          "base_uri": "https://localhost:8080/"
        },
        "id": "4wnjxQ_cxFnA",
        "outputId": "74561057-9809-48b6-9d92-5885c66d532c"
      },
      "source": [
        "# 실습 1-4\n",
        "# 3개로 분기하는 조건문\n",
        "\n",
        "n = int(input('정수를 입력하세요.: '))\n",
        "\n",
        "if n == 1:\n",
        "    print('A')\n",
        "elif n == 2:\n",
        "    print('B')\n",
        "else:\n",
        "    print('C')"
      ],
      "execution_count": null,
      "outputs": [
        {
          "output_type": "stream",
          "text": [
            "정수를 입력하세요.: 4\n",
            "C\n"
          ],
          "name": "stdout"
        }
      ]
    },
    {
      "cell_type": "code",
      "metadata": {
        "colab": {
          "base_uri": "https://localhost:8080/"
        },
        "id": "rMuBH_YUxY7Y",
        "outputId": "80990431-16af-4577-c4d7-e2001514f69f"
      },
      "source": [
        "# 실습 1-5\n",
        "# 4개로 분기하는 조건문 \n",
        "\n",
        "n = int(input('정수를 입력하세요.: '))\n",
        "\n",
        "if n == 1:\n",
        "    print('A')\n",
        "elif n == 2:\n",
        "    print('B')\n",
        "elif n == 3:\n",
        "    print('C')    # else문이 숨어져있음 => 4분기"
      ],
      "execution_count": null,
      "outputs": [
        {
          "output_type": "stream",
          "text": [
            "정수를 입력하세요.: 4\n"
          ],
          "name": "stdout"
        }
      ]
    },
    {
      "cell_type": "code",
      "metadata": {
        "colab": {
          "base_uri": "https://localhost:8080/"
        },
        "id": "Dm8QEM3Bxm2B",
        "outputId": "f01872d7-9add-4079-c171-d82aad1b98b2"
      },
      "source": [
        "# 실습 1-6\n",
        "# 실습 1-5의 원래 모습\n",
        "\n",
        "n = int(input('정수를 입력하세요.: '))\n",
        "\n",
        "if n == 1:\n",
        "    print('A')\n",
        "elif n == 2:\n",
        "    print('B')\n",
        "elif n == 3:\n",
        "    print('C') \n",
        "else:\n",
        "    pass    # 1,2,3 이외의 값을 입력받을때 else문의 pass문이 실행된다."
      ],
      "execution_count": null,
      "outputs": [
        {
          "output_type": "stream",
          "text": [
            "정수를 입력하세요.: 4\n"
          ],
          "name": "stdout"
        }
      ]
    },
    {
      "cell_type": "code",
      "metadata": {
        "id": "C8N5UiaEm0on"
      },
      "source": [
        "a = x if x>y else y"
      ],
      "execution_count": null,
      "outputs": []
    },
    {
      "cell_type": "markdown",
      "metadata": {
        "id": "P5sc-q4Rx913"
      },
      "source": [
        "순서도 용어와 기호\n",
        "\n",
        "https://ko.wikipedia.org/wiki/%EC%88%9C%EC%84%9C%EB%8F%84\n",
        "\n",
        "*   데이터\n",
        "    *    기억장치 : 컴퓨터에서 데이터를 일시적으로 또는 영구적으로 보존하는 장치\n",
        "*   처리\n",
        "*   미리 정의한 처리\n",
        "    *    서브루틴 : 반복되어 사용하는 것을 메모리에 한번 적재하여 여러번 사용할 수 있도록 하는 방법\n",
        "*   판단\n",
        "*   루프 범위\n",
        "*   선\n",
        "    *    제어의 흐름 == 프로세스의 실행 흐름\n",
        "*   단말\n",
        "\n"
      ]
    },
    {
      "cell_type": "markdown",
      "metadata": {
        "id": "lEyUtImxzhYV"
      },
      "source": [
        "## 01-2 반복하는 알고리즘"
      ]
    },
    {
      "cell_type": "code",
      "metadata": {
        "colab": {
          "base_uri": "https://localhost:8080/"
        },
        "id": "2v8lE5CdxyKL",
        "outputId": "d70e832f-78ee-46b7-c73c-158c813ca2b2"
      },
      "source": [
        "# 실습 1-7\n",
        "# 1부터 n까지 정수의 합 구하기 1\n",
        "\n",
        "print('1부터 n까지 정수의 합을 구합니다.')\n",
        "n = int(input('n값을 입력하세요.: '))\n",
        "\n",
        "sum = 0\n",
        "i = 1\n",
        "\n",
        "while i <= n :\n",
        "    sum += i\n",
        "    i += 1\n",
        "\n",
        "print(f'1부터 {n}까지 정수의 합은 {sum}입니다.')"
      ],
      "execution_count": 1,
      "outputs": [
        {
          "output_type": "stream",
          "text": [
            "1부터 n까지 정수의 합을 구합니다.\n",
            "n값을 입력하세요.: 5\n",
            "1부터 5까지 정수의 합은 15입니다.\n"
          ],
          "name": "stdout"
        }
      ]
    },
    {
      "cell_type": "markdown",
      "metadata": {
        "id": "d0D4tnB306UF"
      },
      "source": [
        "판단 반복 구조\n",
        "\n",
        "1. 사전 판단 반복 구조 : 파이썬에 있음. ex) while, for문\n",
        "\n",
        "실행 전에 반복을 계속할 지 판단하는 구조\n",
        "\n",
        "2. 사후 판단 반복 구조 : 파이썬에 없음. ex) do ~ while문 \n",
        "\n",
        "루프를 한번 실행한 다음 조건식을 판단하는 구조.\n",
        "\n"
      ]
    },
    {
      "cell_type": "code",
      "metadata": {
        "colab": {
          "base_uri": "https://localhost:8080/"
        },
        "id": "LhSNsSNz5IMR",
        "outputId": "65949a42-8790-4638-efab-c0879d11644e"
      },
      "source": [
        "# 실습 1-8\n",
        "# 1부터 n까지 정수의 합 구하기 2\n",
        "\n",
        "print('1부터 n까지 정수의 합을 구합니다.')\n",
        "n = int(input('n값을 입력하세요.: '))\n",
        "\n",
        "sum = 0\n",
        "for i in range(1, n+1):\n",
        "    sum += i\n",
        "\n",
        "print(f'1부터 {n}까지 정수의 합은 {sum}입니다.')"
      ],
      "execution_count": 2,
      "outputs": [
        {
          "output_type": "stream",
          "text": [
            "1부터 n까지 정수의 합을 구합니다.\n",
            "n값을 입력하세요.: 5\n",
            "1부터 5까지 정수의 합은 15입니다.\n"
          ],
          "name": "stdout"
        }
      ]
    },
    {
      "cell_type": "code",
      "metadata": {
        "colab": {
          "base_uri": "https://localhost:8080/"
        },
        "id": "Bk1lHN8e7dE9",
        "outputId": "ab5f839a-3cb4-43e9-cb94-dadc79e1b900"
      },
      "source": [
        "# 1부터 n까지의 합 구하기 3(가우스 덧셈 방법)\n",
        "\n",
        "print('1부터 n까지의 합을 구합니다.')\n",
        "n = int(input('n값을 입력하세요.: '))\n",
        "\n",
        "sum = n * (n + 1) // 2\n",
        "\n",
        "print(f'1부터 {n}까지의 합은 {sum}입니다.')"
      ],
      "execution_count": 3,
      "outputs": [
        {
          "output_type": "stream",
          "text": [
            "1부터 n까지의 합을 구합니다.\n",
            "n값을 입력하세요.: 5\n",
            "1부터 5까지의 합은 15입니다.\n"
          ],
          "name": "stdout"
        }
      ]
    },
    {
      "cell_type": "code",
      "metadata": {
        "colab": {
          "base_uri": "https://localhost:8080/"
        },
        "id": "MmAMJutC5VsF",
        "outputId": "129634fb-008e-4185-b80f-7c2467a7f37c"
      },
      "source": [
        "# 이터러블 객체와 이터레이터 객체\n",
        "'''\n",
        "https://dojang.io/mod/page/view.php?id=2405\n",
        "\n",
        "이터러블(iterable) : 반복할 수 있는 객체, 반복문을 사용할 수 있는 객체\n",
        "-> 요소가 여러 개 들어있고, 한 번에 하나씩 꺼낼 수 있는 객체\n",
        "ex) 문자열, 리스트, 딕셔너리, 세트\n",
        "-> 객체가 반복 가능한 객체인지 확인하는 방법\n",
        ": 객체에 __iter__ 메서드가 들어있는지 확인\n",
        "\n",
        "이터레이터(iterator 또는 반복자) : 값을 차례대로 꺼낼 수 있는 객체\n",
        "ex) for 반복문에서 range를 사용하는데 \n",
        "for i in range(n)은 0부터 n-1까지 연속된 숫자를 모두 만들어내는 것이 아니라\n",
        "\n",
        "0부터 n-1까지 값을 차례대로 꺼낼 수 있는 이터레이터 하나만 만들어내는 것.\n",
        "이후 반복할 때마다 이터레이터에서 숫자를 하나씩 꺼내서 반복하는 원리임.\n",
        "\n",
        "이터러블에서 __iter__를 호출하면 이터레이터가 나온다.\n",
        "그리고 이터레이터에서 __next__를 호출하면 차례대로 값을 꺼낼 수 있다.\n",
        "'''\n",
        "[1, 2, 3].__iter__()"
      ],
      "execution_count": 4,
      "outputs": [
        {
          "output_type": "execute_result",
          "data": {
            "text/plain": [
              "<list_iterator at 0x7f70d3ae5f90>"
            ]
          },
          "metadata": {
            "tags": []
          },
          "execution_count": 4
        }
      ]
    },
    {
      "cell_type": "code",
      "metadata": {
        "colab": {
          "base_uri": "https://localhost:8080/"
        },
        "id": "EerIyw_o9j_2",
        "outputId": "54fd3507-0c57-45bd-8cf3-bdc54d5c9109"
      },
      "source": [
        "iter = [1, 2, 3].__iter__()\n",
        "print(iter.__next__())\n",
        "print('======')\n",
        "print(iter.__next__())\n",
        "print('======')\n",
        "print(iter.__next__())\n",
        "print('======')\n",
        "# print(iter.__next__())"
      ],
      "execution_count": 5,
      "outputs": [
        {
          "output_type": "stream",
          "text": [
            "1\n",
            "======\n",
            "2\n",
            "======\n",
            "3\n",
            "======\n"
          ],
          "name": "stdout"
        }
      ]
    },
    {
      "cell_type": "code",
      "metadata": {
        "id": "4lN-wpOZ9zuG",
        "colab": {
          "base_uri": "https://localhost:8080/",
          "height": 71
        },
        "outputId": "c4d19a9f-007c-4c7a-8ccc-ddcf4fb23856"
      },
      "source": [
        "'''\n",
        "it에서 __next__를 호출할 때마다 리스트에 들어있는 1, 2, 3이 나온다. \n",
        "그리고 3 다음에 __next__를 호출하면 StopIteration 예외 발생. \n",
        "즉, [1, 2, 3]이므로 1, 2, 3 세 번 반복하는 것.\n",
        "이처럼 이터레이터는 __next__로 요소를 계속 꺼내다가 꺼낼 요소가 없으면 StopIteration 예외를 발생시켜서 반복을 끝냄.\n",
        "'''"
      ],
      "execution_count": 6,
      "outputs": [
        {
          "output_type": "execute_result",
          "data": {
            "application/vnd.google.colaboratory.intrinsic+json": {
              "type": "string"
            },
            "text/plain": [
              "'\\nit에서 __next__를 호출할 때마다 리스트에 들어있는 1, 2, 3이 나온다. \\n그리고 3 다음에 __next__를 호출하면 StopIteration 예외 발생. \\n즉, [1, 2, 3]이므로 1, 2, 3 세 번 반복하는 것.\\n이처럼 이터레이터는 __next__로 요소를 계속 꺼내다가 꺼낼 요소가 없으면 StopIteration 예외를 발생시켜서 반복을 끝냄.\\n'"
            ]
          },
          "metadata": {
            "tags": []
          },
          "execution_count": 6
        }
      ]
    },
    {
      "cell_type": "code",
      "metadata": {
        "colab": {
          "base_uri": "https://localhost:8080/"
        },
        "id": "eiXsRlfF9pNc",
        "outputId": "dee474c8-556e-4b78-c80c-594172abcdf2"
      },
      "source": [
        "iter = range(3).__iter__()\n",
        "\n",
        "print(iter.__next__())\n",
        "print('======')\n",
        "print(iter.__next__())\n",
        "print('======')\n",
        "print(iter.__next__())\n",
        "print('======')\n",
        "#print(iter.__next__())"
      ],
      "execution_count": 7,
      "outputs": [
        {
          "output_type": "stream",
          "text": [
            "0\n",
            "======\n",
            "1\n",
            "======\n",
            "2\n",
            "======\n"
          ],
          "name": "stdout"
        }
      ]
    },
    {
      "cell_type": "code",
      "metadata": {
        "colab": {
          "base_uri": "https://localhost:8080/"
        },
        "id": "adQAbaU0-OGH",
        "outputId": "a7feb886-949f-43c9-d1b7-7fbf36be0a10"
      },
      "source": [
        "# 실습 1-9\n",
        "# a부터 b까지 정수의 합 구하기(for 문)\n",
        "\n",
        "print('a부터 b까지의 합을 구합니다.')\n",
        "a = int(input('정수 a를 입력하세요.: '))\n",
        "b = int(input('정수 b를 입력하세요.: '))\n",
        "\n",
        "if a > b:\n",
        "    a, b = b, a  # 단일 대입문 ; a와 b를 오름차순으로 정렬\n",
        "\n",
        "sum = 0\n",
        "for i in range(a, b + 1):\n",
        "    sum += i\n",
        "\n",
        "print(f'{a}부터 {b}까지 정수의 합은 {sum}입니다.')"
      ],
      "execution_count": 8,
      "outputs": [
        {
          "output_type": "stream",
          "text": [
            "a부터 b까지의 합을 구합니다.\n",
            "정수 a를 입력하세요.: 4\n",
            "정수 b를 입력하세요.: 17\n",
            "4부터 17까지 정수의 합은 147입니다.\n"
          ],
          "name": "stdout"
        }
      ]
    },
    {
      "cell_type": "code",
      "metadata": {
        "colab": {
          "base_uri": "https://localhost:8080/"
        },
        "id": "1bNrnUi3_dMW",
        "outputId": "6b716797-9f10-4fb1-d07a-2baf80939025"
      },
      "source": [
        "# 실습 1-10\n",
        "# a부터 b까지 정수의 합 구하기 1\n",
        "\n",
        "print('a부터 b까지의 합을 구합니다.')\n",
        "a = int(input('정수 a를 입력하세요.: '))\n",
        "b = int(input('정수 b를 입력하세요.: '))\n",
        "\n",
        "if a > b:\n",
        "    a, b = b, a\n",
        "\n",
        "sum = 0\n",
        "for i in range(a, b + 1):    # b - a번 반복\n",
        "    if i < b: \n",
        "        print(f'{i} + ', end='')    # print()는 기본값으로 개행으로 끝나지만 end옵션 통해서 이어붙임\n",
        "    else:\n",
        "        print(f'{i} = ', end='')\n",
        "    sum += i\n",
        "\n",
        "print(sum)"
      ],
      "execution_count": 9,
      "outputs": [
        {
          "output_type": "stream",
          "text": [
            "a부터 b까지의 합을 구합니다.\n",
            "정수 a를 입력하세요.: 4\n",
            "정수 b를 입력하세요.: 17\n",
            "4 + 5 + 6 + 7 + 8 + 9 + 10 + 11 + 12 + 13 + 14 + 15 + 16 + 17 = 147\n"
          ],
          "name": "stdout"
        }
      ]
    },
    {
      "cell_type": "code",
      "metadata": {
        "colab": {
          "base_uri": "https://localhost:8080/"
        },
        "id": "UNOOX76IAkZg",
        "outputId": "c04e8634-61e3-4da5-d7df-6be7ed6e1150"
      },
      "source": [
        "# 실습 1-11\n",
        "# a부터 b까지 정수의 합 구하기 2\n",
        "\n",
        "print('a부터 b까지 정수의 합을 구합니다.')\n",
        "a = int(input('정수 a를 입력하세요.: '))\n",
        "b = int(input('정수 b를 입력하세요.: '))\n",
        "\n",
        "if a > b :\n",
        "    a, b = b, a\n",
        "\n",
        "sum = 0\n",
        "for i in range(a, b):\n",
        "    print(f'{i} + ', end='')    # if문 조건식 반복하여 판별하는 작업 필요없이 별도로 둔다.\n",
        "    sum += i    # i가 b보다 크거나 같음을 판단하지 않으므로 1-10보다 효율이 좋다.\n",
        "\n",
        "print(f'{b} = ', end ='')\n",
        "sum += b\n",
        "\n",
        "print(sum)"
      ],
      "execution_count": 10,
      "outputs": [
        {
          "output_type": "stream",
          "text": [
            "a부터 b까지 정수의 합을 구합니다.\n",
            "정수 a를 입력하세요.: 4\n",
            "정수 b를 입력하세요.: 17\n",
            "4 + 5 + 6 + 7 + 8 + 9 + 10 + 11 + 12 + 13 + 14 + 15 + 16 + 17 = 147\n"
          ],
          "name": "stdout"
        }
      ]
    },
    {
      "cell_type": "markdown",
      "metadata": {
        "id": "gLKy3Uy006aB"
      },
      "source": [
        "두 값 교환하기\n",
        "\n",
        "1. 단일 대입문 a, b = b, a\n",
        "    1.    우변의 b, a에 의해 두 값을 압축한 튜플 (b,a)가 생성\n",
        "    2.    대입할 때 튜플 (b,a)를 다시 풀어 b,a로 만든 다음 각각 a와 b에 대입\n",
        "\n",
        "2. 임시용 변수 t 이용하기\n",
        "    1.   a값을 t에 저장한다.\n",
        "    2.   b값을 a에 대입한다.\n",
        "    3.   t에 저장한 처음 a값을 b에 대입한다."
      ]
    },
    {
      "cell_type": "code",
      "metadata": {
        "colab": {
          "base_uri": "https://localhost:8080/"
        },
        "id": "-Zw1gDinz9tn",
        "outputId": "fcb4e14a-fd0a-4f45-f8ba-2ede5faa1062"
      },
      "source": [
        "# 실습 1-12\n",
        "# +와 -를 번갈아 출력하기 1\n",
        "\n",
        "print('+와 -를 번갈아 출력합니다.')\n",
        "n = int(input('몇 개를 출력할까요?: '))\n",
        "\n",
        "for i in range(n):\n",
        "    if i % 2:    # 짝수인 경우 == 0 == False  => else문 \n",
        "        print('-', end='')  # 홀수인 경우 - 출력\n",
        "    else:\n",
        "        print('+', end='')  # 짝수인 경우 + 출력\n",
        "\n",
        "print()"
      ],
      "execution_count": 11,
      "outputs": [
        {
          "output_type": "stream",
          "text": [
            "+와 -를 번갈아 출력합니다.\n",
            "몇 개를 출력할까요?: 15\n",
            "+-+-+-+-+-+-+-+\n"
          ],
          "name": "stdout"
        }
      ]
    },
    {
      "cell_type": "code",
      "metadata": {
        "colab": {
          "base_uri": "https://localhost:8080/"
        },
        "id": "SHPkcAS7B0Z9",
        "outputId": "01ae0cd4-090d-45f7-a8a1-100435319187"
      },
      "source": [
        "print(12 % 2)\n",
        "print('========')\n",
        "print(True == 1)\n",
        "print('========')\n",
        "print(False == 0)\n",
        "print('========')\n",
        "print(True == bool(3))    # bool() 함수는 인수로 전달된 데이터의 참과 거짓을 판단하여 반환.\n",
        "print('========')\n",
        "print(False == bool([]))    # 0 이거나 None 값은 False\n",
        "\n",
        "# https://wikidocs.net/17"
      ],
      "execution_count": 12,
      "outputs": [
        {
          "output_type": "stream",
          "text": [
            "0\n",
            "========\n",
            "True\n",
            "========\n",
            "True\n",
            "========\n",
            "True\n",
            "========\n",
            "True\n"
          ],
          "name": "stdout"
        }
      ]
    },
    {
      "cell_type": "code",
      "metadata": {
        "colab": {
          "base_uri": "https://localhost:8080/"
        },
        "id": "PTttS-97CZ3G",
        "outputId": "5984e43f-ff08-4f71-9c5d-108e50c45d7a"
      },
      "source": [
        "# +와 -를 번갈아 출력하기 1(for 문 수정)\n",
        "\n",
        "print('+와 -를 번갈아 출력합니다.')\n",
        "n = int(input('몇 개를 출력할까요?: '))\n",
        "\n",
        "for i in range(1, n + 1):  \n",
        "    if i % 2:              # 홀수\n",
        "        print('+', end='')\n",
        "    else:                  # 짝수\n",
        "        print('-', end='')\n",
        "        \n",
        "print()"
      ],
      "execution_count": 13,
      "outputs": [
        {
          "output_type": "stream",
          "text": [
            "+와 -를 번갈아 출력합니다.\n",
            "몇 개를 출력할까요?: 15\n",
            "+-+-+-+-+-+-+-+\n"
          ],
          "name": "stdout"
        }
      ]
    },
    {
      "cell_type": "code",
      "metadata": {
        "colab": {
          "base_uri": "https://localhost:8080/"
        },
        "id": "sbNZDIlFDmYq",
        "outputId": "36da7896-22c2-48a7-be6a-faee2a21f60a"
      },
      "source": [
        "# 실습 1-13\n",
        "# +와 -를 번갈아 출력하기 2\n",
        "\n",
        "print('+와 -를 번갈아 출력합니다.')\n",
        "n = int(input('몇 개를 출력할까요?: '))\n",
        "\n",
        "for _ in range(n // 2):    # 언더스코어 _ ; 값 무시하는 기능 ㅇ\n",
        "    print('+-', end='')    # n // 2개의 +-를 출력\n",
        "\n",
        "if n % 2:\n",
        "    print('+', end='')    # n이 홀수일 때만 +를 출력\n",
        "\n",
        "print()"
      ],
      "execution_count": 14,
      "outputs": [
        {
          "output_type": "stream",
          "text": [
            "+와 -를 번갈아 출력합니다.\n",
            "몇 개를 출력할까요?: 15\n",
            "+-+-+-+-+-+-+-+\n"
          ],
          "name": "stdout"
        }
      ]
    },
    {
      "cell_type": "markdown",
      "metadata": {
        "id": "gejz2c0SIThL"
      },
      "source": [
        "https://mingrammer.com/underscore-in-python/\n",
        "\n",
        "언더스코어 _"
      ]
    },
    {
      "cell_type": "code",
      "metadata": {
        "colab": {
          "base_uri": "https://localhost:8080/"
        },
        "id": "bVGB4ihOD9Fr",
        "outputId": "50fbafb0-cd5b-46da-afe7-a371297e67b9"
      },
      "source": [
        "# 실습 1-14\n",
        "# *를 n개 출력하되 w개마다 줄바꿈하기 1\n",
        "\n",
        "print('*를 출력합니다.')\n",
        "n = int(input('몇 개를 출력할까요? : '))\n",
        "w = int(input('몇 개마다 줄바꿈할까요? : '))\n",
        "\n",
        "for i in range(n):      # n번 반복\n",
        "    print('*', end='')\n",
        "    if i % w == w - 1:    # w*k + (w-1)일 때마다 줄바꿈 == w개마다 줄바꿈\n",
        "        print()         \n",
        "\n",
        "if n % w:    # n이 w의 배수가 아닐 경우를 대비하여 줄바꿈. w의 배수라면 for문 안에서 끝난다.\n",
        "    print()"
      ],
      "execution_count": 15,
      "outputs": [
        {
          "output_type": "stream",
          "text": [
            "*를 출력합니다.\n",
            "몇 개를 출력할까요? : 15\n",
            "몇 개마다 줄바꿈할까요? : 5\n",
            "*****\n",
            "*****\n",
            "*****\n"
          ],
          "name": "stdout"
        }
      ]
    },
    {
      "cell_type": "code",
      "metadata": {
        "colab": {
          "base_uri": "https://localhost:8080/"
        },
        "id": "s0_YkSp3JiOA",
        "outputId": "1cf01454-7592-453c-e7d7-33f5dfaba55f"
      },
      "source": [
        "# *를 n개 출력하되 w개마다 줄바꿈하기 2\n",
        "\n",
        "print('*를 출력합니다.')\n",
        "n = int(input('몇 개를 출력할까요?: '))\n",
        "w = int(input('몇 개마다 줄바꿈할까요?: '))\n",
        "\n",
        "for _ in range(n // w):    # n//w번 반복 ; //는 나누기 후 정수 부분만 가져옴.\n",
        "    print('*' * w)\n",
        "\n",
        "rest = n % w\n",
        "if rest:    # 나머지가 남았다면 나머지 개수만큼 출력하기\n",
        "    print('*' * rest)  # if 문 1번 판단"
      ],
      "execution_count": 16,
      "outputs": [
        {
          "output_type": "stream",
          "text": [
            "*를 출력합니다.\n",
            "몇 개를 출력할까요?: 15\n",
            "몇 개마다 줄바꿈할까요?: 5\n",
            "*****\n",
            "*****\n",
            "*****\n"
          ],
          "name": "stdout"
        }
      ]
    },
    {
      "cell_type": "code",
      "metadata": {
        "colab": {
          "base_uri": "https://localhost:8080/"
        },
        "id": "mZmyho5dJv2M",
        "outputId": "189db497-03a2-40aa-ee03-fde728795470"
      },
      "source": [
        "# 실습 1-16\n",
        "# 1부터 n까지 정수의 합 구하기(n값은 양수만 입력받음)\n",
        "\n",
        "print('1부터 n까지 정수의 합을 구합니다.')\n",
        "\n",
        "while True:    # 무한 루프\n",
        "    n = int(input('n값을 입력하세요.: '))\n",
        "    if n > 0:\n",
        "        break  # n이 양수인 경우에 한해서만 break ; 양수 값을 넣을 때까지 n을 다시 입력하게 한다.\n",
        "\n",
        "sum = 0\n",
        "i = 1\n",
        "\n",
        "for i in range(1, n + 1):\n",
        "    sum += i  # sum에 i를 더함\n",
        "    i += 1    # i에 1을 더함\n",
        "\n",
        "print(f'1부터 {n}까지 정수의 합은 {sum}입니다.')"
      ],
      "execution_count": 17,
      "outputs": [
        {
          "output_type": "stream",
          "text": [
            "1부터 n까지 정수의 합을 구합니다.\n",
            "n값을 입력하세요.: 14\n",
            "1부터 14까지 정수의 합은 105입니다.\n"
          ],
          "name": "stdout"
        }
      ]
    },
    {
      "cell_type": "code",
      "metadata": {
        "colab": {
          "base_uri": "https://localhost:8080/"
        },
        "id": "qjKzMz3dKcEk",
        "outputId": "f6830c9d-ddc2-4c9c-e126-b1efe65b081c"
      },
      "source": [
        "# 실습 1-17\n",
        "# 가로 세로가 정수이고 넓이가 area인 직사각형에서 변의 길이를 나열하기\n",
        "\n",
        "area = int(input('직사각형의 넓이를 입력하세요.: '))\n",
        "\n",
        "for i in range(1, area + 1):  \n",
        "    if i * i > area: break    # i가 가장 긴 변이 되면서 동시에 곱한 값이 area를 초과하기 때문에 for문 강제 종료\n",
        "    if area % i: continue    # area가 i로 나누어 떨어지지 않을때 continue\n",
        "    print(f'{i} × {area // i}')    # 위의 if문들을 모두 불만족할 때"
      ],
      "execution_count": 18,
      "outputs": [
        {
          "output_type": "stream",
          "text": [
            "직사각형의 넓이를 입력하세요.: 25\n",
            "1 × 25\n",
            "5 × 5\n"
          ],
          "name": "stdout"
        }
      ]
    },
    {
      "cell_type": "markdown",
      "metadata": {
        "id": "xeV1BjW1Ldv-"
      },
      "source": [
        "\n",
        "*   break문 : else문을 포함하여 while문을 강제로 종료\n",
        "*   continue문 : 반복문 스위트의 나머지 부분을 건너뜀\n"
      ]
    },
    {
      "cell_type": "code",
      "metadata": {
        "colab": {
          "base_uri": "https://localhost:8080/"
        },
        "id": "3aibb7jaKcLn",
        "outputId": "8ee9ac2e-33ee-444e-a378-2107b5e50d37"
      },
      "source": [
        "# 실습 1-18\n",
        "# 10~99 사이의 난수 n개 생성하기(13이 나오면 중단)\n",
        "\n",
        "import random\n",
        "\n",
        "n = int(input('난수의 개수를 입력하세요.: '))\n",
        "\n",
        "for _ in range(n):\n",
        "    r = random.randint(10, 99)    # 10이상 99이하의 수들 중에서 난수 생성\n",
        "    print(r, end=' ')\n",
        "    if r == 13:\n",
        "        print('\\n프로그램을 중단합니다.')\n",
        "        break\n",
        "else :\n",
        "    print('\\n난수 생성을 종료합니다.')"
      ],
      "execution_count": 19,
      "outputs": [
        {
          "output_type": "stream",
          "text": [
            "난수의 개수를 입력하세요.: 7\n",
            "55 23 14 49 10 74 16 \n",
            "난수 생성을 종료합니다.\n"
          ],
          "name": "stdout"
        }
      ]
    },
    {
      "cell_type": "code",
      "metadata": {
        "colab": {
          "base_uri": "https://localhost:8080/"
        },
        "id": "9lCoa99IQitG",
        "outputId": "8ac4a608-c85b-490b-d40f-af3a4847418d"
      },
      "source": [
        "# random()함수 : 0부터 1사이의 랜덤 실수 리턴\n",
        "random.random()"
      ],
      "execution_count": 20,
      "outputs": [
        {
          "output_type": "execute_result",
          "data": {
            "text/plain": [
              "0.058147430153095536"
            ]
          },
          "metadata": {
            "tags": []
          },
          "execution_count": 20
        }
      ]
    },
    {
      "cell_type": "code",
      "metadata": {
        "colab": {
          "base_uri": "https://localhost:8080/"
        },
        "id": "ZHdm-YZiQpse",
        "outputId": "44e6c118-1a46-477c-c0a8-e8f85de0685d"
      },
      "source": [
        "# uniform()함수 : 2개의 숫자 사이의 랜덤 실수를 리턴\n",
        "random.uniform(1, 10)  # Random float x, 1.0 <= x < 10.0"
      ],
      "execution_count": 21,
      "outputs": [
        {
          "output_type": "execute_result",
          "data": {
            "text/plain": [
              "4.63371656519454"
            ]
          },
          "metadata": {
            "tags": []
          },
          "execution_count": 21
        }
      ]
    },
    {
      "cell_type": "code",
      "metadata": {
        "colab": {
          "base_uri": "https://localhost:8080/"
        },
        "id": "vPmMRYssQvBC",
        "outputId": "7be43629-c6da-40e5-ee44-ad4e3c62171c"
      },
      "source": [
        "# randint()함수 : 2개의 숫자 사이의 랜덤 정수를 리턴\n",
        "random.randint(1, 10)  # Integer from 1 to 10, endpoints included"
      ],
      "execution_count": 22,
      "outputs": [
        {
          "output_type": "execute_result",
          "data": {
            "text/plain": [
              "9"
            ]
          },
          "metadata": {
            "tags": []
          },
          "execution_count": 22
        }
      ]
    },
    {
      "cell_type": "code",
      "metadata": {
        "colab": {
          "base_uri": "https://localhost:8080/"
        },
        "id": "cj5H0spjRWhq",
        "outputId": "1f6f53c3-13cd-4858-8022-3e69872539ae"
      },
      "source": [
        "#randrange()함수 : (start, stop, step)함수로 만들어지는 정수 중에 하나를 랜덤하게 리턴\n",
        "random.randrange(0, 101, 2)  # Even integer from 0 to 100"
      ],
      "execution_count": 23,
      "outputs": [
        {
          "output_type": "execute_result",
          "data": {
            "text/plain": [
              "4"
            ]
          },
          "metadata": {
            "tags": []
          },
          "execution_count": 23
        }
      ]
    },
    {
      "cell_type": "code",
      "metadata": {
        "colab": {
          "base_uri": "https://localhost:8080/",
          "height": 35
        },
        "id": "hxNOxBrtQ5fz",
        "outputId": "9b847fa6-efe7-4448-96d2-6cafef64bad7"
      },
      "source": [
        "# choice()함수 : 랜덤하게 하나의 원소를 선택\n",
        "random.choice('abcdefghij')  # Choose a random element"
      ],
      "execution_count": 24,
      "outputs": [
        {
          "output_type": "execute_result",
          "data": {
            "application/vnd.google.colaboratory.intrinsic+json": {
              "type": "string"
            },
            "text/plain": [
              "'f'"
            ]
          },
          "metadata": {
            "tags": []
          },
          "execution_count": 24
        }
      ]
    },
    {
      "cell_type": "code",
      "metadata": {
        "colab": {
          "base_uri": "https://localhost:8080/"
        },
        "id": "FkWMB_v7RBDy",
        "outputId": "c0232713-344c-48b8-b95e-3c07efbef603"
      },
      "source": [
        "# sample()함수 : 랜덤하게 여러 개의 원소를 선택\n",
        "random.sample([1, 2, 3, 4, 5],  3)  # Choose 3 elements"
      ],
      "execution_count": 25,
      "outputs": [
        {
          "output_type": "execute_result",
          "data": {
            "text/plain": [
              "[5, 2, 4]"
            ]
          },
          "metadata": {
            "tags": []
          },
          "execution_count": 25
        }
      ]
    },
    {
      "cell_type": "code",
      "metadata": {
        "colab": {
          "base_uri": "https://localhost:8080/"
        },
        "id": "wHA_z7W1RIWY",
        "outputId": "ab9d6a49-8005-4ca4-90b6-b4bbb15f81eb"
      },
      "source": [
        "# shuffle()함수 : 원소의 순서를 랜덤하게 바꾼다.\n",
        "items = [1, 2, 3, 4, 5, 6, 7]\n",
        "random.shuffle(items)\n",
        "items"
      ],
      "execution_count": 26,
      "outputs": [
        {
          "output_type": "execute_result",
          "data": {
            "text/plain": [
              "[5, 7, 1, 4, 6, 3, 2]"
            ]
          },
          "metadata": {
            "tags": []
          },
          "execution_count": 26
        }
      ]
    },
    {
      "cell_type": "code",
      "metadata": {
        "colab": {
          "base_uri": "https://localhost:8080/"
        },
        "id": "7Vyk2SyRMfxR",
        "outputId": "cd09eec2-be2d-4721-f3da-4cb1f0b4cdef"
      },
      "source": [
        "# 실습 1-19\n",
        "# 1~12까지 8을 건너뛰고 출력하기 1\n",
        "\n",
        "for i in range(1, 13):\n",
        "    if i == 8:    # 이 하나의 숫자를 건너뛰게 하는데에 조건식 판단을 반복해서 함 => 비효율적\n",
        "        continue\n",
        "    print(i, end=' ')\n",
        "    \n",
        "print()"
      ],
      "execution_count": 27,
      "outputs": [
        {
          "output_type": "stream",
          "text": [
            "1 2 3 4 5 6 7 9 10 11 12 \n"
          ],
          "name": "stdout"
        }
      ]
    },
    {
      "cell_type": "code",
      "metadata": {
        "colab": {
          "base_uri": "https://localhost:8080/"
        },
        "id": "-rYsF-OoKcSE",
        "outputId": "c86fb2b8-76fb-4b2c-e664-bde0d20ae31b"
      },
      "source": [
        "# 실습 1-20\n",
        "# 1부터 12까지 8을 건너 뛰고 출력하기 2\n",
        "\n",
        "for i in list(range(1, 8)) + list(range(9, 13)):    # 이터러블 list 연산 활용 but 아직 반복을 위한 연산 비용 여전히 발생\n",
        "    print(i, end=' ')\n",
        "print()"
      ],
      "execution_count": 28,
      "outputs": [
        {
          "output_type": "stream",
          "text": [
            "1 2 3 4 5 6 7 9 10 11 12 \n"
          ],
          "name": "stdout"
        }
      ]
    },
    {
      "cell_type": "code",
      "metadata": {
        "colab": {
          "base_uri": "https://localhost:8080/"
        },
        "id": "Aqi-SHKvKcYb",
        "outputId": "243ad245-99a5-4985-f14d-1e680d356b72"
      },
      "source": [
        "# 보충수업 1-11 : 비교 연산자를 연속으로 사용하는 방법과 드모르간의 법칙\n",
        "# 2자리 양수(10 ~ 99) 입력받기\n",
        "\n",
        "print('2자리 양수를 입력하세요.')\n",
        "\n",
        "while True:\n",
        "    no = int(input('값을 입력하세요.: '))\n",
        "    if no >= 10 and no <= 99:\n",
        "        break\n",
        "\n",
        "print(f'입력받은 양수는 {no}입니다.')"
      ],
      "execution_count": 29,
      "outputs": [
        {
          "output_type": "stream",
          "text": [
            "2자리 양수를 입력하세요.\n",
            "값을 입력하세요.: 48\n",
            "입력받은 양수는 48입니다.\n"
          ],
          "name": "stdout"
        }
      ]
    },
    {
      "cell_type": "code",
      "metadata": {
        "colab": {
          "base_uri": "https://localhost:8080/"
        },
        "id": "viaAIY4MOBND",
        "outputId": "1c4fb181-b636-4fea-f9c3-86d2712922b5"
      },
      "source": [
        "# 2자리 양수(10 ~ 99) 입력받기 2\n",
        "\n",
        "print('2자리 양수를 입력하세요.')\n",
        "\n",
        "while True:\n",
        "    no = int(input('값을 입력하세요.: '))\n",
        "    if 10 <= no <= 99:    # and 결합\n",
        "        break\n",
        "\n",
        "print(f'입력받은 양수는 {no}입니다.')"
      ],
      "execution_count": 30,
      "outputs": [
        {
          "output_type": "stream",
          "text": [
            "2자리 양수를 입력하세요.\n",
            "값을 입력하세요.: 9\n",
            "값을 입력하세요.: 48\n",
            "입력받은 양수는 48입니다.\n"
          ],
          "name": "stdout"
        }
      ]
    },
    {
      "cell_type": "code",
      "metadata": {
        "colab": {
          "base_uri": "https://localhost:8080/"
        },
        "id": "r8N3TeEWOP8r",
        "outputId": "c7406d40-0e81-400a-88e5-3568c2ea8d33"
      },
      "source": [
        "# 2자리 양수(10~99) 입력받기 3\n",
        "\n",
        "print('2자리 양수를 입력하세요.')\n",
        "\n",
        "while True:\n",
        "    no = int(input('값을 입력하세요.: '))\n",
        "    if not(no < 10 or no > 99):    # 드모르간 법칙 \n",
        "        break\n",
        "\n",
        "print(f'입력받은 양수는 {no}입니다.')"
      ],
      "execution_count": 31,
      "outputs": [
        {
          "output_type": "stream",
          "text": [
            "2자리 양수를 입력하세요.\n",
            "값을 입력하세요.: 9\n",
            "값을 입력하세요.: 48\n",
            "입력받은 양수는 48입니다.\n"
          ],
          "name": "stdout"
        }
      ]
    },
    {
      "cell_type": "markdown",
      "metadata": {
        "id": "VobYDE31Sqcj"
      },
      "source": [
        "**용어 정리**\n",
        "\n",
        "* 구조적 프로그래밍 : 입력과 출력으로 이루어진 구성 요소를 계층으로 배치하여 프로그램을 구성하는 방법을 구조적 프로그래밍이라고 한다. 구조적 프로그래밍은 순차, 선택, 반복이라는 세 종류의 제어 흐름을 사용한다.\n",
        "\n",
        "*가볍게 심화 들어가기*\n",
        "\n",
        "1. 순차적 프로그래밍, 비구조적 프로그래밍\n",
        "\n",
        "    순차적으로 코드를 읽으며 돌아가는 구조. 즉, 코드의 흐름, 순서에 기반하는 프로그래밍.\n",
        "\n",
        "2. 절차적 프로그래밍\n",
        "\n",
        "    여기서 절차는 순수한 의미의 절차가 아닌 Procedual인 프로시저, 함수를 의미한다. 반복될 가능성이 있는 모듈을\n",
        "재사용 가능한 프로시저 단위(함수단위)로 나눈 프로그래밍.\n",
        "\n",
        "3. 구조적 프로그래밍\n",
        "\n",
        "    앞선 프로그래밍에서는 함수 단위로 나눈 것에 비해 모듈을 기준으로 나뉜다.여기서 모듈이란 물리적인 소스파일을 의미하는 것으로, 다시 말해 비슷한 역할을 수행하는 프로시저들끼리 소스파일로 묶은 것이다. \n",
        "\n",
        "* 구조적 프로그래밍의 문제점\n",
        "\n",
        "    프로시저라는 것은 추상적인 단위. 그러나 프로그램에서는 추상적인 것뿐만 아니라 메모리(물리적 매체)에 저장한다 등과 같은 물리적인 요소들도 존재. 즉, 물리적인 요소(변수나 상수등의 값들)를 관리하는 방법에 대해 깊게 논할 방법이 없음. 예를 들어, 도서관리 프로그램을 작성한다고 할 때, 책이라는 자료형과 그 책에 대한 함수 필요. 구조적 프로그래밍에서는 이 둘을 따로 분리하여 생각할 수 밖에 없음. 이를 소스파일에 묶어두더라도 코드가 길어지면서 사용자 입장에서 불편함이 있을 수 있음. 책에 대한 자료형과 책에 대한 함수가 물리적으로는(기록되는곳) 같이 있을 수 있지만(모듈) 논리적으로는(개념) 함께 할 수 없는 구조임. -> 해결책 : 객체 지향 프로그래밍\n",
        "\n",
        "4. 객체 지향 프로그래밍\n",
        "\n",
        "    특정 개념의 함수와 자료형을 함께 묶어서 관리할 수 있게끔 '객체'라는 개념 만듦. 모든 객체는 그 내부에 자료형(Field)와 함수(Method)가 존재. 이로 인해서 책이라는 자료를 객체 모델로 만든다면 그 책의 쪽수나,이름과 같은 자료형 뿐만 아니라 책을 읽기, 책을 만들기 등의 함수들 역시 \"책\"이라는 객체로 묶어 놓는 것. \n",
        "\n",
        "더욱 발전한 양상을 띠기도 하고 다른 새로운 프로그래밍이 부상하기도 하는 시대이기 때문에 이것이 전부라고는 생각하지 말자. \n",
        "\n",
        "https://kamang-it.tistory.com/entry/%ED%94%84%EB%A1%9C%EA%B7%B8%EB%9E%98%EB%B0%8D-%ED%8C%A8%EB%9F%AC%EB%8B%A4%EC%9E%84%EC%88%9C%EC%B0%A8%EC%A0%81%EB%B9%84%EA%B5%AC%EC%A1%B0%EC%A0%81%EC%A0%88%EC%B0%A8%EC%A0%81%EA%B5%AC%EC%A1%B0%EC%A0%81%EA%B0%9D%EC%B2%B4%EC%A7%80%ED%96%A5%EC%A0%81-%ED%94%84%EB%A1%9C%EA%B7%B8%EB%9E%98%EB%B0%8D"
      ]
    },
    {
      "cell_type": "code",
      "metadata": {
        "colab": {
          "base_uri": "https://localhost:8080/"
        },
        "id": "Se4OaEElOYrv",
        "outputId": "6ddf6fa7-4bf8-4135-c31b-c113c99f30c5"
      },
      "source": [
        "# 실습 1-21\n",
        "# 구구단 곱셈표 출력하기\n",
        "\n",
        "print('-' * 27)\n",
        "for i in range(1, 10):            # 행 루프\n",
        "    for j in range(1, 10):        # 열 루프\n",
        "        print(f'{i * j :3}', end='')    # 일정한 간격으로 띄워 출력하기 위해 3자리로 설정\n",
        "    print()                       # 행 변경\n",
        "print('-' * 27)"
      ],
      "execution_count": 32,
      "outputs": [
        {
          "output_type": "stream",
          "text": [
            "---------------------------\n",
            "  1  2  3  4  5  6  7  8  9\n",
            "  2  4  6  8 10 12 14 16 18\n",
            "  3  6  9 12 15 18 21 24 27\n",
            "  4  8 12 16 20 24 28 32 36\n",
            "  5 10 15 20 25 30 35 40 45\n",
            "  6 12 18 24 30 36 42 48 54\n",
            "  7 14 21 28 35 42 49 56 63\n",
            "  8 16 24 32 40 48 56 64 72\n",
            "  9 18 27 36 45 54 63 72 81\n",
            "---------------------------\n"
          ],
          "name": "stdout"
        }
      ]
    },
    {
      "cell_type": "code",
      "metadata": {
        "colab": {
          "base_uri": "https://localhost:8080/"
        },
        "id": "ymslwE0-To2G",
        "outputId": "60275800-9335-4c08-c568-31fb6217976d"
      },
      "source": [
        "# 실습 1-22\n",
        "# 왼쪽 아래가 직각인 이등변 삼각형으로 * 출력하기\n",
        "\n",
        "print('왼쪽 아래가 직각인 이등변 삼각형을 출력합니다.')\n",
        "n = int(input('짧은 변의 길이를 입력하세요.: '))\n",
        "\n",
        "for i in range(n):                   # 행 루프 : i는 0, 1, n-1\n",
        "    for j in range( i+1 ):           # 열 루프 : j는 0,1,i\n",
        "        print('*', end='')\n",
        "    print()"
      ],
      "execution_count": 33,
      "outputs": [
        {
          "output_type": "stream",
          "text": [
            "왼쪽 아래가 직각인 이등변 삼각형을 출력합니다.\n",
            "짧은 변의 길이를 입력하세요.: 5\n",
            "*\n",
            "**\n",
            "***\n",
            "****\n",
            "*****\n"
          ],
          "name": "stdout"
        }
      ]
    },
    {
      "cell_type": "code",
      "metadata": {
        "colab": {
          "base_uri": "https://localhost:8080/"
        },
        "id": "vhsD4A5GVslr",
        "outputId": "fcbad89b-7f8f-4b48-9120-f687c6e68438"
      },
      "source": [
        "# 실습 1-23\n",
        "# 오른쪽 아래가 직각인 이등변 삼각형으로 * 출력하기\n",
        "\n",
        "print('오른쪽 아래가 직각인 이등변 삼각형을 출력합니다.')\n",
        "n = int(input('짧은 변 길이를 입력하세요.: '))\n",
        "\n",
        "for i in range(n):                      # 행 루프\n",
        "    for _ in range( n-i-1 ):            # 열 루프(공백을 출력)\n",
        "        print(' ', end='')\n",
        "    for _ in range( i+1 ):\n",
        "        print('*', end='')              # 열 루프(*을 출력)\n",
        "    print()"
      ],
      "execution_count": 34,
      "outputs": [
        {
          "output_type": "stream",
          "text": [
            "오른쪽 아래가 직각인 이등변 삼각형을 출력합니다.\n",
            "짧은 변 길이를 입력하세요.: 5\n",
            "    *\n",
            "   **\n",
            "  ***\n",
            " ****\n",
            "*****\n"
          ],
          "name": "stdout"
        }
      ]
    },
    {
      "cell_type": "code",
      "metadata": {
        "colab": {
          "base_uri": "https://localhost:8080/"
        },
        "id": "8MIMcLolWpLB",
        "outputId": "0841b7b4-3c53-436b-93ec-9b1c9928982d"
      },
      "source": [
        "print('오른쪽 아래가 직각인 이등변 삼각형을 출력합니다.')\n",
        "n = int(input('짧은 변 길이를 입력하세요.: '))\n",
        "\n",
        "for i in range(n):    # n=5 // i : 0, 1, 4\n",
        "    for j in range( n-i-1 ):    #(n-1)-i = 4-i // j : 0, 1, 3-i \n",
        "        print(j, end='')\n",
        "    for _ in range( i+1 ):\n",
        "        print('*', end='')              # 열 루프(*을 출력)\n",
        "    print()"
      ],
      "execution_count": 35,
      "outputs": [
        {
          "output_type": "stream",
          "text": [
            "오른쪽 아래가 직각인 이등변 삼각형을 출력합니다.\n",
            "짧은 변 길이를 입력하세요.: 5\n",
            "0123*\n",
            "012**\n",
            "01***\n",
            "0****\n",
            "*****\n"
          ],
          "name": "stdout"
        }
      ]
    },
    {
      "cell_type": "markdown",
      "metadata": {
        "id": "zyDUx4eeX9YB"
      },
      "source": [
        "파이썬은 **객체 지향 프로그래밍** :\n",
        "\n",
        "데이터, 함수, 클래스, 모듈, 패키지 등을 모두 객체object로 취급.\n",
        "\n",
        "객체는 자료형data type을 가지며 메모리(저장공간)을 차지한다.\n",
        "\n",
        "또한 다른 객체와 구별할 수 있는 객체 고유의 번호인 식별 번호(identity)도 가진다.\n",
        "\n",
        "이런 특징 때문에 파이썬의 변수는 값을 갖지 않는다.\n",
        "\n",
        "즉, 정리하자면\n",
        "\n",
        "* 파이썬에서 변수는 객체를 참조하는 객체에 연결된 이름에 \n",
        "불과하다.\n",
        "\n",
        "* 모든 객체는 메모리를 차지하고, 자료형뿐만 아니라 식별 변호를 가진다."
      ]
    },
    {
      "cell_type": "code",
      "metadata": {
        "colab": {
          "base_uri": "https://localhost:8080/"
        },
        "id": "5eFpAafYXCkh",
        "outputId": "41e8290f-ff89-4729-fc6d-b0f7fecb66a6"
      },
      "source": [
        "n = 17\n",
        "print('17의 식별 번호: ',id(17))\n",
        "print('n의 식별 번호: ',id(n))"
      ],
      "execution_count": 36,
      "outputs": [
        {
          "output_type": "stream",
          "text": [
            "17의 식별 번호:  94227010956288\n",
            "n의 식별 번호:  94227010956288\n"
          ],
          "name": "stdout"
        }
      ]
    },
    {
      "cell_type": "code",
      "metadata": {
        "colab": {
          "base_uri": "https://localhost:8080/"
        },
        "id": "UrW8Xj8uYpo_",
        "outputId": "8314f2ef-6acb-4f2e-fa91-c090d4f1e4ea"
      },
      "source": [
        "# 실습 1C-4\n",
        "# 함수의 내부·외부에서 정의한 변수와 객체의 식별 번호를 출력\n",
        "\n",
        "n = 1      # 전역 변수(global variable) : 함수 내부·외부에서 사용\n",
        "def put_id():\n",
        "    x = 1  # 지역 변수(local variable) : 함수 내부에서만 사용\n",
        "    print(f'id(x) = {id(x)}')\n",
        "    \n",
        "print(f'id(1) = {id(1)}')\n",
        "print(f'id(n) = {id(n)}')\n",
        "put_id()\n",
        "print('n과 x는 모두 int형 객체 1을 참조하는 이름에 불과하다.\\n1이라는 int형 객체 자체가 상자라고 할 수 있고 변수는 단순한 이름에 불과한 것')"
      ],
      "execution_count": 40,
      "outputs": [
        {
          "output_type": "stream",
          "text": [
            "id(1) = 94227010955776\n",
            "id(n) = 94227010955776\n",
            "id(x) = 94227010955776\n",
            "n과 x는 모두 int형 객체 1을 참조하는 이름에 불과하다.\n",
            "1이라는 int형 객체 자체가 상자라고 할 수 있고 변수는 단순한 이름에 불과한 것\n"
          ],
          "name": "stdout"
        }
      ]
    },
    {
      "cell_type": "code",
      "metadata": {
        "colab": {
          "base_uri": "https://localhost:8080/"
        },
        "id": "9hki_RjFY6Bu",
        "outputId": "b52b2ad9-b317-4d7d-83c5-7920dd38749d"
      },
      "source": [
        "# 실습 1C-5\n",
        "# 1부터 20까지 반복하여 출력\n",
        "\n",
        "for i in range(1, 21):\n",
        "    print(f'i = {i:3}   id(i) = {id(i)}')"
      ],
      "execution_count": 41,
      "outputs": [
        {
          "output_type": "stream",
          "text": [
            "i =   1   id(i) = 94227010955776\n",
            "i =   2   id(i) = 94227010955808\n",
            "i =   3   id(i) = 94227010955840\n",
            "i =   4   id(i) = 94227010955872\n",
            "i =   5   id(i) = 94227010955904\n",
            "i =   6   id(i) = 94227010955936\n",
            "i =   7   id(i) = 94227010955968\n",
            "i =   8   id(i) = 94227010956000\n",
            "i =   9   id(i) = 94227010956032\n",
            "i =  10   id(i) = 94227010956064\n",
            "i =  11   id(i) = 94227010956096\n",
            "i =  12   id(i) = 94227010956128\n",
            "i =  13   id(i) = 94227010956160\n",
            "i =  14   id(i) = 94227010956192\n",
            "i =  15   id(i) = 94227010956224\n",
            "i =  16   id(i) = 94227010956256\n",
            "i =  17   id(i) = 94227010956288\n",
            "i =  18   id(i) = 94227010956320\n",
            "i =  19   id(i) = 94227010956352\n",
            "i =  20   id(i) = 94227010956384\n"
          ],
          "name": "stdout"
        }
      ]
    }
  ]
}