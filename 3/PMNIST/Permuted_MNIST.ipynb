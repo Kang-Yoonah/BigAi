{
  "nbformat": 4,
  "nbformat_minor": 0,
  "metadata": {
    "colab": {
      "name": "Permuted MNIST.ipynb",
      "provenance": [],
      "authorship_tag": "ABX9TyPI26OFMqs8pNE6cXn31czx"
    },
    "kernelspec": {
      "name": "python3",
      "display_name": "Python 3"
    },
    "language_info": {
      "name": "python"
    },
    "accelerator": "GPU"
  },
  "cells": [
    {
      "cell_type": "markdown",
      "source": [
        "#Data"
      ],
      "metadata": {
        "id": "HYexT6PnkwUE"
      }
    },
    {
      "cell_type": "code",
      "source": [
        "import numpy as np\n",
        "import pandas as pd\n",
        "import matplotlib.pyplot as plt\n",
        "\n",
        "import torch\n",
        "import torch.nn.init\n",
        "from torch.utils.data import Dataset,DataLoader,TensorDataset\n",
        "from torchvision import datasets, transforms\n",
        "\n",
        "import warnings\n",
        "warnings.filterwarnings('ignore')"
      ],
      "metadata": {
        "id": "59U6TWedk0Is"
      },
      "execution_count": 25,
      "outputs": []
    },
    {
      "cell_type": "code",
      "source": [
        "# Image to Tensor\n",
        "transform = transforms.ToTensor()"
      ],
      "metadata": {
        "id": "9pIC9uogqq49"
      },
      "execution_count": 26,
      "outputs": []
    },
    {
      "cell_type": "code",
      "source": [
        "train = datasets.MNIST(root='../data', train=True, download=True, transform=transform)\n",
        "test = datasets.MNIST(root='../data',train=False, download=True, transform=transform)"
      ],
      "metadata": {
        "id": "tOKC5cN6qu59"
      },
      "execution_count": 27,
      "outputs": []
    },
    {
      "cell_type": "code",
      "source": [
        "train"
      ],
      "metadata": {
        "colab": {
          "base_uri": "https://localhost:8080/"
        },
        "id": "8QhTrwc2seAr",
        "outputId": "a7550b03-44e9-4bc6-b5c8-0abb358d93b4"
      },
      "execution_count": 28,
      "outputs": [
        {
          "output_type": "execute_result",
          "data": {
            "text/plain": [
              "Dataset MNIST\n",
              "    Number of datapoints: 60000\n",
              "    Root location: ../data\n",
              "    Split: Train\n",
              "    StandardTransform\n",
              "Transform: ToTensor()"
            ]
          },
          "metadata": {},
          "execution_count": 28
        }
      ]
    },
    {
      "cell_type": "code",
      "source": [
        "test"
      ],
      "metadata": {
        "colab": {
          "base_uri": "https://localhost:8080/"
        },
        "id": "kp_6ge68vPJ2",
        "outputId": "04430e5e-9cc5-4c07-cabd-d3f47a682f16"
      },
      "execution_count": 29,
      "outputs": [
        {
          "output_type": "execute_result",
          "data": {
            "text/plain": [
              "Dataset MNIST\n",
              "    Number of datapoints: 10000\n",
              "    Root location: ../data\n",
              "    Split: Test\n",
              "    StandardTransform\n",
              "Transform: ToTensor()"
            ]
          },
          "metadata": {},
          "execution_count": 29
        }
      ]
    },
    {
      "cell_type": "code",
      "source": [
        "image, label = train[0]\n",
        "print(f'Image\\'s shape : {image.shape}')"
      ],
      "metadata": {
        "colab": {
          "base_uri": "https://localhost:8080/"
        },
        "id": "PSturk-kqy1t",
        "outputId": "528f672d-2b75-441c-920c-7a67c0ae6e62"
      },
      "execution_count": 30,
      "outputs": [
        {
          "output_type": "stream",
          "name": "stdout",
          "text": [
            "Image's shape : torch.Size([1, 28, 28])\n"
          ]
        }
      ]
    },
    {
      "cell_type": "code",
      "source": [
        "plt.title('Labeled = 5')\n",
        "plt.imshow(image.reshape(28,28),cmap='gist_yarg')\n",
        "plt.show()"
      ],
      "metadata": {
        "colab": {
          "base_uri": "https://localhost:8080/",
          "height": 281
        },
        "id": "yOJ_wUQErKG1",
        "outputId": "0f4199d5-12a7-48b0-a9d8-0328d265c002"
      },
      "execution_count": 31,
      "outputs": [
        {
          "output_type": "display_data",
          "data": {
            "text/plain": [
              "<Figure size 432x288 with 1 Axes>"
            ],
            "image/png": "[encoded data removed]"
          },
          "metadata": {
            "needs_background": "light"
          }
        }
      ]
    },
    {
      "cell_type": "code",
      "source": [
        "# Permutation for trian data\n",
        "train_images = torch.empty(60000,1,28,28)\n",
        "train_labels = list(range(60000))\n",
        "for i in range(60000):\n",
        "    im, l = train[i]\n",
        "    t = im[0]\n",
        "    train_images[i][0] = t[torch.randperm(t.size(0))]\n",
        "    train_labels[i] = train[i][1]\n",
        "\n",
        "# Permutation for test data\n",
        "test_images = torch.empty(10000,1,28,28)\n",
        "test_labels = list(range(10000))\n",
        "for i in range(10000):\n",
        "    im, l = test[i]\n",
        "    t = im[0]\n",
        "    test_images[i][0] = t[torch.randperm(t.size(0))]\n",
        "    test_labels[i] = test[i][1]"
      ],
      "metadata": {
        "id": "ygaopZiEngCg"
      },
      "execution_count": 32,
      "outputs": []
    },
    {
      "cell_type": "code",
      "source": [
        "#확인\n",
        "plt.title(f'Labeled = {train_labels[0]}')\n",
        "plt.imshow(train_images[0].reshape(28,28),cmap='gist_yarg')\n",
        "plt.show()"
      ],
      "metadata": {
        "colab": {
          "base_uri": "https://localhost:8080/",
          "height": 281
        },
        "id": "3LPI4KEeHFLc",
        "outputId": "de75f760-c6f3-4a03-fb60-2402830d200d"
      },
      "execution_count": 33,
      "outputs": [
        {
          "output_type": "display_data",
          "data": {
            "text/plain": [
              "<Figure size 432x288 with 1 Axes>"
            ],
            "image/png": "[encoded data removed]"
          },
          "metadata": {
            "needs_background": "light"
          }
        }
      ]
    },
    {
      "cell_type": "code",
      "source": [
        "train_labels = torch.LongTensor(train_labels)\n",
        "test_labels = torch.LongTensor(test_labels)\n",
        "\n",
        "train_data = TensorDataset(train_images, train_labels)\n",
        "test_data = TensorDataset(test_images, test_labels)"
      ],
      "metadata": {
        "id": "MJkrDAdlKS7-"
      },
      "execution_count": 34,
      "outputs": []
    },
    {
      "cell_type": "markdown",
      "source": [
        "# Model"
      ],
      "metadata": {
        "id": "FYtemCbLHySx"
      }
    },
    {
      "cell_type": "code",
      "source": [
        "#GPU 사용\n",
        "USE_CUDA = torch.cuda.is_available() # GPU를 사용가능하면 True, 아니라면 False를 리턴\n",
        "device = torch.device(\"cuda\" if USE_CUDA else \"cpu\") # GPU 사용 가능하면 사용하고 아니면 CPU 사용\n",
        "print(\"다음 기기로 학습합니다:\", device)"
      ],
      "metadata": {
        "colab": {
          "base_uri": "https://localhost:8080/"
        },
        "id": "XZnCWu7HPXS4",
        "outputId": "6bf1ae7f-40b6-40a5-91dd-6c3f6534843b"
      },
      "execution_count": 35,
      "outputs": [
        {
          "output_type": "stream",
          "name": "stdout",
          "text": [
            "다음 기기로 학습합니다: cuda\n"
          ]
        }
      ]
    },
    {
      "cell_type": "code",
      "source": [
        "# 랜덤시드 고정!\n",
        "torch.manual_seed(777)\n",
        "if device == 'cuda':\n",
        "    torch.cuda.manual_seed_all(777)"
      ],
      "metadata": {
        "id": "3VvbkvNIOVKF"
      },
      "execution_count": 36,
      "outputs": []
    },
    {
      "cell_type": "code",
      "source": [
        "# 학습파라미터 설정\n",
        "learning_rate = 0.001\n",
        "training_epochs = 30\n",
        "batch_size = 100\n",
        "\n",
        "train_loader = DataLoader(train_data, batch_size=batch_size, shuffle=True)"
      ],
      "metadata": {
        "id": "FRQfEYIWOWV1"
      },
      "execution_count": 37,
      "outputs": []
    },
    {
      "cell_type": "markdown",
      "source": [
        "## CNN"
      ],
      "metadata": {
        "id": "xnAehltJlUOO"
      }
    },
    {
      "cell_type": "code",
      "source": [
        "class CNN(torch.nn.Module):\n",
        "\n",
        "    def __init__(self):\n",
        "        super(CNN, self).__init__()\n",
        "        # 첫번째층\n",
        "        # ImgIn shape=(60000, 28, 28, 1)\n",
        "        #    Conv     -> (60000, 28, 28, 32)\n",
        "        #    Pool     -> (60000, 14, 14, 32)\n",
        "        self.layer1 = torch.nn.Sequential(\n",
        "            torch.nn.Conv2d(1, 32, kernel_size=3, stride=1, padding=1),\n",
        "            torch.nn.ReLU(),\n",
        "            torch.nn.MaxPool2d(kernel_size=2, stride=2))\n",
        "\n",
        "        # 두번째층\n",
        "        # ImgIn shape=(60000, 14, 14, 32)\n",
        "        #    Conv      ->(60000, 14, 14, 64)\n",
        "        #    Pool      ->(60000, 7, 7, 64)\n",
        "        self.layer2 = torch.nn.Sequential(\n",
        "            torch.nn.Conv2d(32, 64, kernel_size=3, stride=1, padding=1),\n",
        "            torch.nn.ReLU(),\n",
        "            torch.nn.MaxPool2d(kernel_size=2, stride=2))\n",
        "\n",
        "        # 전결합층 7x7x64 inputs -> 10 outputs\n",
        "        self.fc = torch.nn.Linear(7 * 7 * 64, 10, bias=True)\n",
        "\n",
        "        # 전결합층 한정으로 가중치 초기화\n",
        "        torch.nn.init.xavier_uniform_(self.fc.weight)\n",
        "\n",
        "    def forward(self, x):\n",
        "        out = self.layer1(x)\n",
        "        out = self.layer2(out)\n",
        "        out = out.view(out.size(0), -1)   # 전결합층을 위해서 Flatten\n",
        "        out = self.fc(out)\n",
        "        return out"
      ],
      "metadata": {
        "id": "JBfrkSQjlVuK"
      },
      "execution_count": 38,
      "outputs": []
    },
    {
      "cell_type": "code",
      "source": [
        "# 모델 정의\n",
        "model = CNN().to(device)\n",
        "\n",
        "# 비용함수와 옵티마이저 정의\n",
        "criterion = torch.nn.CrossEntropyLoss().to(device)    # 비용 함수에 소프트맥스 함수 포함되어져 있음.\n",
        "optimizer = torch.optim.Adam(model.parameters(), lr=learning_rate)\n",
        "\n",
        "total_batch = len(train_loader)\n",
        "print(f'총 배치의 수 : {total_batch}')"
      ],
      "metadata": {
        "colab": {
          "base_uri": "https://localhost:8080/"
        },
        "id": "i4Dw7hGQlu34",
        "outputId": "53881b2c-2b84-47ab-f194-f9898a3b674f"
      },
      "execution_count": 39,
      "outputs": [
        {
          "output_type": "stream",
          "name": "stdout",
          "text": [
            "총 배치의 수 : 600\n"
          ]
        }
      ]
    },
    {
      "cell_type": "code",
      "source": [
        "# 훈련\n",
        "for epoch in range(training_epochs):\n",
        "    avg_cost = 0\n",
        "\n",
        "    for X, Y in train_loader: # 미니 배치 단위로 꺼내온다. X는 미니 배치, Y는 레이블.\n",
        "        # 이미지가 이미 (28x28)로 되어있으므로, no reshape\n",
        "        X = X.to(device)\n",
        "        Y = Y.to(device)\n",
        "\n",
        "        optimizer.zero_grad()\n",
        "        hypothesis = model(X)\n",
        "        cost = criterion(hypothesis, Y)\n",
        "        cost.backward()\n",
        "        optimizer.step()\n",
        "\n",
        "        avg_cost += cost / total_batch\n",
        "    if epoch % 4 == 0:\n",
        "        print(f'[Epoch: {epoch+1:>4}] cost = {avg_cost:>.9}')"
      ],
      "metadata": {
        "colab": {
          "base_uri": "https://localhost:8080/"
        },
        "id": "-kvcNHJmmA6A",
        "outputId": "b41c4596-e7d7-45dc-e731-6b2245de4ae0"
      },
      "execution_count": 40,
      "outputs": [
        {
          "output_type": "stream",
          "name": "stdout",
          "text": [
            "[Epoch:    1] cost = 1.34375799\n",
            "[Epoch:    5] cost = 0.737468064\n",
            "[Epoch:    9] cost = 0.591634035\n",
            "[Epoch:   13] cost = 0.510418057\n",
            "[Epoch:   17] cost = 0.45524317\n",
            "[Epoch:   21] cost = 0.41242227\n",
            "[Epoch:   25] cost = 0.379807025\n",
            "[Epoch:   29] cost = 0.348248094\n"
          ]
        }
      ]
    },
    {
      "cell_type": "code",
      "source": [
        "# 학습을 진행하지 않을 것이므로 torch.no_grad()\n",
        "with torch.no_grad():\n",
        "    X_test = test_images.view(len(test_images), 1, 28, 28).float().to(device)\n",
        "    Y_test = test_labels.to(device)\n",
        "\n",
        "    prediction = model(X_test)\n",
        "    correct_prediction = torch.argmax(prediction, 1) == Y_test\n",
        "    accuracy = correct_prediction.float().mean()\n",
        "    print('Accuracy:', accuracy.item())"
      ],
      "metadata": {
        "colab": {
          "base_uri": "https://localhost:8080/"
        },
        "id": "-A4qHMA2pXai",
        "outputId": "5b3dc7fb-8c5a-418d-f19e-ec056f5cb43e"
      },
      "execution_count": 41,
      "outputs": [
        {
          "output_type": "stream",
          "name": "stdout",
          "text": [
            "Accuracy: 0.7806999683380127\n"
          ]
        }
      ]
    },
    {
      "cell_type": "code",
      "source": [
        "# 좀더 깊은 CNN\n",
        "class CNN(torch.nn.Module):\n",
        "\n",
        "    def __init__(self):\n",
        "        super(CNN, self).__init__()\n",
        "        self.keep_prob = 0.5\n",
        "        # L1 ImgIn shape=(60000, 28, 28, 1)\n",
        "        #    Conv     -> (60000, 28, 28, 32)\n",
        "        #    Pool     -> (60000, 14, 14, 32)\n",
        "        self.layer1 = torch.nn.Sequential(\n",
        "            torch.nn.Conv2d(1, 32, kernel_size=3, stride=1, padding=1),\n",
        "            torch.nn.ReLU(),\n",
        "            torch.nn.MaxPool2d(kernel_size=2, stride=2))\n",
        "        # L2 ImgIn shape=(60000, 14, 14, 32)\n",
        "        #    Conv      ->(60000, 14, 14, 64)\n",
        "        #    Pool      ->(60000, 7, 7, 64)\n",
        "        self.layer2 = torch.nn.Sequential(\n",
        "            torch.nn.Conv2d(32, 64, kernel_size=3, stride=1, padding=1),\n",
        "            torch.nn.ReLU(),\n",
        "            torch.nn.MaxPool2d(kernel_size=2, stride=2))\n",
        "        # L3 ImgIn shape=(60000, 7, 7, 64)\n",
        "        #    Conv      ->(60000, 7, 7, 128)\n",
        "        #    Pool      ->(60000, 4, 4, 128)\n",
        "        self.layer3 = torch.nn.Sequential(\n",
        "            torch.nn.Conv2d(64, 128, kernel_size=3, stride=1, padding=1),\n",
        "            torch.nn.ReLU(),\n",
        "            torch.nn.MaxPool2d(kernel_size=2, stride=2, padding=1))\n",
        "\n",
        "        # L4 FC 4x4x128 inputs -> 625 outputs\n",
        "        self.fc1 = torch.nn.Linear(4 * 4 * 128, 625, bias=True)\n",
        "        torch.nn.init.xavier_uniform_(self.fc1.weight)\n",
        "        self.layer4 = torch.nn.Sequential(\n",
        "            self.fc1,\n",
        "            torch.nn.ReLU(),\n",
        "            torch.nn.Dropout(p=1 - self.keep_prob))\n",
        "        # L5 Final FC 625 inputs -> 10 outputs\n",
        "        self.fc2 = torch.nn.Linear(625, 10, bias=True)\n",
        "        torch.nn.init.xavier_uniform_(self.fc2.weight)\n",
        "\n",
        "    def forward(self, x):\n",
        "        out = self.layer1(x)\n",
        "        out = self.layer2(out)\n",
        "        out = self.layer3(out)\n",
        "        out = out.view(out.size(0), -1)   # Flatten them for FC\n",
        "        out = self.layer4(out)\n",
        "        out = self.fc2(out)\n",
        "        return out"
      ],
      "metadata": {
        "id": "tqkK5iYBp8ek"
      },
      "execution_count": 50,
      "outputs": []
    },
    {
      "cell_type": "code",
      "source": [
        "# CNN 모델 정의\n",
        "model2 = CNN().to(device)\n",
        "\n",
        "criterion = torch.nn.CrossEntropyLoss().to(device)   \n",
        "optimizer = torch.optim.Adam(model2.parameters(), lr=learning_rate)\n",
        "\n",
        "total_batch2 = len(train_loader)\n",
        "print(f'총 배치의 수 : {total_batch2}')"
      ],
      "metadata": {
        "colab": {
          "base_uri": "https://localhost:8080/"
        },
        "id": "RE871hzb4jTY",
        "outputId": "862e52b3-0ae7-490e-9792-e8d24bbf1d8e"
      },
      "execution_count": 51,
      "outputs": [
        {
          "output_type": "stream",
          "name": "stdout",
          "text": [
            "총 배치의 수 : 600\n"
          ]
        }
      ]
    },
    {
      "cell_type": "code",
      "source": [
        "for epoch in range(training_epochs):\n",
        "    avg_cost = 0\n",
        "\n",
        "    for X, Y in train_loader:\n",
        "        X = X.to(device)\n",
        "        Y = Y.to(device)\n",
        "\n",
        "        optimizer.zero_grad()\n",
        "        hypothesis = model2(X)\n",
        "        cost = criterion(hypothesis, Y)\n",
        "        cost.backward()\n",
        "        optimizer.step()\n",
        "\n",
        "        avg_cost += cost / total_batch2\n",
        "    if epoch %2 == 0:\n",
        "        print(f'[Epoch: {epoch+1:>4}] cost = {avg_cost:>.9}')"
      ],
      "metadata": {
        "colab": {
          "base_uri": "https://localhost:8080/"
        },
        "id": "C3x4IUoV4rad",
        "outputId": "944faad2-5cde-4fbd-f880-ead3ac200255"
      },
      "execution_count": 52,
      "outputs": [
        {
          "output_type": "stream",
          "name": "stdout",
          "text": [
            "[Epoch:    1] cost = 1.25601411\n",
            "[Epoch:    3] cost = 0.675678611\n",
            "[Epoch:    5] cost = 0.526547432\n",
            "[Epoch:    7] cost = 0.435393244\n",
            "[Epoch:    9] cost = 0.370667309\n",
            "[Epoch:   11] cost = 0.303283662\n",
            "[Epoch:   13] cost = 0.260017604\n",
            "[Epoch:   15] cost = 0.215765312\n",
            "[Epoch:   17] cost = 0.191064447\n",
            "[Epoch:   19] cost = 0.15756163\n",
            "[Epoch:   21] cost = 0.139478892\n",
            "[Epoch:   23] cost = 0.125281736\n",
            "[Epoch:   25] cost = 0.1131979\n",
            "[Epoch:   27] cost = 0.107607014\n",
            "[Epoch:   29] cost = 0.0972167775\n"
          ]
        }
      ]
    },
    {
      "cell_type": "code",
      "source": [
        "with torch.no_grad():\n",
        "    X_test = test_images.view(len(test_images), 1, 28, 28).float().to(device)\n",
        "    Y_test = test_labels.to(device)\n",
        "\n",
        "    prediction = model2(X_test)\n",
        "    correct_prediction = torch.argmax(prediction, 1) == Y_test\n",
        "    accuracy = correct_prediction.float().mean()\n",
        "    print('Accuracy:', accuracy.item())"
      ],
      "metadata": {
        "colab": {
          "base_uri": "https://localhost:8080/"
        },
        "id": "HBkrp5aE4_cP",
        "outputId": "4aaaba96-0663-458b-f6e1-5e724f43146f"
      },
      "execution_count": 53,
      "outputs": [
        {
          "output_type": "stream",
          "name": "stdout",
          "text": [
            "Accuracy: 0.8235999941825867\n"
          ]
        }
      ]
    },
    {
      "cell_type": "code",
      "source": [
        "import random\n",
        "random.seed(777)"
      ],
      "metadata": {
        "id": "4IgzNBcPSUnQ"
      },
      "execution_count": 54,
      "outputs": []
    },
    {
      "cell_type": "code",
      "source": [
        "# 예측\n",
        "with torch.no_grad():\n",
        "    # MNIST 테스트 데이터에서 무작위로 하나를 뽑아서 예측을 해본다\n",
        "    r = random.randint(0, len(test_labels) - 1)\n",
        "    X_single_data = test_images[r].view(1,1,28, 28).float().to(device)\n",
        "    Y_single_data = test_labels[r].to(device)\n",
        "\n",
        "    print('Label: ', Y_single_data.item())\n",
        "    single_prediction = model2(X_single_data)\n",
        "    print('Prediction: ', torch.argmax(single_prediction, 1).item())\n",
        "\n",
        "    plt.imshow(test_images[0].view(28, 28), cmap='Greys')\n",
        "    plt.show()"
      ],
      "metadata": {
        "colab": {
          "base_uri": "https://localhost:8080/",
          "height": 301
        },
        "id": "e5AT38-q8f8V",
        "outputId": "596cfc1e-f259-43f6-d307-b467d53f701f"
      },
      "execution_count": 58,
      "outputs": [
        {
          "output_type": "stream",
          "name": "stdout",
          "text": [
            "Label:  9\n",
            "Prediction:  9\n"
          ]
        },
        {
          "output_type": "display_data",
          "data": {
            "text/plain": [
              "<Figure size 432x288 with 1 Axes>"
            ],
            "image/png": "[encoded data removed]"
          },
          "metadata": {
            "needs_background": "light"
          }
        }
      ]
    }
  ]
}