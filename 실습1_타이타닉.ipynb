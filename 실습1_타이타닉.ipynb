{
  "nbformat": 4,
  "nbformat_minor": 0,
  "metadata": {
    "colab": {
      "name": "실습1 - 타이타닉.ipynb",
      "provenance": [],
      "authorship_tag": "ABX9TyOrOYN1pCV8VJ0L5e67ekZ8"
    },
    "kernelspec": {
      "name": "python3",
      "display_name": "Python 3"
    },
    "language_info": {
      "name": "python"
    }
  },
  "cells": [
    {
      "cell_type": "markdown",
      "source": [
        "#Data"
      ],
      "metadata": {
        "id": "HQx03wYN7p1S"
      }
    },
    {
      "cell_type": "code",
      "source": [
        "from google.colab import drive\n",
        "drive.mount('/content/drive')"
      ],
      "metadata": {
        "id": "moD2ABlf66FR",
        "colab": {
          "base_uri": "https://localhost:8080/"
        },
        "outputId": "5752119a-caed-450a-f50a-091999ca8b65"
      },
      "execution_count": 1,
      "outputs": [
        {
          "output_type": "stream",
          "name": "stdout",
          "text": [
            "Mounted at /content/drive\n"
          ]
        }
      ]
    },
    {
      "cell_type": "code",
      "execution_count": 2,
      "metadata": {
        "id": "n4Js2PQV5Zxz"
      },
      "outputs": [],
      "source": [
        "import numpy as np\n",
        "import pandas as pd\n",
        "import matplotlib.pyplot as plt\n",
        "# %matplotlib inline   : 그래프를 주피터 노트북 화면상에 바로 띄울 수 있게하는 코드.\n",
        "import seaborn as sns   # 쉽고 직관적인 방법으로 그래프를 띄울 수 있는 패키지\n",
        "from scipy.stats import norm\n",
        "from sklearn.model_selection import train_test_split\n",
        "\n",
        "from xgboost import XGBRegressor\n",
        "from sklearn.ensemble import RandomForestClassifier\n",
        "from sklearn.metrics import mean_squared_error\n",
        "from sklearn.model_selection import GridSearchCV\n",
        "import warnings\n",
        "warnings.filterwarnings('ignore')"
      ]
    },
    {
      "cell_type": "code",
      "source": [
        "path = '/content/drive/MyDrive/22_titanic/'\n",
        "train = pd.read_csv(path+'train.csv')\n",
        "test = pd.read_csv(path+'test.csv')\n",
        "submission = pd.read_csv(path+'submission.csv')"
      ],
      "metadata": {
        "id": "azbVkGwt6w0S"
      },
      "execution_count": 80,
      "outputs": []
    },
    {
      "cell_type": "markdown",
      "source": [
        "## Test 결측치 처리"
      ],
      "metadata": {
        "id": "K54r9c1lP6S_"
      }
    },
    {
      "cell_type": "code",
      "source": [
        "test.groupby('Pclass').mean()"
      ],
      "metadata": {
        "colab": {
          "base_uri": "https://localhost:8080/",
          "height": 175
        },
        "id": "0tAI13aIKyrT",
        "outputId": "05a4e87f-f637-4324-8610-ea949a0b9102"
      },
      "execution_count": 18,
      "outputs": [
        {
          "output_type": "execute_result",
          "data": {
            "text/html": [
              "\n",
              "  <div id=\"df-05851f2c-e995-4e92-a782-9d832096948a\">\n",
              "    <div class=\"colab-df-container\">\n",
              "      <div>\n",
              "<style scoped>\n",
              "    .dataframe tbody tr th:only-of-type {\n",
              "        vertical-align: middle;\n",
              "    }\n",
              "\n",
              "    .dataframe tbody tr th {\n",
              "        vertical-align: top;\n",
              "    }\n",
              "\n",
              "    .dataframe thead th {\n",
              "        text-align: right;\n",
              "    }\n",
              "</style>\n",
              "<table border=\"1\" class=\"dataframe\">\n",
              "  <thead>\n",
              "    <tr style=\"text-align: right;\">\n",
              "      <th></th>\n",
              "      <th>PassengerId</th>\n",
              "      <th>Age</th>\n",
              "      <th>SibSp</th>\n",
              "      <th>Parch</th>\n",
              "      <th>Fare</th>\n",
              "    </tr>\n",
              "    <tr>\n",
              "      <th>Pclass</th>\n",
              "      <th></th>\n",
              "      <th></th>\n",
              "      <th></th>\n",
              "      <th></th>\n",
              "      <th></th>\n",
              "    </tr>\n",
              "  </thead>\n",
              "  <tbody>\n",
              "    <tr>\n",
              "      <th>1</th>\n",
              "      <td>1098.224299</td>\n",
              "      <td>40.918367</td>\n",
              "      <td>0.476636</td>\n",
              "      <td>0.383178</td>\n",
              "      <td>94.280297</td>\n",
              "    </tr>\n",
              "    <tr>\n",
              "      <th>2</th>\n",
              "      <td>1117.935484</td>\n",
              "      <td>28.777500</td>\n",
              "      <td>0.376344</td>\n",
              "      <td>0.344086</td>\n",
              "      <td>22.202104</td>\n",
              "    </tr>\n",
              "    <tr>\n",
              "      <th>3</th>\n",
              "      <td>1094.178899</td>\n",
              "      <td>24.027945</td>\n",
              "      <td>0.463303</td>\n",
              "      <td>0.417431</td>\n",
              "      <td>12.459678</td>\n",
              "    </tr>\n",
              "  </tbody>\n",
              "</table>\n",
              "</div>\n",
              "      <button class=\"colab-df-convert\" onclick=\"convertToInteractive('df-05851f2c-e995-4e92-a782-9d832096948a')\"\n",
              "              title=\"Convert this dataframe to an interactive table.\"\n",
              "              style=\"display:none;\">\n",
              "        \n",
              "  <svg xmlns=\"http://www.w3.org/2000/svg\" height=\"24px\"viewBox=\"0 0 24 24\"\n",
              "       width=\"24px\">\n",
              "    <path d=\"M0 0h24v24H0V0z\" fill=\"none\"/>\n",
              "    <path d=\"M18.56 5.44l.94 2.06.94-2.06 2.06-.94-2.06-.94-.94-2.06-.94 2.06-2.06.94zm-11 1L8.5 8.5l.94-2.06 2.06-.94-2.06-.94L8.5 2.5l-.94 2.06-2.06.94zm10 10l.94 2.06.94-2.06 2.06-.94-2.06-.94-.94-2.06-.94 2.06-2.06.94z\"/><path d=\"M17.41 7.96l-1.37-1.37c-.4-.4-.92-.59-1.43-.59-.52 0-1.04.2-1.43.59L10.3 9.45l-7.72 7.72c-.78.78-.78 2.05 0 2.83L4 21.41c.39.39.9.59 1.41.59.51 0 1.02-.2 1.41-.59l7.78-7.78 2.81-2.81c.8-.78.8-2.07 0-2.86zM5.41 20L4 18.59l7.72-7.72 1.47 1.35L5.41 20z\"/>\n",
              "  </svg>\n",
              "      </button>\n",
              "      \n",
              "  <style>\n",
              "    .colab-df-container {\n",
              "      display:flex;\n",
              "      flex-wrap:wrap;\n",
              "      gap: 12px;\n",
              "    }\n",
              "\n",
              "    .colab-df-convert {\n",
              "      background-color: #E8F0FE;\n",
              "      border: none;\n",
              "      border-radius: 50%;\n",
              "      cursor: pointer;\n",
              "      display: none;\n",
              "      fill: #1967D2;\n",
              "      height: 32px;\n",
              "      padding: 0 0 0 0;\n",
              "      width: 32px;\n",
              "    }\n",
              "\n",
              "    .colab-df-convert:hover {\n",
              "      background-color: #E2EBFA;\n",
              "      box-shadow: 0px 1px 2px rgba(60, 64, 67, 0.3), 0px 1px 3px 1px rgba(60, 64, 67, 0.15);\n",
              "      fill: #174EA6;\n",
              "    }\n",
              "\n",
              "    [theme=dark] .colab-df-convert {\n",
              "      background-color: #3B4455;\n",
              "      fill: #D2E3FC;\n",
              "    }\n",
              "\n",
              "    [theme=dark] .colab-df-convert:hover {\n",
              "      background-color: #434B5C;\n",
              "      box-shadow: 0px 1px 3px 1px rgba(0, 0, 0, 0.15);\n",
              "      filter: drop-shadow(0px 1px 2px rgba(0, 0, 0, 0.3));\n",
              "      fill: #FFFFFF;\n",
              "    }\n",
              "  </style>\n",
              "\n",
              "      <script>\n",
              "        const buttonEl =\n",
              "          document.querySelector('#df-05851f2c-e995-4e92-a782-9d832096948a button.colab-df-convert');\n",
              "        buttonEl.style.display =\n",
              "          google.colab.kernel.accessAllowed ? 'block' : 'none';\n",
              "\n",
              "        async function convertToInteractive(key) {\n",
              "          const element = document.querySelector('#df-05851f2c-e995-4e92-a782-9d832096948a');\n",
              "          const dataTable =\n",
              "            await google.colab.kernel.invokeFunction('convertToInteractive',\n",
              "                                                     [key], {});\n",
              "          if (!dataTable) return;\n",
              "\n",
              "          const docLinkHtml = 'Like what you see? Visit the ' +\n",
              "            '<a target=\"_blank\" href=https://colab.research.google.com/notebooks/data_table.ipynb>data table notebook</a>'\n",
              "            + ' to learn more about interactive tables.';\n",
              "          element.innerHTML = '';\n",
              "          dataTable['output_type'] = 'display_data';\n",
              "          await google.colab.output.renderOutput(dataTable, element);\n",
              "          const docLink = document.createElement('div');\n",
              "          docLink.innerHTML = docLinkHtml;\n",
              "          element.appendChild(docLink);\n",
              "        }\n",
              "      </script>\n",
              "    </div>\n",
              "  </div>\n",
              "  "
            ],
            "text/plain": [
              "        PassengerId        Age     SibSp     Parch       Fare\n",
              "Pclass                                                       \n",
              "1       1098.224299  40.918367  0.476636  0.383178  94.280297\n",
              "2       1117.935484  28.777500  0.376344  0.344086  22.202104\n",
              "3       1094.178899  24.027945  0.463303  0.417431  12.459678"
            ]
          },
          "metadata": {},
          "execution_count": 18
        }
      ]
    },
    {
      "cell_type": "code",
      "source": [
        "t1 = test[test['Pclass'] == 1].Age.fillna(41)\n",
        "t2 = test[test['Pclass'] == 2].Age.fillna(29)\n",
        "t3 = test[test['Pclass'] == 3].Age.fillna(24)\n",
        "\n",
        "tt = [t1,t2,t3]\n",
        "tt = pd.concat(tt)\n",
        "test.Age = tt"
      ],
      "metadata": {
        "id": "H9moJXSiKAIg"
      },
      "execution_count": 77,
      "outputs": []
    },
    {
      "cell_type": "code",
      "source": [
        "test = test.fillna(test.mean())"
      ],
      "metadata": {
        "id": "pd59IfGAPBIt"
      },
      "execution_count": 78,
      "outputs": []
    },
    {
      "cell_type": "code",
      "source": [
        "test.isnull().sum()"
      ],
      "metadata": {
        "colab": {
          "base_uri": "https://localhost:8080/"
        },
        "id": "1TpkUi2RMDZ0",
        "outputId": "91d42121-e96c-4765-8a2d-64e5d084ec70"
      },
      "execution_count": 21,
      "outputs": [
        {
          "output_type": "execute_result",
          "data": {
            "text/plain": [
              "PassengerId      0\n",
              "Pclass           0\n",
              "Name             0\n",
              "Sex              0\n",
              "Age              0\n",
              "SibSp            0\n",
              "Parch            0\n",
              "Ticket           0\n",
              "Fare             0\n",
              "Cabin          327\n",
              "Embarked         0\n",
              "dtype: int64"
            ]
          },
          "metadata": {},
          "execution_count": 21
        }
      ]
    },
    {
      "cell_type": "markdown",
      "source": [
        "## 코드 실행"
      ],
      "metadata": {
        "id": "0f1KN2bmXe7v"
      }
    },
    {
      "cell_type": "code",
      "source": [
        "## 불러오기\n",
        "path = '/content/drive/MyDrive/22_titanic/'\n",
        "train = pd.read_csv(path+'train.csv')\n",
        "test = pd.read_csv(path+'test.csv')\n",
        "submission = pd.read_csv(path+'submission.csv')\n",
        "\n",
        "## Test 결측치 처리\n",
        "t1 = test[test['Pclass'] == 1].Age.fillna(41)\n",
        "t2 = test[test['Pclass'] == 2].Age.fillna(29)\n",
        "t3 = test[test['Pclass'] == 3].Age.fillna(24)\n",
        "\n",
        "tt = [t1,t2,t3]\n",
        "tt = pd.concat(tt)\n",
        "test.Age = tt\n",
        "test = test.fillna(test.mean())\n",
        "####\n",
        "\n",
        "train=train.drop(columns='Cabin')\n",
        "test=test.drop(columns='Cabin')\n",
        "# 숫자로 바꿔주며 인코딩.\n",
        "#train.loc[train['Sex']=='male', 'Sex']=0\n",
        "#train.loc[train['Sex']=='female','Sex']=1\n",
        "#test.loc[test['Sex']=='male','Sex']=0\n",
        "#test.loc[test['Sex']=='female','Sex']=1\n",
        "train['Sex']= train['Sex']=='male'\n",
        "test['Sex']= test['Sex']=='male'\n",
        "\n",
        "# 마찬가지로, 등급도 숫자형 변수가 아닌 범주형 변수이기 때문에 원핫인코딩\n",
        "train['Pclass_3'] = (train['Pclass'] == 3)\n",
        "train['Pclass_2'] = (train['Pclass'] == 2)\n",
        "train['Pclass_1'] = (train['Pclass'] == 1)\n",
        "\n",
        "test['Pclass_3'] = (test['Pclass'] == 3)\n",
        "test['Pclass_2'] = (test['Pclass'] == 2)\n",
        "test['Pclass_1'] = (test['Pclass'] == 1)\n",
        "\n",
        "train = train.drop(columns = 'Pclass')\n",
        "test = test.drop(columns = 'Pclass')\n",
        "# 나이대 묶기\n",
        "train['Age_band'] = pd.cut(train.Age, bins=[0,17,29,39,49,64,80], labels=['A','B','C','D','E','F'])\n",
        "train['Age_band'].value_counts().to_frame()\n",
        "\n",
        "#결측치 0으로 일단 모두 채우기\n",
        "train['Age'] = train['Age'].fillna(0)\n",
        "#RandomForest 모델을 이용해 Age 컬럼의 결측치를 채운다.\n",
        "# 0으로 채워진 데이터와 아닌 데이터를 분리한다.\n",
        "train0 = train.loc[train['Age'] == 0]\n",
        "trainNot0 = train.loc[train['Age'] != 0]\n",
        "#rf를 사용하기 전에 결측치가 있는 다른 컬럼은 학습에 방해가 되기 때문에 제거\n",
        "# Age과 관련 없다고 생각되는 컬럼도 지운다.\n",
        "trainNot0 = trainNot0.drop(columns = ['Name','Ticket','PassengerId','Embarked', 'Age_band'])\n",
        "train0 = train0.drop(columns = ['Name','Ticket','PassengerId','Embarked', 'Age_band'])\n",
        "# 범주형 변수 원핫인코딩 진행\n",
        "trainNot0_dummies = pd.get_dummies(trainNot0)\n",
        "train0_dummies = pd.get_dummies(train0)\n",
        "# 전체 데이터 이용해서 모델 학습시키기\n",
        "rf = RandomForestClassifier()\n",
        "rf.fit(trainNot0_dummies, trainNot0['Age'].astype('int'))\n",
        "rf_prediction = rf.predict(trainNot0_dummies)\n",
        "rf_mse = mean_squared_error(trainNot0['Age'], rf_prediction)\n",
        "rf_rmse = np.sqrt(rf_mse)\n",
        "print(f'정확도 : {rf_rmse}')\n",
        "\n",
        "train0_values = rf.predict(X = train0_dummies)\n",
        "# 결측치를 채우기 위한 새로운 데이터프레임 생성\n",
        "train0['Age'] = train0_values\n",
        "\n",
        "data = trainNot0.append(train0)\n",
        "data['Age'] = data['Age'].astype('int')\n",
        "train.Age = data.Age\n",
        "\n",
        "# Age_band 수정\n",
        "train['old'] = (train['Age'] >= 64)\n",
        "test['old'] = (test['Age'] >= 64)\n",
        "train = train.drop(columns='Age_band')\n",
        "\n",
        "# Embarked 결측치 처리\n",
        "train.Embarked = train.Embarked.fillna('S')\n",
        "\n",
        "# 원-핫 인코딩\n",
        "train = pd.get_dummies(data = train, columns = ['Embarked'], prefix = 'Embarked')\n",
        "test = pd.get_dummies(data = test, columns = ['Embarked'], prefix = 'Embarked')\n",
        "\n",
        "# 본인을 포함한 가족 인원수\n",
        "train['FamilySize'] = train['SibSp'] + train['Parch'] + 1\n",
        "test['FamilySize'] = test['SibSp'] + test['Parch'] + 1\n",
        "\n",
        "# 범주화 해보기\n",
        "train['Single']= train['FamilySize']==1\n",
        "train['Nuclear']= (2<=train['FamilySize']) & (train['FamilySize']<=4)\n",
        "train['Big']= train['FamilySize']>=5\n",
        "\n",
        "test['Single']= test['FamilySize']==1\n",
        "test['Nuclear']= (2<=test['FamilySize']) & (test['FamilySize']<=4)\n",
        "test['Big']= test['FamilySize']>=5\n",
        "\n",
        "# 다른 컬럼들 삭제\n",
        "train = train.drop(columns=['Single','Big','FamilySize'])\n",
        "test = test.drop(columns=['Single','Big','FamilySize'])\n",
        "\n",
        "###\n",
        "# Name의 유의미성 판단하기\n",
        "train['Name']=train['Name'].str.split(', ').str[1].str.split('. ').str[0]\n",
        "test['Name']=test['Name'].str.split(', ').str[1].str.split('. ').str[0]\n",
        "\n",
        "train['Mrs'] = (train.Name == 'Mrs')\n",
        "test['Mrs'] = (test.Name == 'Mrs')\n",
        "train['Master'] = (train.Name == 'Master')\n",
        "test['Master'] = (test.Name == 'Master')\n",
        "\n",
        "train=train.drop(columns='Name')\n",
        "test=test.drop(columns='Name')\n",
        "\n",
        "##Fare\n",
        "# 로그변환\n",
        "train['log_Fare'] = train.Fare + 1\n",
        "test['log_Fare'] = test.Fare + 1\n",
        "\n",
        "train.log_Fare = np.log(train.log_Fare)\n",
        "test.log_Fare = np.log(test.log_Fare)\n",
        "\n",
        "## 나머지\n",
        "train = train.drop(columns = ['PassengerId','Ticket','Fare','Parch','old'])\n",
        "test = test.drop(columns = ['PassengerId','Ticket','Fare','Parch','old'])"
      ],
      "metadata": {
        "colab": {
          "base_uri": "https://localhost:8080/"
        },
        "id": "sHDRwa40BcMq",
        "outputId": "9f9bbdcf-26cc-4ace-f4e3-54413bac6f4d"
      },
      "execution_count": 81,
      "outputs": [
        {
          "output_type": "stream",
          "name": "stdout",
          "text": [
            "정확도 : 0.10894515876828863\n"
          ]
        }
      ]
    },
    {
      "cell_type": "markdown",
      "source": [
        "#Exploratory Data Analysis (EDA)"
      ],
      "metadata": {
        "id": "UArQdUzf7nrL"
      }
    },
    {
      "cell_type": "code",
      "source": [
        "train.head()"
      ],
      "metadata": {
        "colab": {
          "base_uri": "https://localhost:8080/",
          "height": 285
        },
        "id": "ZEzkhYER7Rn9",
        "outputId": "1ae57326-502f-4583-bce2-a715a6492882"
      },
      "execution_count": 22,
      "outputs": [
        {
          "output_type": "execute_result",
          "data": {
            "text/html": [
              "\n",
              "  <div id=\"df-f1a46ad0-9666-412b-98a3-37f68773c2e4\">\n",
              "    <div class=\"colab-df-container\">\n",
              "      <div>\n",
              "<style scoped>\n",
              "    .dataframe tbody tr th:only-of-type {\n",
              "        vertical-align: middle;\n",
              "    }\n",
              "\n",
              "    .dataframe tbody tr th {\n",
              "        vertical-align: top;\n",
              "    }\n",
              "\n",
              "    .dataframe thead th {\n",
              "        text-align: right;\n",
              "    }\n",
              "</style>\n",
              "<table border=\"1\" class=\"dataframe\">\n",
              "  <thead>\n",
              "    <tr style=\"text-align: right;\">\n",
              "      <th></th>\n",
              "      <th>PassengerId</th>\n",
              "      <th>Survived</th>\n",
              "      <th>Pclass</th>\n",
              "      <th>Name</th>\n",
              "      <th>Sex</th>\n",
              "      <th>Age</th>\n",
              "      <th>SibSp</th>\n",
              "      <th>Parch</th>\n",
              "      <th>Ticket</th>\n",
              "      <th>Fare</th>\n",
              "      <th>Cabin</th>\n",
              "      <th>Embarked</th>\n",
              "    </tr>\n",
              "  </thead>\n",
              "  <tbody>\n",
              "    <tr>\n",
              "      <th>0</th>\n",
              "      <td>1</td>\n",
              "      <td>0</td>\n",
              "      <td>3</td>\n",
              "      <td>Braund, Mr. Owen Harris</td>\n",
              "      <td>male</td>\n",
              "      <td>22.0</td>\n",
              "      <td>1</td>\n",
              "      <td>0</td>\n",
              "      <td>A/5 21171</td>\n",
              "      <td>7.2500</td>\n",
              "      <td>NaN</td>\n",
              "      <td>S</td>\n",
              "    </tr>\n",
              "    <tr>\n",
              "      <th>1</th>\n",
              "      <td>2</td>\n",
              "      <td>1</td>\n",
              "      <td>1</td>\n",
              "      <td>Cumings, Mrs. John Bradley (Florence Briggs Th...</td>\n",
              "      <td>female</td>\n",
              "      <td>38.0</td>\n",
              "      <td>1</td>\n",
              "      <td>0</td>\n",
              "      <td>PC 17599</td>\n",
              "      <td>71.2833</td>\n",
              "      <td>C85</td>\n",
              "      <td>C</td>\n",
              "    </tr>\n",
              "    <tr>\n",
              "      <th>2</th>\n",
              "      <td>3</td>\n",
              "      <td>1</td>\n",
              "      <td>3</td>\n",
              "      <td>Heikkinen, Miss. Laina</td>\n",
              "      <td>female</td>\n",
              "      <td>26.0</td>\n",
              "      <td>0</td>\n",
              "      <td>0</td>\n",
              "      <td>STON/O2. 3101282</td>\n",
              "      <td>7.9250</td>\n",
              "      <td>NaN</td>\n",
              "      <td>S</td>\n",
              "    </tr>\n",
              "    <tr>\n",
              "      <th>3</th>\n",
              "      <td>4</td>\n",
              "      <td>1</td>\n",
              "      <td>1</td>\n",
              "      <td>Futrelle, Mrs. Jacques Heath (Lily May Peel)</td>\n",
              "      <td>female</td>\n",
              "      <td>35.0</td>\n",
              "      <td>1</td>\n",
              "      <td>0</td>\n",
              "      <td>113803</td>\n",
              "      <td>53.1000</td>\n",
              "      <td>C123</td>\n",
              "      <td>S</td>\n",
              "    </tr>\n",
              "    <tr>\n",
              "      <th>4</th>\n",
              "      <td>5</td>\n",
              "      <td>0</td>\n",
              "      <td>3</td>\n",
              "      <td>Allen, Mr. William Henry</td>\n",
              "      <td>male</td>\n",
              "      <td>35.0</td>\n",
              "      <td>0</td>\n",
              "      <td>0</td>\n",
              "      <td>373450</td>\n",
              "      <td>8.0500</td>\n",
              "      <td>NaN</td>\n",
              "      <td>S</td>\n",
              "    </tr>\n",
              "  </tbody>\n",
              "</table>\n",
              "</div>\n",
              "      <button class=\"colab-df-convert\" onclick=\"convertToInteractive('df-f1a46ad0-9666-412b-98a3-37f68773c2e4')\"\n",
              "              title=\"Convert this dataframe to an interactive table.\"\n",
              "              style=\"display:none;\">\n",
              "        \n",
              "  <svg xmlns=\"http://www.w3.org/2000/svg\" height=\"24px\"viewBox=\"0 0 24 24\"\n",
              "       width=\"24px\">\n",
              "    <path d=\"M0 0h24v24H0V0z\" fill=\"none\"/>\n",
              "    <path d=\"M18.56 5.44l.94 2.06.94-2.06 2.06-.94-2.06-.94-.94-2.06-.94 2.06-2.06.94zm-11 1L8.5 8.5l.94-2.06 2.06-.94-2.06-.94L8.5 2.5l-.94 2.06-2.06.94zm10 10l.94 2.06.94-2.06 2.06-.94-2.06-.94-.94-2.06-.94 2.06-2.06.94z\"/><path d=\"M17.41 7.96l-1.37-1.37c-.4-.4-.92-.59-1.43-.59-.52 0-1.04.2-1.43.59L10.3 9.45l-7.72 7.72c-.78.78-.78 2.05 0 2.83L4 21.41c.39.39.9.59 1.41.59.51 0 1.02-.2 1.41-.59l7.78-7.78 2.81-2.81c.8-.78.8-2.07 0-2.86zM5.41 20L4 18.59l7.72-7.72 1.47 1.35L5.41 20z\"/>\n",
              "  </svg>\n",
              "      </button>\n",
              "      \n",
              "  <style>\n",
              "    .colab-df-container {\n",
              "      display:flex;\n",
              "      flex-wrap:wrap;\n",
              "      gap: 12px;\n",
              "    }\n",
              "\n",
              "    .colab-df-convert {\n",
              "      background-color: #E8F0FE;\n",
              "      border: none;\n",
              "      border-radius: 50%;\n",
              "      cursor: pointer;\n",
              "      display: none;\n",
              "      fill: #1967D2;\n",
              "      height: 32px;\n",
              "      padding: 0 0 0 0;\n",
              "      width: 32px;\n",
              "    }\n",
              "\n",
              "    .colab-df-convert:hover {\n",
              "      background-color: #E2EBFA;\n",
              "      box-shadow: 0px 1px 2px rgba(60, 64, 67, 0.3), 0px 1px 3px 1px rgba(60, 64, 67, 0.15);\n",
              "      fill: #174EA6;\n",
              "    }\n",
              "\n",
              "    [theme=dark] .colab-df-convert {\n",
              "      background-color: #3B4455;\n",
              "      fill: #D2E3FC;\n",
              "    }\n",
              "\n",
              "    [theme=dark] .colab-df-convert:hover {\n",
              "      background-color: #434B5C;\n",
              "      box-shadow: 0px 1px 3px 1px rgba(0, 0, 0, 0.15);\n",
              "      filter: drop-shadow(0px 1px 2px rgba(0, 0, 0, 0.3));\n",
              "      fill: #FFFFFF;\n",
              "    }\n",
              "  </style>\n",
              "\n",
              "      <script>\n",
              "        const buttonEl =\n",
              "          document.querySelector('#df-f1a46ad0-9666-412b-98a3-37f68773c2e4 button.colab-df-convert');\n",
              "        buttonEl.style.display =\n",
              "          google.colab.kernel.accessAllowed ? 'block' : 'none';\n",
              "\n",
              "        async function convertToInteractive(key) {\n",
              "          const element = document.querySelector('#df-f1a46ad0-9666-412b-98a3-37f68773c2e4');\n",
              "          const dataTable =\n",
              "            await google.colab.kernel.invokeFunction('convertToInteractive',\n",
              "                                                     [key], {});\n",
              "          if (!dataTable) return;\n",
              "\n",
              "          const docLinkHtml = 'Like what you see? Visit the ' +\n",
              "            '<a target=\"_blank\" href=https://colab.research.google.com/notebooks/data_table.ipynb>data table notebook</a>'\n",
              "            + ' to learn more about interactive tables.';\n",
              "          element.innerHTML = '';\n",
              "          dataTable['output_type'] = 'display_data';\n",
              "          await google.colab.output.renderOutput(dataTable, element);\n",
              "          const docLink = document.createElement('div');\n",
              "          docLink.innerHTML = docLinkHtml;\n",
              "          element.appendChild(docLink);\n",
              "        }\n",
              "      </script>\n",
              "    </div>\n",
              "  </div>\n",
              "  "
            ],
            "text/plain": [
              "   PassengerId  Survived  Pclass  \\\n",
              "0            1         0       3   \n",
              "1            2         1       1   \n",
              "2            3         1       3   \n",
              "3            4         1       1   \n",
              "4            5         0       3   \n",
              "\n",
              "                                                Name     Sex   Age  SibSp  \\\n",
              "0                            Braund, Mr. Owen Harris    male  22.0      1   \n",
              "1  Cumings, Mrs. John Bradley (Florence Briggs Th...  female  38.0      1   \n",
              "2                             Heikkinen, Miss. Laina  female  26.0      0   \n",
              "3       Futrelle, Mrs. Jacques Heath (Lily May Peel)  female  35.0      1   \n",
              "4                           Allen, Mr. William Henry    male  35.0      0   \n",
              "\n",
              "   Parch            Ticket     Fare Cabin Embarked  \n",
              "0      0         A/5 21171   7.2500   NaN        S  \n",
              "1      0          PC 17599  71.2833   C85        C  \n",
              "2      0  STON/O2. 3101282   7.9250   NaN        S  \n",
              "3      0            113803  53.1000  C123        S  \n",
              "4      0            373450   8.0500   NaN        S  "
            ]
          },
          "metadata": {},
          "execution_count": 22
        }
      ]
    },
    {
      "cell_type": "markdown",
      "source": [
        "\n",
        "\n",
        "*   PassengerID : 탑승객의 고유 아이디\n",
        "*   Survived : 생존여부 (1:생존, 0:사망)\n",
        "*   Pclass : 등실의 등급 (1:1등급 ...)\n",
        "*   Sibsp : 함께 탑승한 형제자매, 아내 or 남편의 수\n",
        "*   Parch : 함께 탑승한 부모, 자식의 수\n",
        "*   Ticket : 티겟번호\n",
        "*   Fare : 티겟 요금\n",
        "*   Cabin : 객실번호\n",
        "*   Embarked : 배에 탑승한 위치 (C = Cherbourg, Q = Queenstown, S = Southampton)\n",
        "    *   이 배는 프랑스의 셰르부르(Cherbourg)와 아일랜드의 퀸즈 타운에 기항한 다음, 미국의 뉴욕으로 향했다.\n",
        "\n",
        "\n"
      ],
      "metadata": {
        "id": "xjNUgDsJ789A"
      }
    },
    {
      "cell_type": "code",
      "source": [
        "print(f\"------train 데이터셋 확인-----\")\n",
        "print(f\"       {train.shape}\")\n",
        "print(f\"------test 데이터셋 확인-----\")\n",
        "print(f\"       {test.shape}\")\n",
        "print(f\"------submission 데이터셋 확인-----\")\n",
        "print(f\"       {submission.shape}\")"
      ],
      "metadata": {
        "colab": {
          "base_uri": "https://localhost:8080/"
        },
        "id": "po6UE4Bb7zxC",
        "outputId": "42203a70-4409-4a66-f406-10af5705680a"
      },
      "execution_count": 23,
      "outputs": [
        {
          "output_type": "stream",
          "name": "stdout",
          "text": [
            "------train 데이터셋 확인-----\n",
            "       (891, 12)\n",
            "------test 데이터셋 확인-----\n",
            "       (418, 11)\n",
            "------submission 데이터셋 확인-----\n",
            "       (418, 2)\n"
          ]
        }
      ]
    },
    {
      "cell_type": "markdown",
      "source": [
        "## 통계량"
      ],
      "metadata": {
        "id": "LI6hrypDWrxU"
      }
    },
    {
      "cell_type": "code",
      "source": [
        "print(f\"---------------------train 데이터셋 info---------------------\")\n",
        "print(f\"       {train.info()}\")\n",
        "print(f\"-------train셋 결측치 확인: {train.isna().sum()}\")\n",
        "print(f\"---------------------test 데이터셋 info---------------------\")\n",
        "print(f\"       {test.info()}\")\n",
        "print(f\"-------test셋 결측치 확인: {test.isna().sum()}\")\n",
        "print(f\"---------------------submission 데이터셋 info---------------------\")\n",
        "print(f\"       {submission.info()}\")\n",
        "print(f\"-------submission셋 결측치 확인: {submission.isna().sum()}\")"
      ],
      "metadata": {
        "colab": {
          "base_uri": "https://localhost:8080/"
        },
        "id": "zsb3PjmW-ZBN",
        "outputId": "490b67bd-efb0-43de-b371-82412cf07425"
      },
      "execution_count": 24,
      "outputs": [
        {
          "output_type": "stream",
          "name": "stdout",
          "text": [
            "---------------------train 데이터셋 info---------------------\n",
            "<class 'pandas.core.frame.DataFrame'>\n",
            "RangeIndex: 891 entries, 0 to 890\n",
            "Data columns (total 12 columns):\n",
            " #   Column       Non-Null Count  Dtype  \n",
            "---  ------       --------------  -----  \n",
            " 0   PassengerId  891 non-null    int64  \n",
            " 1   Survived     891 non-null    int64  \n",
            " 2   Pclass       891 non-null    int64  \n",
            " 3   Name         891 non-null    object \n",
            " 4   Sex          891 non-null    object \n",
            " 5   Age          714 non-null    float64\n",
            " 6   SibSp        891 non-null    int64  \n",
            " 7   Parch        891 non-null    int64  \n",
            " 8   Ticket       891 non-null    object \n",
            " 9   Fare         891 non-null    float64\n",
            " 10  Cabin        204 non-null    object \n",
            " 11  Embarked     889 non-null    object \n",
            "dtypes: float64(2), int64(5), object(5)\n",
            "memory usage: 83.7+ KB\n",
            "       None\n",
            "-------train셋 결측치 확인: PassengerId      0\n",
            "Survived         0\n",
            "Pclass           0\n",
            "Name             0\n",
            "Sex              0\n",
            "Age            177\n",
            "SibSp            0\n",
            "Parch            0\n",
            "Ticket           0\n",
            "Fare             0\n",
            "Cabin          687\n",
            "Embarked         2\n",
            "dtype: int64\n",
            "---------------------test 데이터셋 info---------------------\n",
            "<class 'pandas.core.frame.DataFrame'>\n",
            "RangeIndex: 418 entries, 0 to 417\n",
            "Data columns (total 11 columns):\n",
            " #   Column       Non-Null Count  Dtype  \n",
            "---  ------       --------------  -----  \n",
            " 0   PassengerId  418 non-null    int64  \n",
            " 1   Pclass       418 non-null    int64  \n",
            " 2   Name         418 non-null    object \n",
            " 3   Sex          418 non-null    object \n",
            " 4   Age          418 non-null    float64\n",
            " 5   SibSp        418 non-null    int64  \n",
            " 6   Parch        418 non-null    int64  \n",
            " 7   Ticket       418 non-null    object \n",
            " 8   Fare         418 non-null    float64\n",
            " 9   Cabin        91 non-null     object \n",
            " 10  Embarked     418 non-null    object \n",
            "dtypes: float64(2), int64(4), object(5)\n",
            "memory usage: 36.0+ KB\n",
            "       None\n",
            "-------test셋 결측치 확인: PassengerId      0\n",
            "Pclass           0\n",
            "Name             0\n",
            "Sex              0\n",
            "Age              0\n",
            "SibSp            0\n",
            "Parch            0\n",
            "Ticket           0\n",
            "Fare             0\n",
            "Cabin          327\n",
            "Embarked         0\n",
            "dtype: int64\n",
            "---------------------submission 데이터셋 info---------------------\n",
            "<class 'pandas.core.frame.DataFrame'>\n",
            "RangeIndex: 418 entries, 0 to 417\n",
            "Data columns (total 2 columns):\n",
            " #   Column       Non-Null Count  Dtype\n",
            "---  ------       --------------  -----\n",
            " 0   PassengerId  418 non-null    int64\n",
            " 1   Survived     418 non-null    int64\n",
            "dtypes: int64(2)\n",
            "memory usage: 6.7 KB\n",
            "       None\n",
            "-------submission셋 결측치 확인: PassengerId    0\n",
            "Survived       0\n",
            "dtype: int64\n"
          ]
        }
      ]
    },
    {
      "cell_type": "code",
      "source": [
        "train=train.drop(columns='Cabin')\n",
        "test=test.drop(columns='Cabin')"
      ],
      "metadata": {
        "id": "foQyAM6Ay2Lj"
      },
      "execution_count": 25,
      "outputs": []
    },
    {
      "cell_type": "code",
      "source": [
        "#기술통계량 describe\n",
        "train.describe()"
      ],
      "metadata": {
        "colab": {
          "base_uri": "https://localhost:8080/",
          "height": 300
        },
        "id": "uUPgBwmH7OiI",
        "outputId": "8c4defa9-96a7-4a48-893f-c22e6daf918d"
      },
      "execution_count": 26,
      "outputs": [
        {
          "output_type": "execute_result",
          "data": {
            "text/html": [
              "\n",
              "  <div id=\"df-d79b3be1-6d07-41f4-943e-ea4d0fc09226\">\n",
              "    <div class=\"colab-df-container\">\n",
              "      <div>\n",
              "<style scoped>\n",
              "    .dataframe tbody tr th:only-of-type {\n",
              "        vertical-align: middle;\n",
              "    }\n",
              "\n",
              "    .dataframe tbody tr th {\n",
              "        vertical-align: top;\n",
              "    }\n",
              "\n",
              "    .dataframe thead th {\n",
              "        text-align: right;\n",
              "    }\n",
              "</style>\n",
              "<table border=\"1\" class=\"dataframe\">\n",
              "  <thead>\n",
              "    <tr style=\"text-align: right;\">\n",
              "      <th></th>\n",
              "      <th>PassengerId</th>\n",
              "      <th>Survived</th>\n",
              "      <th>Pclass</th>\n",
              "      <th>Age</th>\n",
              "      <th>SibSp</th>\n",
              "      <th>Parch</th>\n",
              "      <th>Fare</th>\n",
              "    </tr>\n",
              "  </thead>\n",
              "  <tbody>\n",
              "    <tr>\n",
              "      <th>count</th>\n",
              "      <td>891.000000</td>\n",
              "      <td>891.000000</td>\n",
              "      <td>891.000000</td>\n",
              "      <td>714.000000</td>\n",
              "      <td>891.000000</td>\n",
              "      <td>891.000000</td>\n",
              "      <td>891.000000</td>\n",
              "    </tr>\n",
              "    <tr>\n",
              "      <th>mean</th>\n",
              "      <td>446.000000</td>\n",
              "      <td>0.383838</td>\n",
              "      <td>2.308642</td>\n",
              "      <td>29.699118</td>\n",
              "      <td>0.523008</td>\n",
              "      <td>0.381594</td>\n",
              "      <td>32.204208</td>\n",
              "    </tr>\n",
              "    <tr>\n",
              "      <th>std</th>\n",
              "      <td>257.353842</td>\n",
              "      <td>0.486592</td>\n",
              "      <td>0.836071</td>\n",
              "      <td>14.526497</td>\n",
              "      <td>1.102743</td>\n",
              "      <td>0.806057</td>\n",
              "      <td>49.693429</td>\n",
              "    </tr>\n",
              "    <tr>\n",
              "      <th>min</th>\n",
              "      <td>1.000000</td>\n",
              "      <td>0.000000</td>\n",
              "      <td>1.000000</td>\n",
              "      <td>0.420000</td>\n",
              "      <td>0.000000</td>\n",
              "      <td>0.000000</td>\n",
              "      <td>0.000000</td>\n",
              "    </tr>\n",
              "    <tr>\n",
              "      <th>25%</th>\n",
              "      <td>223.500000</td>\n",
              "      <td>0.000000</td>\n",
              "      <td>2.000000</td>\n",
              "      <td>20.125000</td>\n",
              "      <td>0.000000</td>\n",
              "      <td>0.000000</td>\n",
              "      <td>7.910400</td>\n",
              "    </tr>\n",
              "    <tr>\n",
              "      <th>50%</th>\n",
              "      <td>446.000000</td>\n",
              "      <td>0.000000</td>\n",
              "      <td>3.000000</td>\n",
              "      <td>28.000000</td>\n",
              "      <td>0.000000</td>\n",
              "      <td>0.000000</td>\n",
              "      <td>14.454200</td>\n",
              "    </tr>\n",
              "    <tr>\n",
              "      <th>75%</th>\n",
              "      <td>668.500000</td>\n",
              "      <td>1.000000</td>\n",
              "      <td>3.000000</td>\n",
              "      <td>38.000000</td>\n",
              "      <td>1.000000</td>\n",
              "      <td>0.000000</td>\n",
              "      <td>31.000000</td>\n",
              "    </tr>\n",
              "    <tr>\n",
              "      <th>max</th>\n",
              "      <td>891.000000</td>\n",
              "      <td>1.000000</td>\n",
              "      <td>3.000000</td>\n",
              "      <td>80.000000</td>\n",
              "      <td>8.000000</td>\n",
              "      <td>6.000000</td>\n",
              "      <td>512.329200</td>\n",
              "    </tr>\n",
              "  </tbody>\n",
              "</table>\n",
              "</div>\n",
              "      <button class=\"colab-df-convert\" onclick=\"convertToInteractive('df-d79b3be1-6d07-41f4-943e-ea4d0fc09226')\"\n",
              "              title=\"Convert this dataframe to an interactive table.\"\n",
              "              style=\"display:none;\">\n",
              "        \n",
              "  <svg xmlns=\"http://www.w3.org/2000/svg\" height=\"24px\"viewBox=\"0 0 24 24\"\n",
              "       width=\"24px\">\n",
              "    <path d=\"M0 0h24v24H0V0z\" fill=\"none\"/>\n",
              "    <path d=\"M18.56 5.44l.94 2.06.94-2.06 2.06-.94-2.06-.94-.94-2.06-.94 2.06-2.06.94zm-11 1L8.5 8.5l.94-2.06 2.06-.94-2.06-.94L8.5 2.5l-.94 2.06-2.06.94zm10 10l.94 2.06.94-2.06 2.06-.94-2.06-.94-.94-2.06-.94 2.06-2.06.94z\"/><path d=\"M17.41 7.96l-1.37-1.37c-.4-.4-.92-.59-1.43-.59-.52 0-1.04.2-1.43.59L10.3 9.45l-7.72 7.72c-.78.78-.78 2.05 0 2.83L4 21.41c.39.39.9.59 1.41.59.51 0 1.02-.2 1.41-.59l7.78-7.78 2.81-2.81c.8-.78.8-2.07 0-2.86zM5.41 20L4 18.59l7.72-7.72 1.47 1.35L5.41 20z\"/>\n",
              "  </svg>\n",
              "      </button>\n",
              "      \n",
              "  <style>\n",
              "    .colab-df-container {\n",
              "      display:flex;\n",
              "      flex-wrap:wrap;\n",
              "      gap: 12px;\n",
              "    }\n",
              "\n",
              "    .colab-df-convert {\n",
              "      background-color: #E8F0FE;\n",
              "      border: none;\n",
              "      border-radius: 50%;\n",
              "      cursor: pointer;\n",
              "      display: none;\n",
              "      fill: #1967D2;\n",
              "      height: 32px;\n",
              "      padding: 0 0 0 0;\n",
              "      width: 32px;\n",
              "    }\n",
              "\n",
              "    .colab-df-convert:hover {\n",
              "      background-color: #E2EBFA;\n",
              "      box-shadow: 0px 1px 2px rgba(60, 64, 67, 0.3), 0px 1px 3px 1px rgba(60, 64, 67, 0.15);\n",
              "      fill: #174EA6;\n",
              "    }\n",
              "\n",
              "    [theme=dark] .colab-df-convert {\n",
              "      background-color: #3B4455;\n",
              "      fill: #D2E3FC;\n",
              "    }\n",
              "\n",
              "    [theme=dark] .colab-df-convert:hover {\n",
              "      background-color: #434B5C;\n",
              "      box-shadow: 0px 1px 3px 1px rgba(0, 0, 0, 0.15);\n",
              "      filter: drop-shadow(0px 1px 2px rgba(0, 0, 0, 0.3));\n",
              "      fill: #FFFFFF;\n",
              "    }\n",
              "  </style>\n",
              "\n",
              "      <script>\n",
              "        const buttonEl =\n",
              "          document.querySelector('#df-d79b3be1-6d07-41f4-943e-ea4d0fc09226 button.colab-df-convert');\n",
              "        buttonEl.style.display =\n",
              "          google.colab.kernel.accessAllowed ? 'block' : 'none';\n",
              "\n",
              "        async function convertToInteractive(key) {\n",
              "          const element = document.querySelector('#df-d79b3be1-6d07-41f4-943e-ea4d0fc09226');\n",
              "          const dataTable =\n",
              "            await google.colab.kernel.invokeFunction('convertToInteractive',\n",
              "                                                     [key], {});\n",
              "          if (!dataTable) return;\n",
              "\n",
              "          const docLinkHtml = 'Like what you see? Visit the ' +\n",
              "            '<a target=\"_blank\" href=https://colab.research.google.com/notebooks/data_table.ipynb>data table notebook</a>'\n",
              "            + ' to learn more about interactive tables.';\n",
              "          element.innerHTML = '';\n",
              "          dataTable['output_type'] = 'display_data';\n",
              "          await google.colab.output.renderOutput(dataTable, element);\n",
              "          const docLink = document.createElement('div');\n",
              "          docLink.innerHTML = docLinkHtml;\n",
              "          element.appendChild(docLink);\n",
              "        }\n",
              "      </script>\n",
              "    </div>\n",
              "  </div>\n",
              "  "
            ],
            "text/plain": [
              "       PassengerId    Survived      Pclass         Age       SibSp  \\\n",
              "count   891.000000  891.000000  891.000000  714.000000  891.000000   \n",
              "mean    446.000000    0.383838    2.308642   29.699118    0.523008   \n",
              "std     257.353842    0.486592    0.836071   14.526497    1.102743   \n",
              "min       1.000000    0.000000    1.000000    0.420000    0.000000   \n",
              "25%     223.500000    0.000000    2.000000   20.125000    0.000000   \n",
              "50%     446.000000    0.000000    3.000000   28.000000    0.000000   \n",
              "75%     668.500000    1.000000    3.000000   38.000000    1.000000   \n",
              "max     891.000000    1.000000    3.000000   80.000000    8.000000   \n",
              "\n",
              "            Parch        Fare  \n",
              "count  891.000000  891.000000  \n",
              "mean     0.381594   32.204208  \n",
              "std      0.806057   49.693429  \n",
              "min      0.000000    0.000000  \n",
              "25%      0.000000    7.910400  \n",
              "50%      0.000000   14.454200  \n",
              "75%      0.000000   31.000000  \n",
              "max      6.000000  512.329200  "
            ]
          },
          "metadata": {},
          "execution_count": 26
        }
      ]
    },
    {
      "cell_type": "code",
      "source": [
        "plt.figure(figsize=(12, 8))\n",
        "plt.title(\"TITANIC CORR MATRIX\", size = 15)\n",
        "sns.heatmap(train.corr(),\n",
        "            square=True,\n",
        "            annot=True,\n",
        "            fmt='.2f',\n",
        "            linewidth = 1,\n",
        "            cmap=\"Blues\")\n",
        "plt.show()"
      ],
      "metadata": {
        "colab": {
          "base_uri": "https://localhost:8080/",
          "height": 501
        },
        "id": "JAVUHQn8OANK",
        "outputId": "eb983dbe-9c33-4dc1-91ac-ab2e7f4f753a"
      },
      "execution_count": 27,
      "outputs": [
        {
          "output_type": "display_data",
          "data": {
            "image/png": "[encoded data removed]",
            "text/plain": [
              "<Figure size 864x576 with 2 Axes>"
            ]
          },
          "metadata": {
            "needs_background": "light"
          }
        }
      ]
    },
    {
      "cell_type": "markdown",
      "source": [
        "## Sex"
      ],
      "metadata": {
        "id": "kKwJqLEV1Tbc"
      }
    },
    {
      "cell_type": "code",
      "source": [
        "train['Sex'].value_counts()"
      ],
      "metadata": {
        "colab": {
          "base_uri": "https://localhost:8080/"
        },
        "id": "-P4AUyNm0uWQ",
        "outputId": "81db1792-0b92-4cb0-c611-0044226a8bf7"
      },
      "execution_count": 28,
      "outputs": [
        {
          "output_type": "execute_result",
          "data": {
            "text/plain": [
              "male      577\n",
              "female    314\n",
              "Name: Sex, dtype: int64"
            ]
          },
          "metadata": {},
          "execution_count": 28
        }
      ]
    },
    {
      "cell_type": "code",
      "source": [
        "sns.set_style('whitegrid')\n",
        "sns.countplot(data=train, x='Sex', hue='Survived')\n",
        "plt.title('Sex and Survived')\n",
        "plt.show()\n",
        "# 남자는 사망자 수가, 여자는 생존자 수가 더 많음. 여자의 생존률이 더 높음."
      ],
      "metadata": {
        "colab": {
          "base_uri": "https://localhost:8080/",
          "height": 0
        },
        "id": "YB7hBTFg-I_F",
        "outputId": "f0110780-d5aa-44e3-961e-2808380ecdd5"
      },
      "execution_count": 29,
      "outputs": [
        {
          "output_type": "display_data",
          "data": {
            "image/png": "[encoded data removed]",
            "text/plain": [
              "<Figure size 432x288 with 1 Axes>"
            ]
          },
          "metadata": {}
        }
      ]
    },
    {
      "cell_type": "code",
      "source": [
        "# 숫자로 바꿔주며 인코딩.\n",
        "train.loc[train['Sex']=='male', 'Sex']=0\n",
        "train.loc[train['Sex']=='female','Sex']=1\n",
        "test.loc[test['Sex']=='male','Sex']=0\n",
        "test.loc[test['Sex']=='female','Sex']=1"
      ],
      "metadata": {
        "id": "K8elE9Ev1cVP"
      },
      "execution_count": 30,
      "outputs": []
    },
    {
      "cell_type": "code",
      "source": [
        "train.dtypes"
      ],
      "metadata": {
        "colab": {
          "base_uri": "https://localhost:8080/"
        },
        "id": "CVAdYSRn2z2o",
        "outputId": "e1ec26c4-460b-4bf2-9eea-0e1059e696dd"
      },
      "execution_count": 31,
      "outputs": [
        {
          "output_type": "execute_result",
          "data": {
            "text/plain": [
              "PassengerId      int64\n",
              "Survived         int64\n",
              "Pclass           int64\n",
              "Name            object\n",
              "Sex             object\n",
              "Age            float64\n",
              "SibSp            int64\n",
              "Parch            int64\n",
              "Ticket          object\n",
              "Fare           float64\n",
              "Embarked        object\n",
              "dtype: object"
            ]
          },
          "metadata": {},
          "execution_count": 31
        }
      ]
    },
    {
      "cell_type": "code",
      "source": [
        "train['Sex'] = pd.to_numeric(train['Sex'])"
      ],
      "metadata": {
        "id": "Wj_8f08B2-To"
      },
      "execution_count": 32,
      "outputs": []
    },
    {
      "cell_type": "code",
      "source": [
        "train.dtypes"
      ],
      "metadata": {
        "colab": {
          "base_uri": "https://localhost:8080/"
        },
        "id": "MK1wiSuI3Loq",
        "outputId": "cc8f91d4-900f-4192-bed9-7ec183c1418a"
      },
      "execution_count": 33,
      "outputs": [
        {
          "output_type": "execute_result",
          "data": {
            "text/plain": [
              "PassengerId      int64\n",
              "Survived         int64\n",
              "Pclass           int64\n",
              "Name            object\n",
              "Sex              int64\n",
              "Age            float64\n",
              "SibSp            int64\n",
              "Parch            int64\n",
              "Ticket          object\n",
              "Fare           float64\n",
              "Embarked        object\n",
              "dtype: object"
            ]
          },
          "metadata": {},
          "execution_count": 33
        }
      ]
    },
    {
      "cell_type": "markdown",
      "source": [
        "## Pclass 객실등급"
      ],
      "metadata": {
        "id": "HreEkXqu1zB1"
      }
    },
    {
      "cell_type": "code",
      "source": [
        "train['Pclass'].unique()"
      ],
      "metadata": {
        "colab": {
          "base_uri": "https://localhost:8080/"
        },
        "id": "VzoRpbN8BOtF",
        "outputId": "6882038c-1b58-483e-ed71-32950fb9e5bc"
      },
      "execution_count": 34,
      "outputs": [
        {
          "output_type": "execute_result",
          "data": {
            "text/plain": [
              "array([3, 1, 2])"
            ]
          },
          "metadata": {},
          "execution_count": 34
        }
      ]
    },
    {
      "cell_type": "code",
      "source": [
        "sns.countplot(data=train, x='Pclass', hue='Survived')\n",
        "plt.title('Pclass and Survived')\n",
        "plt.show()\n",
        "# 등급이 낮을수록 생존자보다 사망자 비율이 더욱 높아짐. 특히, 3등급 : 사람수도 많고 사망자도 많음."
      ],
      "metadata": {
        "colab": {
          "base_uri": "https://localhost:8080/",
          "height": 0
        },
        "id": "_rt4CzNZ1139",
        "outputId": "95e543dd-8c9b-4dbe-b8bd-bb14b22f8be5"
      },
      "execution_count": 35,
      "outputs": [
        {
          "output_type": "display_data",
          "data": {
            "image/png": "[encoded data removed]",
            "text/plain": [
              "<Figure size 432x288 with 1 Axes>"
            ]
          },
          "metadata": {}
        }
      ]
    },
    {
      "cell_type": "code",
      "source": [
        "#train[['Pclass', 'Fare','Survived','SibSp', 'Parch']].groupby('Pclass').mean()\n",
        "train.groupby('Pclass').mean()\n",
        "# 등급으로 평균 지어 보면 다음과 같음.\n",
        "# 등급에 따른 성별 비율도 확인하기 위해 성별 숫자화.\n",
        "# 3등급에는 남자 비율이 훨씬 많음. 아마 등급 낮은 여자는 탑승도 못했을 것으로 추정.\n",
        "# 하지만 성별은 범주형 변수이기 때문에 다시 문자화.\n",
        "\n",
        "# 나이, 요금은 반비례 관계.\n",
        "# 등급이 낮을수록 딸려 있는 일행이 많은 경향."
      ],
      "metadata": {
        "colab": {
          "base_uri": "https://localhost:8080/",
          "height": 0
        },
        "id": "0R67XkLgAy2c",
        "outputId": "56d4f10a-c637-4005-8b24-4bdda986e5f0"
      },
      "execution_count": 36,
      "outputs": [
        {
          "output_type": "execute_result",
          "data": {
            "text/html": [
              "\n",
              "  <div id=\"df-6b36b16b-232e-43be-9273-18bdafe2a1a5\">\n",
              "    <div class=\"colab-df-container\">\n",
              "      <div>\n",
              "<style scoped>\n",
              "    .dataframe tbody tr th:only-of-type {\n",
              "        vertical-align: middle;\n",
              "    }\n",
              "\n",
              "    .dataframe tbody tr th {\n",
              "        vertical-align: top;\n",
              "    }\n",
              "\n",
              "    .dataframe thead th {\n",
              "        text-align: right;\n",
              "    }\n",
              "</style>\n",
              "<table border=\"1\" class=\"dataframe\">\n",
              "  <thead>\n",
              "    <tr style=\"text-align: right;\">\n",
              "      <th></th>\n",
              "      <th>PassengerId</th>\n",
              "      <th>Survived</th>\n",
              "      <th>Sex</th>\n",
              "      <th>Age</th>\n",
              "      <th>SibSp</th>\n",
              "      <th>Parch</th>\n",
              "      <th>Fare</th>\n",
              "    </tr>\n",
              "    <tr>\n",
              "      <th>Pclass</th>\n",
              "      <th></th>\n",
              "      <th></th>\n",
              "      <th></th>\n",
              "      <th></th>\n",
              "      <th></th>\n",
              "      <th></th>\n",
              "      <th></th>\n",
              "    </tr>\n",
              "  </thead>\n",
              "  <tbody>\n",
              "    <tr>\n",
              "      <th>1</th>\n",
              "      <td>461.597222</td>\n",
              "      <td>0.629630</td>\n",
              "      <td>0.435185</td>\n",
              "      <td>38.233441</td>\n",
              "      <td>0.416667</td>\n",
              "      <td>0.356481</td>\n",
              "      <td>84.154687</td>\n",
              "    </tr>\n",
              "    <tr>\n",
              "      <th>2</th>\n",
              "      <td>445.956522</td>\n",
              "      <td>0.472826</td>\n",
              "      <td>0.413043</td>\n",
              "      <td>29.877630</td>\n",
              "      <td>0.402174</td>\n",
              "      <td>0.380435</td>\n",
              "      <td>20.662183</td>\n",
              "    </tr>\n",
              "    <tr>\n",
              "      <th>3</th>\n",
              "      <td>439.154786</td>\n",
              "      <td>0.242363</td>\n",
              "      <td>0.293279</td>\n",
              "      <td>25.140620</td>\n",
              "      <td>0.615071</td>\n",
              "      <td>0.393075</td>\n",
              "      <td>13.675550</td>\n",
              "    </tr>\n",
              "  </tbody>\n",
              "</table>\n",
              "</div>\n",
              "      <button class=\"colab-df-convert\" onclick=\"convertToInteractive('df-6b36b16b-232e-43be-9273-18bdafe2a1a5')\"\n",
              "              title=\"Convert this dataframe to an interactive table.\"\n",
              "              style=\"display:none;\">\n",
              "        \n",
              "  <svg xmlns=\"http://www.w3.org/2000/svg\" height=\"24px\"viewBox=\"0 0 24 24\"\n",
              "       width=\"24px\">\n",
              "    <path d=\"M0 0h24v24H0V0z\" fill=\"none\"/>\n",
              "    <path d=\"M18.56 5.44l.94 2.06.94-2.06 2.06-.94-2.06-.94-.94-2.06-.94 2.06-2.06.94zm-11 1L8.5 8.5l.94-2.06 2.06-.94-2.06-.94L8.5 2.5l-.94 2.06-2.06.94zm10 10l.94 2.06.94-2.06 2.06-.94-2.06-.94-.94-2.06-.94 2.06-2.06.94z\"/><path d=\"M17.41 7.96l-1.37-1.37c-.4-.4-.92-.59-1.43-.59-.52 0-1.04.2-1.43.59L10.3 9.45l-7.72 7.72c-.78.78-.78 2.05 0 2.83L4 21.41c.39.39.9.59 1.41.59.51 0 1.02-.2 1.41-.59l7.78-7.78 2.81-2.81c.8-.78.8-2.07 0-2.86zM5.41 20L4 18.59l7.72-7.72 1.47 1.35L5.41 20z\"/>\n",
              "  </svg>\n",
              "      </button>\n",
              "      \n",
              "  <style>\n",
              "    .colab-df-container {\n",
              "      display:flex;\n",
              "      flex-wrap:wrap;\n",
              "      gap: 12px;\n",
              "    }\n",
              "\n",
              "    .colab-df-convert {\n",
              "      background-color: #E8F0FE;\n",
              "      border: none;\n",
              "      border-radius: 50%;\n",
              "      cursor: pointer;\n",
              "      display: none;\n",
              "      fill: #1967D2;\n",
              "      height: 32px;\n",
              "      padding: 0 0 0 0;\n",
              "      width: 32px;\n",
              "    }\n",
              "\n",
              "    .colab-df-convert:hover {\n",
              "      background-color: #E2EBFA;\n",
              "      box-shadow: 0px 1px 2px rgba(60, 64, 67, 0.3), 0px 1px 3px 1px rgba(60, 64, 67, 0.15);\n",
              "      fill: #174EA6;\n",
              "    }\n",
              "\n",
              "    [theme=dark] .colab-df-convert {\n",
              "      background-color: #3B4455;\n",
              "      fill: #D2E3FC;\n",
              "    }\n",
              "\n",
              "    [theme=dark] .colab-df-convert:hover {\n",
              "      background-color: #434B5C;\n",
              "      box-shadow: 0px 1px 3px 1px rgba(0, 0, 0, 0.15);\n",
              "      filter: drop-shadow(0px 1px 2px rgba(0, 0, 0, 0.3));\n",
              "      fill: #FFFFFF;\n",
              "    }\n",
              "  </style>\n",
              "\n",
              "      <script>\n",
              "        const buttonEl =\n",
              "          document.querySelector('#df-6b36b16b-232e-43be-9273-18bdafe2a1a5 button.colab-df-convert');\n",
              "        buttonEl.style.display =\n",
              "          google.colab.kernel.accessAllowed ? 'block' : 'none';\n",
              "\n",
              "        async function convertToInteractive(key) {\n",
              "          const element = document.querySelector('#df-6b36b16b-232e-43be-9273-18bdafe2a1a5');\n",
              "          const dataTable =\n",
              "            await google.colab.kernel.invokeFunction('convertToInteractive',\n",
              "                                                     [key], {});\n",
              "          if (!dataTable) return;\n",
              "\n",
              "          const docLinkHtml = 'Like what you see? Visit the ' +\n",
              "            '<a target=\"_blank\" href=https://colab.research.google.com/notebooks/data_table.ipynb>data table notebook</a>'\n",
              "            + ' to learn more about interactive tables.';\n",
              "          element.innerHTML = '';\n",
              "          dataTable['output_type'] = 'display_data';\n",
              "          await google.colab.output.renderOutput(dataTable, element);\n",
              "          const docLink = document.createElement('div');\n",
              "          docLink.innerHTML = docLinkHtml;\n",
              "          element.appendChild(docLink);\n",
              "        }\n",
              "      </script>\n",
              "    </div>\n",
              "  </div>\n",
              "  "
            ],
            "text/plain": [
              "        PassengerId  Survived       Sex        Age     SibSp     Parch  \\\n",
              "Pclass                                                                   \n",
              "1        461.597222  0.629630  0.435185  38.233441  0.416667  0.356481   \n",
              "2        445.956522  0.472826  0.413043  29.877630  0.402174  0.380435   \n",
              "3        439.154786  0.242363  0.293279  25.140620  0.615071  0.393075   \n",
              "\n",
              "             Fare  \n",
              "Pclass             \n",
              "1       84.154687  \n",
              "2       20.662183  \n",
              "3       13.675550  "
            ]
          },
          "metadata": {},
          "execution_count": 36
        }
      ]
    },
    {
      "cell_type": "code",
      "source": [
        "train['Sex'] = train['Sex'].astype('str')"
      ],
      "metadata": {
        "id": "pXmvUE6w4mkd"
      },
      "execution_count": 37,
      "outputs": []
    },
    {
      "cell_type": "code",
      "source": [
        "train.dtypes"
      ],
      "metadata": {
        "colab": {
          "base_uri": "https://localhost:8080/"
        },
        "id": "XcFWuixm40Ah",
        "outputId": "87486b39-6aa3-4467-c9c2-0fbe78d47eb1"
      },
      "execution_count": 38,
      "outputs": [
        {
          "output_type": "execute_result",
          "data": {
            "text/plain": [
              "PassengerId      int64\n",
              "Survived         int64\n",
              "Pclass           int64\n",
              "Name            object\n",
              "Sex             object\n",
              "Age            float64\n",
              "SibSp            int64\n",
              "Parch            int64\n",
              "Ticket          object\n",
              "Fare           float64\n",
              "Embarked        object\n",
              "dtype: object"
            ]
          },
          "metadata": {},
          "execution_count": 38
        }
      ]
    },
    {
      "cell_type": "code",
      "source": [
        "# 마찬가지로, 등급도 숫자형 변수가 아닌 범주형 변수이기 때문에 원핫인코딩\n",
        "train['Pclass_3'] = (train['Pclass'] == 3)\n",
        "train['Pclass_2'] = (train['Pclass'] == 2)\n",
        "train['Pclass_1'] = (train['Pclass'] == 1)\n",
        "\n",
        "test['Pclass_3'] = (test['Pclass'] == 3)\n",
        "test['Pclass_2'] = (test['Pclass'] == 2)\n",
        "test['Pclass_1'] = (test['Pclass'] == 1)\n",
        "\n",
        "train = train.drop(columns = 'Pclass')\n",
        "test = test.drop(columns = 'Pclass')"
      ],
      "metadata": {
        "id": "PHxZMUn844OF"
      },
      "execution_count": 39,
      "outputs": []
    },
    {
      "cell_type": "markdown",
      "source": [
        "## Age"
      ],
      "metadata": {
        "id": "h_lnEQF36HSD"
      }
    },
    {
      "cell_type": "code",
      "source": [
        "print(f\"Age 변수 최고값 : {train['Age'].max()}\")\n",
        "print(f\"Age 변수 최저값 : {train['Age'].min()}\")"
      ],
      "metadata": {
        "colab": {
          "base_uri": "https://localhost:8080/"
        },
        "id": "V2e_-TLj2jAz",
        "outputId": "2f82b32e-9305-40bd-b3bf-5f8b46ff4eda"
      },
      "execution_count": 40,
      "outputs": [
        {
          "output_type": "stream",
          "name": "stdout",
          "text": [
            "Age 변수 최고값 : 80.0\n",
            "Age 변수 최저값 : 0.42\n"
          ]
        }
      ]
    },
    {
      "cell_type": "code",
      "source": [
        "# 나이대 묶기\n",
        "train['Age_band'] = pd.cut(train.Age, bins=[0,17,29,39,49,64,80], labels=['A','B','C','D','E','F'])\n",
        "train['Age_band'].value_counts().to_frame()"
      ],
      "metadata": {
        "colab": {
          "base_uri": "https://localhost:8080/",
          "height": 237
        },
        "id": "Q1tOeHBSAm7v",
        "outputId": "8797d98d-d8ad-4993-ce73-3cb2f0981ee2"
      },
      "execution_count": 41,
      "outputs": [
        {
          "output_type": "execute_result",
          "data": {
            "text/html": [
              "\n",
              "  <div id=\"df-b917b875-1dab-4c47-9407-e0f0e7193db7\">\n",
              "    <div class=\"colab-df-container\">\n",
              "      <div>\n",
              "<style scoped>\n",
              "    .dataframe tbody tr th:only-of-type {\n",
              "        vertical-align: middle;\n",
              "    }\n",
              "\n",
              "    .dataframe tbody tr th {\n",
              "        vertical-align: top;\n",
              "    }\n",
              "\n",
              "    .dataframe thead th {\n",
              "        text-align: right;\n",
              "    }\n",
              "</style>\n",
              "<table border=\"1\" class=\"dataframe\">\n",
              "  <thead>\n",
              "    <tr style=\"text-align: right;\">\n",
              "      <th></th>\n",
              "      <th>Age_band</th>\n",
              "    </tr>\n",
              "  </thead>\n",
              "  <tbody>\n",
              "    <tr>\n",
              "      <th>B</th>\n",
              "      <td>271</td>\n",
              "    </tr>\n",
              "    <tr>\n",
              "      <th>C</th>\n",
              "      <td>167</td>\n",
              "    </tr>\n",
              "    <tr>\n",
              "      <th>A</th>\n",
              "      <td>113</td>\n",
              "    </tr>\n",
              "    <tr>\n",
              "      <th>D</th>\n",
              "      <td>89</td>\n",
              "    </tr>\n",
              "    <tr>\n",
              "      <th>E</th>\n",
              "      <td>63</td>\n",
              "    </tr>\n",
              "    <tr>\n",
              "      <th>F</th>\n",
              "      <td>11</td>\n",
              "    </tr>\n",
              "  </tbody>\n",
              "</table>\n",
              "</div>\n",
              "      <button class=\"colab-df-convert\" onclick=\"convertToInteractive('df-b917b875-1dab-4c47-9407-e0f0e7193db7')\"\n",
              "              title=\"Convert this dataframe to an interactive table.\"\n",
              "              style=\"display:none;\">\n",
              "        \n",
              "  <svg xmlns=\"http://www.w3.org/2000/svg\" height=\"24px\"viewBox=\"0 0 24 24\"\n",
              "       width=\"24px\">\n",
              "    <path d=\"M0 0h24v24H0V0z\" fill=\"none\"/>\n",
              "    <path d=\"M18.56 5.44l.94 2.06.94-2.06 2.06-.94-2.06-.94-.94-2.06-.94 2.06-2.06.94zm-11 1L8.5 8.5l.94-2.06 2.06-.94-2.06-.94L8.5 2.5l-.94 2.06-2.06.94zm10 10l.94 2.06.94-2.06 2.06-.94-2.06-.94-.94-2.06-.94 2.06-2.06.94z\"/><path d=\"M17.41 7.96l-1.37-1.37c-.4-.4-.92-.59-1.43-.59-.52 0-1.04.2-1.43.59L10.3 9.45l-7.72 7.72c-.78.78-.78 2.05 0 2.83L4 21.41c.39.39.9.59 1.41.59.51 0 1.02-.2 1.41-.59l7.78-7.78 2.81-2.81c.8-.78.8-2.07 0-2.86zM5.41 20L4 18.59l7.72-7.72 1.47 1.35L5.41 20z\"/>\n",
              "  </svg>\n",
              "      </button>\n",
              "      \n",
              "  <style>\n",
              "    .colab-df-container {\n",
              "      display:flex;\n",
              "      flex-wrap:wrap;\n",
              "      gap: 12px;\n",
              "    }\n",
              "\n",
              "    .colab-df-convert {\n",
              "      background-color: #E8F0FE;\n",
              "      border: none;\n",
              "      border-radius: 50%;\n",
              "      cursor: pointer;\n",
              "      display: none;\n",
              "      fill: #1967D2;\n",
              "      height: 32px;\n",
              "      padding: 0 0 0 0;\n",
              "      width: 32px;\n",
              "    }\n",
              "\n",
              "    .colab-df-convert:hover {\n",
              "      background-color: #E2EBFA;\n",
              "      box-shadow: 0px 1px 2px rgba(60, 64, 67, 0.3), 0px 1px 3px 1px rgba(60, 64, 67, 0.15);\n",
              "      fill: #174EA6;\n",
              "    }\n",
              "\n",
              "    [theme=dark] .colab-df-convert {\n",
              "      background-color: #3B4455;\n",
              "      fill: #D2E3FC;\n",
              "    }\n",
              "\n",
              "    [theme=dark] .colab-df-convert:hover {\n",
              "      background-color: #434B5C;\n",
              "      box-shadow: 0px 1px 3px 1px rgba(0, 0, 0, 0.15);\n",
              "      filter: drop-shadow(0px 1px 2px rgba(0, 0, 0, 0.3));\n",
              "      fill: #FFFFFF;\n",
              "    }\n",
              "  </style>\n",
              "\n",
              "      <script>\n",
              "        const buttonEl =\n",
              "          document.querySelector('#df-b917b875-1dab-4c47-9407-e0f0e7193db7 button.colab-df-convert');\n",
              "        buttonEl.style.display =\n",
              "          google.colab.kernel.accessAllowed ? 'block' : 'none';\n",
              "\n",
              "        async function convertToInteractive(key) {\n",
              "          const element = document.querySelector('#df-b917b875-1dab-4c47-9407-e0f0e7193db7');\n",
              "          const dataTable =\n",
              "            await google.colab.kernel.invokeFunction('convertToInteractive',\n",
              "                                                     [key], {});\n",
              "          if (!dataTable) return;\n",
              "\n",
              "          const docLinkHtml = 'Like what you see? Visit the ' +\n",
              "            '<a target=\"_blank\" href=https://colab.research.google.com/notebooks/data_table.ipynb>data table notebook</a>'\n",
              "            + ' to learn more about interactive tables.';\n",
              "          element.innerHTML = '';\n",
              "          dataTable['output_type'] = 'display_data';\n",
              "          await google.colab.output.renderOutput(dataTable, element);\n",
              "          const docLink = document.createElement('div');\n",
              "          docLink.innerHTML = docLinkHtml;\n",
              "          element.appendChild(docLink);\n",
              "        }\n",
              "      </script>\n",
              "    </div>\n",
              "  </div>\n",
              "  "
            ],
            "text/plain": [
              "   Age_band\n",
              "B       271\n",
              "C       167\n",
              "A       113\n",
              "D        89\n",
              "E        63\n",
              "F        11"
            ]
          },
          "metadata": {},
          "execution_count": 41
        }
      ]
    },
    {
      "cell_type": "code",
      "source": [
        "# 나이와 다른 변수들 및 종속변수와 상관성 살펴보고 결측치 처리 결정하기\n",
        "def my_summary(x):\n",
        "    result = {\n",
        "        'sum':x.sum(),\n",
        "        'count':x.count(),\n",
        "        'mean':x.mean(),\n",
        "        'median':x.median(),\n",
        "        'variance':x.var()\n",
        "    }\n",
        "    return result\n",
        "\n",
        "train.groupby('Age_band')['SibSp'].apply(my_summary).unstack()"
      ],
      "metadata": {
        "colab": {
          "base_uri": "https://localhost:8080/",
          "height": 269
        },
        "id": "aomAAvapERk6",
        "outputId": "f0b4fee0-ad34-450a-f506-4a95b29c6149"
      },
      "execution_count": 42,
      "outputs": [
        {
          "output_type": "execute_result",
          "data": {
            "text/html": [
              "\n",
              "  <div id=\"df-ac925997-359b-4fe8-8f3a-382c0ba0676e\">\n",
              "    <div class=\"colab-df-container\">\n",
              "      <div>\n",
              "<style scoped>\n",
              "    .dataframe tbody tr th:only-of-type {\n",
              "        vertical-align: middle;\n",
              "    }\n",
              "\n",
              "    .dataframe tbody tr th {\n",
              "        vertical-align: top;\n",
              "    }\n",
              "\n",
              "    .dataframe thead th {\n",
              "        text-align: right;\n",
              "    }\n",
              "</style>\n",
              "<table border=\"1\" class=\"dataframe\">\n",
              "  <thead>\n",
              "    <tr style=\"text-align: right;\">\n",
              "      <th></th>\n",
              "      <th>sum</th>\n",
              "      <th>count</th>\n",
              "      <th>mean</th>\n",
              "      <th>median</th>\n",
              "      <th>variance</th>\n",
              "    </tr>\n",
              "    <tr>\n",
              "      <th>Age_band</th>\n",
              "      <th></th>\n",
              "      <th></th>\n",
              "      <th></th>\n",
              "      <th></th>\n",
              "      <th></th>\n",
              "    </tr>\n",
              "  </thead>\n",
              "  <tbody>\n",
              "    <tr>\n",
              "      <th>A</th>\n",
              "      <td>165.0</td>\n",
              "      <td>113.0</td>\n",
              "      <td>1.460177</td>\n",
              "      <td>1.0</td>\n",
              "      <td>2.643489</td>\n",
              "    </tr>\n",
              "    <tr>\n",
              "      <th>B</th>\n",
              "      <td>89.0</td>\n",
              "      <td>271.0</td>\n",
              "      <td>0.328413</td>\n",
              "      <td>0.0</td>\n",
              "      <td>0.376930</td>\n",
              "    </tr>\n",
              "    <tr>\n",
              "      <th>C</th>\n",
              "      <td>59.0</td>\n",
              "      <td>167.0</td>\n",
              "      <td>0.353293</td>\n",
              "      <td>0.0</td>\n",
              "      <td>0.326239</td>\n",
              "    </tr>\n",
              "    <tr>\n",
              "      <th>D</th>\n",
              "      <td>33.0</td>\n",
              "      <td>89.0</td>\n",
              "      <td>0.370787</td>\n",
              "      <td>0.0</td>\n",
              "      <td>0.281410</td>\n",
              "    </tr>\n",
              "    <tr>\n",
              "      <th>E</th>\n",
              "      <td>19.0</td>\n",
              "      <td>63.0</td>\n",
              "      <td>0.301587</td>\n",
              "      <td>0.0</td>\n",
              "      <td>0.278546</td>\n",
              "    </tr>\n",
              "    <tr>\n",
              "      <th>F</th>\n",
              "      <td>1.0</td>\n",
              "      <td>11.0</td>\n",
              "      <td>0.090909</td>\n",
              "      <td>0.0</td>\n",
              "      <td>0.090909</td>\n",
              "    </tr>\n",
              "  </tbody>\n",
              "</table>\n",
              "</div>\n",
              "      <button class=\"colab-df-convert\" onclick=\"convertToInteractive('df-ac925997-359b-4fe8-8f3a-382c0ba0676e')\"\n",
              "              title=\"Convert this dataframe to an interactive table.\"\n",
              "              style=\"display:none;\">\n",
              "        \n",
              "  <svg xmlns=\"http://www.w3.org/2000/svg\" height=\"24px\"viewBox=\"0 0 24 24\"\n",
              "       width=\"24px\">\n",
              "    <path d=\"M0 0h24v24H0V0z\" fill=\"none\"/>\n",
              "    <path d=\"M18.56 5.44l.94 2.06.94-2.06 2.06-.94-2.06-.94-.94-2.06-.94 2.06-2.06.94zm-11 1L8.5 8.5l.94-2.06 2.06-.94-2.06-.94L8.5 2.5l-.94 2.06-2.06.94zm10 10l.94 2.06.94-2.06 2.06-.94-2.06-.94-.94-2.06-.94 2.06-2.06.94z\"/><path d=\"M17.41 7.96l-1.37-1.37c-.4-.4-.92-.59-1.43-.59-.52 0-1.04.2-1.43.59L10.3 9.45l-7.72 7.72c-.78.78-.78 2.05 0 2.83L4 21.41c.39.39.9.59 1.41.59.51 0 1.02-.2 1.41-.59l7.78-7.78 2.81-2.81c.8-.78.8-2.07 0-2.86zM5.41 20L4 18.59l7.72-7.72 1.47 1.35L5.41 20z\"/>\n",
              "  </svg>\n",
              "      </button>\n",
              "      \n",
              "  <style>\n",
              "    .colab-df-container {\n",
              "      display:flex;\n",
              "      flex-wrap:wrap;\n",
              "      gap: 12px;\n",
              "    }\n",
              "\n",
              "    .colab-df-convert {\n",
              "      background-color: #E8F0FE;\n",
              "      border: none;\n",
              "      border-radius: 50%;\n",
              "      cursor: pointer;\n",
              "      display: none;\n",
              "      fill: #1967D2;\n",
              "      height: 32px;\n",
              "      padding: 0 0 0 0;\n",
              "      width: 32px;\n",
              "    }\n",
              "\n",
              "    .colab-df-convert:hover {\n",
              "      background-color: #E2EBFA;\n",
              "      box-shadow: 0px 1px 2px rgba(60, 64, 67, 0.3), 0px 1px 3px 1px rgba(60, 64, 67, 0.15);\n",
              "      fill: #174EA6;\n",
              "    }\n",
              "\n",
              "    [theme=dark] .colab-df-convert {\n",
              "      background-color: #3B4455;\n",
              "      fill: #D2E3FC;\n",
              "    }\n",
              "\n",
              "    [theme=dark] .colab-df-convert:hover {\n",
              "      background-color: #434B5C;\n",
              "      box-shadow: 0px 1px 3px 1px rgba(0, 0, 0, 0.15);\n",
              "      filter: drop-shadow(0px 1px 2px rgba(0, 0, 0, 0.3));\n",
              "      fill: #FFFFFF;\n",
              "    }\n",
              "  </style>\n",
              "\n",
              "      <script>\n",
              "        const buttonEl =\n",
              "          document.querySelector('#df-ac925997-359b-4fe8-8f3a-382c0ba0676e button.colab-df-convert');\n",
              "        buttonEl.style.display =\n",
              "          google.colab.kernel.accessAllowed ? 'block' : 'none';\n",
              "\n",
              "        async function convertToInteractive(key) {\n",
              "          const element = document.querySelector('#df-ac925997-359b-4fe8-8f3a-382c0ba0676e');\n",
              "          const dataTable =\n",
              "            await google.colab.kernel.invokeFunction('convertToInteractive',\n",
              "                                                     [key], {});\n",
              "          if (!dataTable) return;\n",
              "\n",
              "          const docLinkHtml = 'Like what you see? Visit the ' +\n",
              "            '<a target=\"_blank\" href=https://colab.research.google.com/notebooks/data_table.ipynb>data table notebook</a>'\n",
              "            + ' to learn more about interactive tables.';\n",
              "          element.innerHTML = '';\n",
              "          dataTable['output_type'] = 'display_data';\n",
              "          await google.colab.output.renderOutput(dataTable, element);\n",
              "          const docLink = document.createElement('div');\n",
              "          docLink.innerHTML = docLinkHtml;\n",
              "          element.appendChild(docLink);\n",
              "        }\n",
              "      </script>\n",
              "    </div>\n",
              "  </div>\n",
              "  "
            ],
            "text/plain": [
              "            sum  count      mean  median  variance\n",
              "Age_band                                          \n",
              "A         165.0  113.0  1.460177     1.0  2.643489\n",
              "B          89.0  271.0  0.328413     0.0  0.376930\n",
              "C          59.0  167.0  0.353293     0.0  0.326239\n",
              "D          33.0   89.0  0.370787     0.0  0.281410\n",
              "E          19.0   63.0  0.301587     0.0  0.278546\n",
              "F           1.0   11.0  0.090909     0.0  0.090909"
            ]
          },
          "metadata": {},
          "execution_count": 42
        }
      ]
    },
    {
      "cell_type": "code",
      "source": [
        "train['Age_band'] = pd.cut(train.Age, bins=5)\n",
        "train.groupby('Age_band').mean()"
      ],
      "metadata": {
        "colab": {
          "base_uri": "https://localhost:8080/",
          "height": 237
        },
        "id": "H6JsTFsQFQhP",
        "outputId": "19efc47b-3c1e-4864-ea12-672b6c5c5aa8"
      },
      "execution_count": 43,
      "outputs": [
        {
          "output_type": "execute_result",
          "data": {
            "text/html": [
              "\n",
              "  <div id=\"df-4bcb18c4-f6ba-48c7-91f9-7b8a39dd0ed8\">\n",
              "    <div class=\"colab-df-container\">\n",
              "      <div>\n",
              "<style scoped>\n",
              "    .dataframe tbody tr th:only-of-type {\n",
              "        vertical-align: middle;\n",
              "    }\n",
              "\n",
              "    .dataframe tbody tr th {\n",
              "        vertical-align: top;\n",
              "    }\n",
              "\n",
              "    .dataframe thead th {\n",
              "        text-align: right;\n",
              "    }\n",
              "</style>\n",
              "<table border=\"1\" class=\"dataframe\">\n",
              "  <thead>\n",
              "    <tr style=\"text-align: right;\">\n",
              "      <th></th>\n",
              "      <th>PassengerId</th>\n",
              "      <th>Survived</th>\n",
              "      <th>Age</th>\n",
              "      <th>SibSp</th>\n",
              "      <th>Parch</th>\n",
              "      <th>Fare</th>\n",
              "      <th>Pclass_3</th>\n",
              "      <th>Pclass_2</th>\n",
              "      <th>Pclass_1</th>\n",
              "    </tr>\n",
              "    <tr>\n",
              "      <th>Age_band</th>\n",
              "      <th></th>\n",
              "      <th></th>\n",
              "      <th></th>\n",
              "      <th></th>\n",
              "      <th></th>\n",
              "      <th></th>\n",
              "      <th></th>\n",
              "      <th></th>\n",
              "      <th></th>\n",
              "    </tr>\n",
              "  </thead>\n",
              "  <tbody>\n",
              "    <tr>\n",
              "      <th>(0.34, 16.336]</th>\n",
              "      <td>430.020000</td>\n",
              "      <td>0.550000</td>\n",
              "      <td>8.006700</td>\n",
              "      <td>1.570000</td>\n",
              "      <td>1.140000</td>\n",
              "      <td>31.588877</td>\n",
              "      <td>0.700000</td>\n",
              "      <td>0.210000</td>\n",
              "      <td>0.090000</td>\n",
              "    </tr>\n",
              "    <tr>\n",
              "      <th>(16.336, 32.252]</th>\n",
              "      <td>448.263006</td>\n",
              "      <td>0.369942</td>\n",
              "      <td>24.495665</td>\n",
              "      <td>0.335260</td>\n",
              "      <td>0.242775</td>\n",
              "      <td>28.260499</td>\n",
              "      <td>0.586705</td>\n",
              "      <td>0.242775</td>\n",
              "      <td>0.170520</td>\n",
              "    </tr>\n",
              "    <tr>\n",
              "      <th>(32.252, 48.168]</th>\n",
              "      <td>457.478723</td>\n",
              "      <td>0.404255</td>\n",
              "      <td>39.239362</td>\n",
              "      <td>0.367021</td>\n",
              "      <td>0.468085</td>\n",
              "      <td>42.788940</td>\n",
              "      <td>0.372340</td>\n",
              "      <td>0.260638</td>\n",
              "      <td>0.367021</td>\n",
              "    </tr>\n",
              "    <tr>\n",
              "      <th>(48.168, 64.084]</th>\n",
              "      <td>460.057971</td>\n",
              "      <td>0.434783</td>\n",
              "      <td>54.847826</td>\n",
              "      <td>0.333333</td>\n",
              "      <td>0.289855</td>\n",
              "      <td>50.327235</td>\n",
              "      <td>0.130435</td>\n",
              "      <td>0.246377</td>\n",
              "      <td>0.623188</td>\n",
              "    </tr>\n",
              "    <tr>\n",
              "      <th>(64.084, 80.0]</th>\n",
              "      <td>403.363636</td>\n",
              "      <td>0.090909</td>\n",
              "      <td>69.772727</td>\n",
              "      <td>0.090909</td>\n",
              "      <td>0.181818</td>\n",
              "      <td>28.905691</td>\n",
              "      <td>0.272727</td>\n",
              "      <td>0.181818</td>\n",
              "      <td>0.545455</td>\n",
              "    </tr>\n",
              "  </tbody>\n",
              "</table>\n",
              "</div>\n",
              "      <button class=\"colab-df-convert\" onclick=\"convertToInteractive('df-4bcb18c4-f6ba-48c7-91f9-7b8a39dd0ed8')\"\n",
              "              title=\"Convert this dataframe to an interactive table.\"\n",
              "              style=\"display:none;\">\n",
              "        \n",
              "  <svg xmlns=\"http://www.w3.org/2000/svg\" height=\"24px\"viewBox=\"0 0 24 24\"\n",
              "       width=\"24px\">\n",
              "    <path d=\"M0 0h24v24H0V0z\" fill=\"none\"/>\n",
              "    <path d=\"M18.56 5.44l.94 2.06.94-2.06 2.06-.94-2.06-.94-.94-2.06-.94 2.06-2.06.94zm-11 1L8.5 8.5l.94-2.06 2.06-.94-2.06-.94L8.5 2.5l-.94 2.06-2.06.94zm10 10l.94 2.06.94-2.06 2.06-.94-2.06-.94-.94-2.06-.94 2.06-2.06.94z\"/><path d=\"M17.41 7.96l-1.37-1.37c-.4-.4-.92-.59-1.43-.59-.52 0-1.04.2-1.43.59L10.3 9.45l-7.72 7.72c-.78.78-.78 2.05 0 2.83L4 21.41c.39.39.9.59 1.41.59.51 0 1.02-.2 1.41-.59l7.78-7.78 2.81-2.81c.8-.78.8-2.07 0-2.86zM5.41 20L4 18.59l7.72-7.72 1.47 1.35L5.41 20z\"/>\n",
              "  </svg>\n",
              "      </button>\n",
              "      \n",
              "  <style>\n",
              "    .colab-df-container {\n",
              "      display:flex;\n",
              "      flex-wrap:wrap;\n",
              "      gap: 12px;\n",
              "    }\n",
              "\n",
              "    .colab-df-convert {\n",
              "      background-color: #E8F0FE;\n",
              "      border: none;\n",
              "      border-radius: 50%;\n",
              "      cursor: pointer;\n",
              "      display: none;\n",
              "      fill: #1967D2;\n",
              "      height: 32px;\n",
              "      padding: 0 0 0 0;\n",
              "      width: 32px;\n",
              "    }\n",
              "\n",
              "    .colab-df-convert:hover {\n",
              "      background-color: #E2EBFA;\n",
              "      box-shadow: 0px 1px 2px rgba(60, 64, 67, 0.3), 0px 1px 3px 1px rgba(60, 64, 67, 0.15);\n",
              "      fill: #174EA6;\n",
              "    }\n",
              "\n",
              "    [theme=dark] .colab-df-convert {\n",
              "      background-color: #3B4455;\n",
              "      fill: #D2E3FC;\n",
              "    }\n",
              "\n",
              "    [theme=dark] .colab-df-convert:hover {\n",
              "      background-color: #434B5C;\n",
              "      box-shadow: 0px 1px 3px 1px rgba(0, 0, 0, 0.15);\n",
              "      filter: drop-shadow(0px 1px 2px rgba(0, 0, 0, 0.3));\n",
              "      fill: #FFFFFF;\n",
              "    }\n",
              "  </style>\n",
              "\n",
              "      <script>\n",
              "        const buttonEl =\n",
              "          document.querySelector('#df-4bcb18c4-f6ba-48c7-91f9-7b8a39dd0ed8 button.colab-df-convert');\n",
              "        buttonEl.style.display =\n",
              "          google.colab.kernel.accessAllowed ? 'block' : 'none';\n",
              "\n",
              "        async function convertToInteractive(key) {\n",
              "          const element = document.querySelector('#df-4bcb18c4-f6ba-48c7-91f9-7b8a39dd0ed8');\n",
              "          const dataTable =\n",
              "            await google.colab.kernel.invokeFunction('convertToInteractive',\n",
              "                                                     [key], {});\n",
              "          if (!dataTable) return;\n",
              "\n",
              "          const docLinkHtml = 'Like what you see? Visit the ' +\n",
              "            '<a target=\"_blank\" href=https://colab.research.google.com/notebooks/data_table.ipynb>data table notebook</a>'\n",
              "            + ' to learn more about interactive tables.';\n",
              "          element.innerHTML = '';\n",
              "          dataTable['output_type'] = 'display_data';\n",
              "          await google.colab.output.renderOutput(dataTable, element);\n",
              "          const docLink = document.createElement('div');\n",
              "          docLink.innerHTML = docLinkHtml;\n",
              "          element.appendChild(docLink);\n",
              "        }\n",
              "      </script>\n",
              "    </div>\n",
              "  </div>\n",
              "  "
            ],
            "text/plain": [
              "                  PassengerId  Survived        Age     SibSp     Parch  \\\n",
              "Age_band                                                                 \n",
              "(0.34, 16.336]     430.020000  0.550000   8.006700  1.570000  1.140000   \n",
              "(16.336, 32.252]   448.263006  0.369942  24.495665  0.335260  0.242775   \n",
              "(32.252, 48.168]   457.478723  0.404255  39.239362  0.367021  0.468085   \n",
              "(48.168, 64.084]   460.057971  0.434783  54.847826  0.333333  0.289855   \n",
              "(64.084, 80.0]     403.363636  0.090909  69.772727  0.090909  0.181818   \n",
              "\n",
              "                       Fare  Pclass_3  Pclass_2  Pclass_1  \n",
              "Age_band                                                   \n",
              "(0.34, 16.336]    31.588877  0.700000  0.210000  0.090000  \n",
              "(16.336, 32.252]  28.260499  0.586705  0.242775  0.170520  \n",
              "(32.252, 48.168]  42.788940  0.372340  0.260638  0.367021  \n",
              "(48.168, 64.084]  50.327235  0.130435  0.246377  0.623188  \n",
              "(64.084, 80.0]    28.905691  0.272727  0.181818  0.545455  "
            ]
          },
          "metadata": {},
          "execution_count": 43
        }
      ]
    },
    {
      "cell_type": "markdown",
      "source": [
        "나이가 어릴 수록 가족 수가 많음. 특히, 형제자매 수가 많음.\n",
        "\n",
        "또한 나이 3~50대에 지불하는 요금이 높음. 하지만 30대에는 3등급이 \n",
        "\n",
        "많으며, 4~60대에 1등급이 많은 것을 볼 수 있음.\n",
        "\n",
        "\n",
        "\n",
        "---\n",
        "\n",
        "\n",
        "F층을 보니, 등급이 높은 사람이 많음에도 불구하고 생존율은 매우 낮음. \n",
        "노약자는 등급보다도 나이에 영향을 더 받아서 사망 비율이 높음.\n",
        "\n",
        "A층은 등급이 낮은데도 불구하고 어린이를 우선하여 구출했는지 생존율이 높음.\n",
        "즉, 어린이는 등급보다 나이에 영향을 더 받아서 생존 비율이 높음.\n",
        "\n",
        "\n",
        "\n",
        "---\n",
        "\n",
        "\n",
        "따라서 나이는, 유의미한 변수임을 확인할 수 있음."
      ],
      "metadata": {
        "id": "LsqL4Lw7J4fS"
      }
    },
    {
      "cell_type": "markdown",
      "source": [
        "###Age 결측치"
      ],
      "metadata": {
        "id": "tYK3CPD2xzv2"
      }
    },
    {
      "cell_type": "code",
      "source": [
        "#결측치 0으로 일단 모두 채우기\n",
        "train['Age'] = train['Age'].fillna(0)"
      ],
      "metadata": {
        "id": "QKMWXAv513VO"
      },
      "execution_count": 44,
      "outputs": []
    },
    {
      "cell_type": "code",
      "source": [
        "#RandomForest 모델을 이용해 Age 컬럼의 결측치를 채운다.\n",
        "# 0으로 채워진 데이터와 아닌 데이터를 분리한다.\n",
        "train0 = train.loc[train['Age'] == 0]\n",
        "trainNot0 = train.loc[train['Age'] != 0]\n",
        "\n",
        "print(f'0으로 채워진 결측치의 수 : {train0.shape}')\n",
        "print(f'결측치가 아닌 데이터의 수 : {trainNot0.shape}')\n",
        "\n",
        "#rf를 사용하기 전에 결측치가 있는 다른 컬럼은 학습에 방해가 되기 때문에 제거\n",
        "# Age과 관련 없다고 생각되는 컬럼도 지운다.\n",
        "trainNot0 = trainNot0.drop(columns = ['Name','Ticket','PassengerId','Embarked', 'Age_band'])\n",
        "print(f'trainNot0의 shape : {trainNot0.shape}')\n",
        "train0 = train0.drop(columns = ['Name','Ticket','PassengerId','Embarked', 'Age_band'])\n",
        "print(f'train0의 shape : {train0.shape}')\n",
        "\n",
        "# 범주형 변수 원핫인코딩 진행\n",
        "trainNot0_dummies = pd.get_dummies(trainNot0)\n",
        "print(f'trainNot0_dummies의 shape : {trainNot0_dummies.shape}')\n",
        "train0_dummies = pd.get_dummies(train0)\n",
        "print(f'train0_dummies의 shape : {train0_dummies.shape}')"
      ],
      "metadata": {
        "colab": {
          "base_uri": "https://localhost:8080/"
        },
        "id": "I6B_3uRy2Uk5",
        "outputId": "2e3cb01b-89ca-4e7e-b0a5-bf086c5245e0"
      },
      "execution_count": 45,
      "outputs": [
        {
          "output_type": "stream",
          "name": "stdout",
          "text": [
            "0으로 채워진 결측치의 수 : (177, 14)\n",
            "결측치가 아닌 데이터의 수 : (714, 14)\n",
            "trainNot0의 shape : (714, 9)\n",
            "train0의 shape : (177, 9)\n",
            "trainNot0_dummies의 shape : (714, 10)\n",
            "train0_dummies의 shape : (177, 10)\n"
          ]
        }
      ]
    },
    {
      "cell_type": "code",
      "source": [
        "rf = RandomForestClassifier()\n",
        "\n",
        "# 전체 714 row중 오차지표 확인을 위해 600개 데이터 1차 학습\n",
        "rf.fit(trainNot0_dummies[:600], trainNot0['Age'][:600].astype('int'))\n",
        "\n",
        "# rmse가 약 4정도로 양호한것을 확인\n",
        "rf_prediction = rf.predict(trainNot0_dummies[600:])\n",
        "rf_mse = mean_squared_error(trainNot0['Age'][600:], rf_prediction)\n",
        "rf_rmse = np.sqrt(rf_mse)\n",
        "print(f'정확도 : {rf_rmse}')"
      ],
      "metadata": {
        "colab": {
          "base_uri": "https://localhost:8080/"
        },
        "id": "P-jh2LoUJ1bt",
        "outputId": "650e0dd3-756f-4446-cb7c-66cab59fb89e"
      },
      "execution_count": 46,
      "outputs": [
        {
          "output_type": "stream",
          "name": "stdout",
          "text": [
            "정확도 : 3.9336873911418118\n"
          ]
        }
      ]
    },
    {
      "cell_type": "code",
      "source": [
        "# 예측한 데이터 분포 살펴보기\n",
        "plt.figure(figsize=(15,6))\n",
        "\n",
        "# 예측 데이터\n",
        "plt.subplot(121)\n",
        "sns.violinplot(rf_prediction,palette='Reds')\n",
        "\n",
        "# 실제 데이터\n",
        "plt.subplot(122)\n",
        "sns.violinplot(trainNot0['Age'][600:])\n",
        "\n",
        "plt.show()"
      ],
      "metadata": {
        "colab": {
          "base_uri": "https://localhost:8080/",
          "height": 0
        },
        "id": "EW7oykur5clZ",
        "outputId": "878baabc-771d-4d16-f6f6-4220ebb59192"
      },
      "execution_count": 47,
      "outputs": [
        {
          "output_type": "display_data",
          "data": {
            "image/png": "[encoded data removed]",
            "text/plain": [
              "<Figure size 1080x432 with 2 Axes>"
            ]
          },
          "metadata": {}
        }
      ]
    },
    {
      "cell_type": "markdown",
      "source": [
        "rmse 평가 지수와 데이터 분포를 비교하여 살펴보았을때,\n",
        "\n",
        "예측이 잘 된 것으로 판단하고 전체 데이터의 Age에 대해 적용하도록 한다.\n",
        "\n"
      ],
      "metadata": {
        "id": "ell6TOgc7eAM"
      }
    },
    {
      "cell_type": "code",
      "source": [
        "# 전체 데이터 이용해서 다시 모델 학습시키기\n",
        "rf.fit(trainNot0_dummies, trainNot0['Age'].astype('int'))\n",
        "\n",
        "train0_values = rf.predict(X = train0_dummies)\n",
        "train0_values"
      ],
      "metadata": {
        "colab": {
          "base_uri": "https://localhost:8080/"
        },
        "id": "NukvJiO59i0N",
        "outputId": "8701ba47-70bf-4460-a81c-7c8f45932ad7"
      },
      "execution_count": 48,
      "outputs": [
        {
          "output_type": "execute_result",
          "data": {
            "text/plain": [
              "array([16, 18, 15, 17, 13, 16, 17, 16, 20, 16, 16, 11, 16, 16, 16, 18,  0,\n",
              "       16, 16, 16, 16, 16, 16, 16, 14, 16, 16,  0,  1, 17, 16,  1, 16, 18,\n",
              "        2,  1, 16, 19, 14, 16, 16,  1, 17, 16,  2, 14, 14, 14, 17, 16, 16,\n",
              "       14, 18, 16, 16, 18, 18, 16, 16, 12, 17, 16, 16,  1,  0, 17, 16, 14,\n",
              "       18, 17, 13, 13, 11, 13, 16, 17, 16, 16,  2, 16, 17, 16, 14, 16, 17,\n",
              "       16, 14, 16, 11, 16, 17, 16, 16, 16, 16, 17, 19, 16,  2, 11, 11, 11,\n",
              "       14, 16, 16, 11, 17, 17, 22, 17,  0, 11,  0, 16, 22, 16, 16, 14, 17,\n",
              "       16, 14, 16, 16,  0, 19, 17, 16, 16, 17, 14, 16, 16, 19, 11, 11, 16,\n",
              "       16, 13, 16, 16, 17, 16, 14, 11, 16,  0, 18, 11, 16, 16, 16, 16, 26,\n",
              "       11, 16, 11, 17, 16, 16,  1, 16,  1, 18, 19, 17, 11, 16, 17, 16, 26,\n",
              "        1, 17, 17,  1, 16, 16,  2])"
            ]
          },
          "metadata": {},
          "execution_count": 48
        }
      ]
    },
    {
      "cell_type": "code",
      "source": [
        "# 결측치를 채우기 위한 새로운 데이터프레임 생성\n",
        "train0['Age'] = train0_values\n",
        "data = trainNot0.append(train0)\n",
        "data['Age'] = data['Age'].astype('int')\n",
        "train['Age'] = data['Age']"
      ],
      "metadata": {
        "id": "DBrfgPEjAL7C"
      },
      "execution_count": 49,
      "outputs": []
    },
    {
      "cell_type": "code",
      "source": [
        "print(f'나이 최소값 : {train.Age.min()}')\n",
        "print(f'나이 최대값 : {train.Age.max()}')"
      ],
      "metadata": {
        "colab": {
          "base_uri": "https://localhost:8080/"
        },
        "id": "0hBgu2ATEEnn",
        "outputId": "3ede87e9-d8cb-450a-ec1b-a2edfad6d142"
      },
      "execution_count": 50,
      "outputs": [
        {
          "output_type": "stream",
          "name": "stdout",
          "text": [
            "나이 최소값 : 0\n",
            "나이 최대값 : 80\n"
          ]
        }
      ]
    },
    {
      "cell_type": "code",
      "source": [
        "# 나이대 묶기\n",
        "train['Age_band'] = pd.cut(train.Age, bins=[-1,17,29,39,49,64,80], labels=['A','B','C','D','E','F'])\n",
        "train['Age_band'].value_counts().to_frame()"
      ],
      "metadata": {
        "colab": {
          "base_uri": "https://localhost:8080/",
          "height": 0
        },
        "id": "3TLRhR4xDF2E",
        "outputId": "88db5437-c84a-4530-b9e3-067a7d422841"
      },
      "execution_count": 51,
      "outputs": [
        {
          "output_type": "execute_result",
          "data": {
            "text/html": [
              "\n",
              "  <div id=\"df-b78d9ad0-b713-4d15-8e1b-966787bf53fb\">\n",
              "    <div class=\"colab-df-container\">\n",
              "      <div>\n",
              "<style scoped>\n",
              "    .dataframe tbody tr th:only-of-type {\n",
              "        vertical-align: middle;\n",
              "    }\n",
              "\n",
              "    .dataframe tbody tr th {\n",
              "        vertical-align: top;\n",
              "    }\n",
              "\n",
              "    .dataframe thead th {\n",
              "        text-align: right;\n",
              "    }\n",
              "</style>\n",
              "<table border=\"1\" class=\"dataframe\">\n",
              "  <thead>\n",
              "    <tr style=\"text-align: right;\">\n",
              "      <th></th>\n",
              "      <th>Age_band</th>\n",
              "    </tr>\n",
              "  </thead>\n",
              "  <tbody>\n",
              "    <tr>\n",
              "      <th>B</th>\n",
              "      <td>290</td>\n",
              "    </tr>\n",
              "    <tr>\n",
              "      <th>A</th>\n",
              "      <td>271</td>\n",
              "    </tr>\n",
              "    <tr>\n",
              "      <th>C</th>\n",
              "      <td>167</td>\n",
              "    </tr>\n",
              "    <tr>\n",
              "      <th>D</th>\n",
              "      <td>89</td>\n",
              "    </tr>\n",
              "    <tr>\n",
              "      <th>E</th>\n",
              "      <td>63</td>\n",
              "    </tr>\n",
              "    <tr>\n",
              "      <th>F</th>\n",
              "      <td>11</td>\n",
              "    </tr>\n",
              "  </tbody>\n",
              "</table>\n",
              "</div>\n",
              "      <button class=\"colab-df-convert\" onclick=\"convertToInteractive('df-b78d9ad0-b713-4d15-8e1b-966787bf53fb')\"\n",
              "              title=\"Convert this dataframe to an interactive table.\"\n",
              "              style=\"display:none;\">\n",
              "        \n",
              "  <svg xmlns=\"http://www.w3.org/2000/svg\" height=\"24px\"viewBox=\"0 0 24 24\"\n",
              "       width=\"24px\">\n",
              "    <path d=\"M0 0h24v24H0V0z\" fill=\"none\"/>\n",
              "    <path d=\"M18.56 5.44l.94 2.06.94-2.06 2.06-.94-2.06-.94-.94-2.06-.94 2.06-2.06.94zm-11 1L8.5 8.5l.94-2.06 2.06-.94-2.06-.94L8.5 2.5l-.94 2.06-2.06.94zm10 10l.94 2.06.94-2.06 2.06-.94-2.06-.94-.94-2.06-.94 2.06-2.06.94z\"/><path d=\"M17.41 7.96l-1.37-1.37c-.4-.4-.92-.59-1.43-.59-.52 0-1.04.2-1.43.59L10.3 9.45l-7.72 7.72c-.78.78-.78 2.05 0 2.83L4 21.41c.39.39.9.59 1.41.59.51 0 1.02-.2 1.41-.59l7.78-7.78 2.81-2.81c.8-.78.8-2.07 0-2.86zM5.41 20L4 18.59l7.72-7.72 1.47 1.35L5.41 20z\"/>\n",
              "  </svg>\n",
              "      </button>\n",
              "      \n",
              "  <style>\n",
              "    .colab-df-container {\n",
              "      display:flex;\n",
              "      flex-wrap:wrap;\n",
              "      gap: 12px;\n",
              "    }\n",
              "\n",
              "    .colab-df-convert {\n",
              "      background-color: #E8F0FE;\n",
              "      border: none;\n",
              "      border-radius: 50%;\n",
              "      cursor: pointer;\n",
              "      display: none;\n",
              "      fill: #1967D2;\n",
              "      height: 32px;\n",
              "      padding: 0 0 0 0;\n",
              "      width: 32px;\n",
              "    }\n",
              "\n",
              "    .colab-df-convert:hover {\n",
              "      background-color: #E2EBFA;\n",
              "      box-shadow: 0px 1px 2px rgba(60, 64, 67, 0.3), 0px 1px 3px 1px rgba(60, 64, 67, 0.15);\n",
              "      fill: #174EA6;\n",
              "    }\n",
              "\n",
              "    [theme=dark] .colab-df-convert {\n",
              "      background-color: #3B4455;\n",
              "      fill: #D2E3FC;\n",
              "    }\n",
              "\n",
              "    [theme=dark] .colab-df-convert:hover {\n",
              "      background-color: #434B5C;\n",
              "      box-shadow: 0px 1px 3px 1px rgba(0, 0, 0, 0.15);\n",
              "      filter: drop-shadow(0px 1px 2px rgba(0, 0, 0, 0.3));\n",
              "      fill: #FFFFFF;\n",
              "    }\n",
              "  </style>\n",
              "\n",
              "      <script>\n",
              "        const buttonEl =\n",
              "          document.querySelector('#df-b78d9ad0-b713-4d15-8e1b-966787bf53fb button.colab-df-convert');\n",
              "        buttonEl.style.display =\n",
              "          google.colab.kernel.accessAllowed ? 'block' : 'none';\n",
              "\n",
              "        async function convertToInteractive(key) {\n",
              "          const element = document.querySelector('#df-b78d9ad0-b713-4d15-8e1b-966787bf53fb');\n",
              "          const dataTable =\n",
              "            await google.colab.kernel.invokeFunction('convertToInteractive',\n",
              "                                                     [key], {});\n",
              "          if (!dataTable) return;\n",
              "\n",
              "          const docLinkHtml = 'Like what you see? Visit the ' +\n",
              "            '<a target=\"_blank\" href=https://colab.research.google.com/notebooks/data_table.ipynb>data table notebook</a>'\n",
              "            + ' to learn more about interactive tables.';\n",
              "          element.innerHTML = '';\n",
              "          dataTable['output_type'] = 'display_data';\n",
              "          await google.colab.output.renderOutput(dataTable, element);\n",
              "          const docLink = document.createElement('div');\n",
              "          docLink.innerHTML = docLinkHtml;\n",
              "          element.appendChild(docLink);\n",
              "        }\n",
              "      </script>\n",
              "    </div>\n",
              "  </div>\n",
              "  "
            ],
            "text/plain": [
              "   Age_band\n",
              "B       290\n",
              "A       271\n",
              "C       167\n",
              "D        89\n",
              "E        63\n",
              "F        11"
            ]
          },
          "metadata": {},
          "execution_count": 51
        }
      ]
    },
    {
      "cell_type": "code",
      "source": [
        "train.isnull().sum()"
      ],
      "metadata": {
        "colab": {
          "base_uri": "https://localhost:8080/"
        },
        "id": "0ESGO36_EReR",
        "outputId": "25fed971-d562-4899-e315-cf064f571648"
      },
      "execution_count": 52,
      "outputs": [
        {
          "output_type": "execute_result",
          "data": {
            "text/plain": [
              "PassengerId    0\n",
              "Survived       0\n",
              "Name           0\n",
              "Sex            0\n",
              "Age            0\n",
              "SibSp          0\n",
              "Parch          0\n",
              "Ticket         0\n",
              "Fare           0\n",
              "Embarked       2\n",
              "Pclass_3       0\n",
              "Pclass_2       0\n",
              "Pclass_1       0\n",
              "Age_band       0\n",
              "dtype: int64"
            ]
          },
          "metadata": {},
          "execution_count": 52
        }
      ]
    },
    {
      "cell_type": "code",
      "source": [
        "sns.set_style('darkgrid')\n",
        "sns.distplot(train.Age, bins =10)\n",
        "plt.title('Final Titanic Age')\n",
        "plt.show()"
      ],
      "metadata": {
        "colab": {
          "base_uri": "https://localhost:8080/",
          "height": 0
        },
        "id": "eBYwfTKgEaRz",
        "outputId": "4700267d-5a89-4eb5-bec6-e35c67c7a6f2"
      },
      "execution_count": 53,
      "outputs": [
        {
          "output_type": "display_data",
          "data": {
            "image/png": "[encoded data removed]",
            "text/plain": [
              "<Figure size 432x288 with 1 Axes>"
            ]
          },
          "metadata": {}
        }
      ]
    },
    {
      "cell_type": "markdown",
      "source": [
        "### Age_band"
      ],
      "metadata": {
        "id": "cg0iPZ0SIKhC"
      }
    },
    {
      "cell_type": "code",
      "source": [
        "# 나이대 생존 분포 확인하기\n",
        "train['Age_band'] = pd.cut(train.Age, bins=5)\n",
        "# train['Age_band'].value_counts().to_frame()\n",
        "\n",
        "plt.figure(figsize=(20,5))\n",
        "sns.countplot(data = train, x = 'Age_band', hue = 'Survived')\n",
        "plt.title('Age_band and Survived')\n",
        "plt.show()"
      ],
      "metadata": {
        "colab": {
          "base_uri": "https://localhost:8080/",
          "height": 333
        },
        "id": "ns9W9kYdIJUV",
        "outputId": "e675c703-12c5-452a-a326-f5b13cad420d"
      },
      "execution_count": 54,
      "outputs": [
        {
          "output_type": "display_data",
          "data": {
            "image/png": "[encoded data removed]",
            "text/plain": [
              "<Figure size 1440x360 with 1 Axes>"
            ]
          },
          "metadata": {}
        }
      ]
    },
    {
      "cell_type": "code",
      "source": [
        "# Age_band가 0~6.154에 해당되는 그룹의 생존율이 높음 - Age_band를 삭제하고 0~6세 이하의 사람을 영유아 그룹처리 함.\n",
        "train['chlid'] = (train['Age'] <= 6.154)\n",
        "test['chlid'] = (test['Age'] <= 6.154)"
      ],
      "metadata": {
        "id": "aa29-oZ8LkZ2"
      },
      "execution_count": 57,
      "outputs": []
    },
    {
      "cell_type": "markdown",
      "source": [
        "## Embarked"
      ],
      "metadata": {
        "id": "oxU8SKu9QDbC"
      }
    },
    {
      "cell_type": "markdown",
      "source": [
        "### 결측치 처리"
      ],
      "metadata": {
        "id": "_N-PB694UKCX"
      }
    },
    {
      "cell_type": "markdown",
      "source": [
        "최빈값으로 삽입"
      ],
      "metadata": {
        "id": "kybkgD3jUQcA"
      }
    },
    {
      "cell_type": "code",
      "source": [
        "train.Embarked.value_counts().to_frame()"
      ],
      "metadata": {
        "id": "Janu7zJ6QE6v"
      },
      "execution_count": null,
      "outputs": []
    },
    {
      "cell_type": "code",
      "source": [
        "train.Embarked = train.Embarked.fillna('S')\n",
        "train.isnull().sum()"
      ],
      "metadata": {
        "id": "biB8HbqUQLhR"
      },
      "execution_count": null,
      "outputs": []
    },
    {
      "cell_type": "markdown",
      "source": [
        "### 변수 유의미성 판단"
      ],
      "metadata": {
        "id": "3JWqmcdcUMo6"
      }
    },
    {
      "cell_type": "code",
      "source": [
        "sns.countplot(data = train, x = 'Embarked', hue = 'Survived')\n",
        "plt.show()"
      ],
      "metadata": {
        "id": "D7ci62h2UIQn"
      },
      "execution_count": null,
      "outputs": []
    },
    {
      "cell_type": "markdown",
      "source": [
        "C 선착장에서 탑승한 사람들은 생존율이 높은 것을 볼 수 있다.\n",
        "\n",
        "또한 S와 Q에서의 생존율에 차이가 꽤 나기 때문에 이 변수는 지우지 않고\n",
        "\n",
        "원-핫 인코딩을 실시한다."
      ],
      "metadata": {
        "id": "9-SdVk5yUbO6"
      }
    },
    {
      "cell_type": "code",
      "source": [
        "# 원-핫 인코딩\n",
        "train = pd.get_dummies(data = train, columns = ['Embarked'], prefix = 'Embarked')\n",
        "test = pd.get_dummies(data = test, columns = ['Embarked'], prefix = 'Embarked')"
      ],
      "metadata": {
        "id": "9ay03JT0UZEg"
      },
      "execution_count": null,
      "outputs": []
    },
    {
      "cell_type": "markdown",
      "source": [
        "# Feature Engineering\n",
        "\n"
      ],
      "metadata": {
        "id": "8P-uPB5nEVhu"
      }
    },
    {
      "cell_type": "markdown",
      "source": [
        "### FamilySize"
      ],
      "metadata": {
        "id": "D9WvzpwlZ675"
      }
    },
    {
      "cell_type": "code",
      "source": [
        "# 본인을 포함한 가족 인원수\n",
        "train['FamilySize'] = train['SibSp'] + train['Parch'] + 1\n",
        "test['FamilySize'] = test['SibSp'] + test['Parch'] + 1\n",
        "\n",
        "sns.countplot(data = train, x = 'FamilySize', hue = 'Survived')\n",
        "plt.show()"
      ],
      "metadata": {
        "colab": {
          "base_uri": "https://localhost:8080/",
          "height": 0
        },
        "id": "vUQxQw-AQSen",
        "outputId": "93ba1bd2-6948-4273-e790-45383bf8e2a9"
      },
      "execution_count": 58,
      "outputs": [
        {
          "output_type": "display_data",
          "data": {
            "image/png": "[encoded data removed]",
            "text/plain": [
              "<Figure size 432x288 with 1 Axes>"
            ]
          },
          "metadata": {}
        }
      ]
    },
    {
      "cell_type": "markdown",
      "source": [
        "FamilySize가 2~4인 경우 생존율이 더 높다는 유의미한 결과를 거둠."
      ],
      "metadata": {
        "id": "k94KOrQgS5DN"
      }
    },
    {
      "cell_type": "code",
      "source": [
        "# 범주화 해보기\n",
        "train['Single']= train['FamilySize']==1\n",
        "train['Nuclear']= (2<=train['FamilySize']) & (train['FamilySize']<=4)\n",
        "train['Big']= train['FamilySize']>=5\n",
        "\n",
        "test['Single']= test['FamilySize']==1\n",
        "test['Nuclear']= (2<=test['FamilySize']) & (test['FamilySize']<=4)\n",
        "test['Big']= test['FamilySize']>=5\n",
        "\n",
        "figure, (ax1, ax2, ax3) = plt.subplots(nrows=1, ncols=3)\n",
        "figure.set_size_inches(18,6)\n",
        "sns.countplot(data=train, x='Single', hue='Survived', ax=ax1)\n",
        "sns.countplot(data=train, x='Nuclear', hue='Survived', ax=ax2)\n",
        "sns.countplot(data=train, x='Big',hue='Survived', ax=ax3) \n",
        "plt.title('FamilySize 3 sorts')\n",
        "plt.show()"
      ],
      "metadata": {
        "colab": {
          "base_uri": "https://localhost:8080/",
          "height": 0
        },
        "id": "FHSM-GkISqxp",
        "outputId": "87889c26-80ff-4c93-f22c-2aa887000130"
      },
      "execution_count": 59,
      "outputs": [
        {
          "output_type": "display_data",
          "data": {
            "image/png": "[encoded data removed]",
            "text/plain": [
              "<Figure size 1296x432 with 3 Axes>"
            ]
          },
          "metadata": {}
        }
      ]
    },
    {
      "cell_type": "markdown",
      "source": [
        "2~4인 가구에 해당되느냐 안되느냐로 생존율 구분할 수 있음.\n",
        "\n",
        "따라서 FamilySize 와 같은 다른 변수들은 모두 지우고 Nuclear만 남겨둠."
      ],
      "metadata": {
        "id": "Z9D5n4qST43X"
      }
    },
    {
      "cell_type": "code",
      "source": [
        "train = train.drop(columns=['Single','Big','FamilySize'])\n",
        "test = test.drop(columns=['Single','Big','FamilySize'])"
      ],
      "metadata": {
        "id": "xGxEOvdwTMCU"
      },
      "execution_count": 60,
      "outputs": []
    },
    {
      "cell_type": "markdown",
      "source": [
        "### SibSp, Parch"
      ],
      "metadata": {
        "id": "a5vCNS-gZ-Hu"
      }
    },
    {
      "cell_type": "markdown",
      "source": [
        "SibSp 나 Parch는 FamilySize와 별개로 유의미한 변수인가."
      ],
      "metadata": {
        "id": "CD58mGu3ZxC-"
      }
    },
    {
      "cell_type": "markdown",
      "source": [
        "### Name"
      ],
      "metadata": {
        "id": "-9nJPuJXawEh"
      }
    },
    {
      "cell_type": "code",
      "source": [
        "train.Name.head(5).to_frame()"
      ],
      "metadata": {
        "colab": {
          "base_uri": "https://localhost:8080/",
          "height": 0
        },
        "id": "jGe5PU92bKOH",
        "outputId": "9ebaa339-7e8f-45eb-e489-14fa29f48762"
      },
      "execution_count": 61,
      "outputs": [
        {
          "output_type": "execute_result",
          "data": {
            "text/html": [
              "\n",
              "  <div id=\"df-0d31f0cf-d874-46d8-bfb4-97748e81b7b9\">\n",
              "    <div class=\"colab-df-container\">\n",
              "      <div>\n",
              "<style scoped>\n",
              "    .dataframe tbody tr th:only-of-type {\n",
              "        vertical-align: middle;\n",
              "    }\n",
              "\n",
              "    .dataframe tbody tr th {\n",
              "        vertical-align: top;\n",
              "    }\n",
              "\n",
              "    .dataframe thead th {\n",
              "        text-align: right;\n",
              "    }\n",
              "</style>\n",
              "<table border=\"1\" class=\"dataframe\">\n",
              "  <thead>\n",
              "    <tr style=\"text-align: right;\">\n",
              "      <th></th>\n",
              "      <th>Name</th>\n",
              "    </tr>\n",
              "  </thead>\n",
              "  <tbody>\n",
              "    <tr>\n",
              "      <th>0</th>\n",
              "      <td>Braund, Mr. Owen Harris</td>\n",
              "    </tr>\n",
              "    <tr>\n",
              "      <th>1</th>\n",
              "      <td>Cumings, Mrs. John Bradley (Florence Briggs Th...</td>\n",
              "    </tr>\n",
              "    <tr>\n",
              "      <th>2</th>\n",
              "      <td>Heikkinen, Miss. Laina</td>\n",
              "    </tr>\n",
              "    <tr>\n",
              "      <th>3</th>\n",
              "      <td>Futrelle, Mrs. Jacques Heath (Lily May Peel)</td>\n",
              "    </tr>\n",
              "    <tr>\n",
              "      <th>4</th>\n",
              "      <td>Allen, Mr. William Henry</td>\n",
              "    </tr>\n",
              "  </tbody>\n",
              "</table>\n",
              "</div>\n",
              "      <button class=\"colab-df-convert\" onclick=\"convertToInteractive('df-0d31f0cf-d874-46d8-bfb4-97748e81b7b9')\"\n",
              "              title=\"Convert this dataframe to an interactive table.\"\n",
              "              style=\"display:none;\">\n",
              "        \n",
              "  <svg xmlns=\"http://www.w3.org/2000/svg\" height=\"24px\"viewBox=\"0 0 24 24\"\n",
              "       width=\"24px\">\n",
              "    <path d=\"M0 0h24v24H0V0z\" fill=\"none\"/>\n",
              "    <path d=\"M18.56 5.44l.94 2.06.94-2.06 2.06-.94-2.06-.94-.94-2.06-.94 2.06-2.06.94zm-11 1L8.5 8.5l.94-2.06 2.06-.94-2.06-.94L8.5 2.5l-.94 2.06-2.06.94zm10 10l.94 2.06.94-2.06 2.06-.94-2.06-.94-.94-2.06-.94 2.06-2.06.94z\"/><path d=\"M17.41 7.96l-1.37-1.37c-.4-.4-.92-.59-1.43-.59-.52 0-1.04.2-1.43.59L10.3 9.45l-7.72 7.72c-.78.78-.78 2.05 0 2.83L4 21.41c.39.39.9.59 1.41.59.51 0 1.02-.2 1.41-.59l7.78-7.78 2.81-2.81c.8-.78.8-2.07 0-2.86zM5.41 20L4 18.59l7.72-7.72 1.47 1.35L5.41 20z\"/>\n",
              "  </svg>\n",
              "      </button>\n",
              "      \n",
              "  <style>\n",
              "    .colab-df-container {\n",
              "      display:flex;\n",
              "      flex-wrap:wrap;\n",
              "      gap: 12px;\n",
              "    }\n",
              "\n",
              "    .colab-df-convert {\n",
              "      background-color: #E8F0FE;\n",
              "      border: none;\n",
              "      border-radius: 50%;\n",
              "      cursor: pointer;\n",
              "      display: none;\n",
              "      fill: #1967D2;\n",
              "      height: 32px;\n",
              "      padding: 0 0 0 0;\n",
              "      width: 32px;\n",
              "    }\n",
              "\n",
              "    .colab-df-convert:hover {\n",
              "      background-color: #E2EBFA;\n",
              "      box-shadow: 0px 1px 2px rgba(60, 64, 67, 0.3), 0px 1px 3px 1px rgba(60, 64, 67, 0.15);\n",
              "      fill: #174EA6;\n",
              "    }\n",
              "\n",
              "    [theme=dark] .colab-df-convert {\n",
              "      background-color: #3B4455;\n",
              "      fill: #D2E3FC;\n",
              "    }\n",
              "\n",
              "    [theme=dark] .colab-df-convert:hover {\n",
              "      background-color: #434B5C;\n",
              "      box-shadow: 0px 1px 3px 1px rgba(0, 0, 0, 0.15);\n",
              "      filter: drop-shadow(0px 1px 2px rgba(0, 0, 0, 0.3));\n",
              "      fill: #FFFFFF;\n",
              "    }\n",
              "  </style>\n",
              "\n",
              "      <script>\n",
              "        const buttonEl =\n",
              "          document.querySelector('#df-0d31f0cf-d874-46d8-bfb4-97748e81b7b9 button.colab-df-convert');\n",
              "        buttonEl.style.display =\n",
              "          google.colab.kernel.accessAllowed ? 'block' : 'none';\n",
              "\n",
              "        async function convertToInteractive(key) {\n",
              "          const element = document.querySelector('#df-0d31f0cf-d874-46d8-bfb4-97748e81b7b9');\n",
              "          const dataTable =\n",
              "            await google.colab.kernel.invokeFunction('convertToInteractive',\n",
              "                                                     [key], {});\n",
              "          if (!dataTable) return;\n",
              "\n",
              "          const docLinkHtml = 'Like what you see? Visit the ' +\n",
              "            '<a target=\"_blank\" href=https://colab.research.google.com/notebooks/data_table.ipynb>data table notebook</a>'\n",
              "            + ' to learn more about interactive tables.';\n",
              "          element.innerHTML = '';\n",
              "          dataTable['output_type'] = 'display_data';\n",
              "          await google.colab.output.renderOutput(dataTable, element);\n",
              "          const docLink = document.createElement('div');\n",
              "          docLink.innerHTML = docLinkHtml;\n",
              "          element.appendChild(docLink);\n",
              "        }\n",
              "      </script>\n",
              "    </div>\n",
              "  </div>\n",
              "  "
            ],
            "text/plain": [
              "                                                Name\n",
              "0                            Braund, Mr. Owen Harris\n",
              "1  Cumings, Mrs. John Bradley (Florence Briggs Th...\n",
              "2                             Heikkinen, Miss. Laina\n",
              "3       Futrelle, Mrs. Jacques Heath (Lily May Peel)\n",
              "4                           Allen, Mr. William Henry"
            ]
          },
          "metadata": {},
          "execution_count": 61
        }
      ]
    },
    {
      "cell_type": "markdown",
      "source": [
        "'이름', Mr. '성씨' 형태로 깔끔하게 정리되어 있음.\n",
        "\n",
        "여기서 가운데에 적힌 신분만 따와서 살펴보겠음."
      ],
      "metadata": {
        "id": "NMuzVocNbILN"
      }
    },
    {
      "cell_type": "code",
      "source": [
        "# Name의 유의미성 판단하기\n",
        "train['Name']=train['Name'].str.split(', ').str[1].str.split('. ').str[0]\n",
        "test['Name']=test['Name'].str.split(', ').str[1].str.split('. ').str[0]"
      ],
      "metadata": {
        "id": "jsZPNPV2UEDx"
      },
      "execution_count": 62,
      "outputs": []
    },
    {
      "cell_type": "code",
      "source": [
        "train.Name.unique()"
      ],
      "metadata": {
        "colab": {
          "base_uri": "https://localhost:8080/"
        },
        "id": "L_x1TBs8blv6",
        "outputId": "3042ffc9-e593-4cb0-c8f6-39f1172747c4"
      },
      "execution_count": 63,
      "outputs": [
        {
          "output_type": "execute_result",
          "data": {
            "text/plain": [
              "array(['Mr', 'Mrs', 'Miss', 'Master', 'Don', 'Rev', 'Dr', 'Mme', 'Ms',\n",
              "       'Major', 'Lady', 'Sir', 'Mlle', 'Col', 'Capt', 'th', 'Jonkheer'],\n",
              "      dtype=object)"
            ]
          },
          "metadata": {},
          "execution_count": 63
        }
      ]
    },
    {
      "cell_type": "code",
      "source": [
        "plt.figure(figsize=(12,5))\n",
        "sns.countplot(data = train, x = 'Name', hue = 'Survived')\n",
        "plt.title('Name and Survived')\n",
        "plt.show()"
      ],
      "metadata": {
        "colab": {
          "base_uri": "https://localhost:8080/",
          "height": 0
        },
        "id": "T0LyWBygbtSJ",
        "outputId": "604862db-0abc-43f0-b809-98076dcaf2ef"
      },
      "execution_count": 64,
      "outputs": [
        {
          "output_type": "display_data",
          "data": {
            "image/png": "[encoded data removed]",
            "text/plain": [
              "<Figure size 864x360 with 1 Axes>"
            ]
          },
          "metadata": {}
        }
      ]
    },
    {
      "cell_type": "markdown",
      "source": [
        "\n",
        "\n",
        "*   Mr : 기혼, 미혼 구분없이 남자를 부르는 말\n",
        "*   Mrs : 결혼한 여자를 부르는 말\n",
        "*   Miss : 미혼 여성을 부르는 말\n",
        "*   Master : 어린 남자아이를 부르는 말\n",
        "\n",
        "같은 여성 중에서도 결혼의 유무에 따라 생존율이 차이남.\n",
        "\n",
        "어린 남자아이는 다른 변수에 비해 생존율이 높은 이유가 나이 때문인데,\n",
        "\n",
        "나이 변수는 결측치 처리하여 살려냈으므로 생략.\n",
        "\n",
        "Mrs 유무만 판별.\n",
        "\n"
      ],
      "metadata": {
        "id": "FIiK7aB-cnw1"
      }
    },
    {
      "cell_type": "code",
      "source": [
        "# Mrs 추가하고 Name 삭제\n",
        "train['Mrs'] = (train.Name == 'Mrs')\n",
        "test['Mrs'] = (test.Name == 'Mrs')\n",
        "train['Master'] = (train.Name == 'Master')\n",
        "test['Master'] = (test.Name == 'Master')\n",
        "train=train.drop(columns='Name')\n",
        "test=test.drop(columns='Name')"
      ],
      "metadata": {
        "id": "uRbCC9x2b7A_"
      },
      "execution_count": 65,
      "outputs": []
    },
    {
      "cell_type": "markdown",
      "source": [
        "## Ticket"
      ],
      "metadata": {
        "id": "yS_mPo8WH-Ny"
      }
    },
    {
      "cell_type": "code",
      "source": [
        "train = train.drop(columns = 'Ticket')\n",
        "test = test.drop(columns = 'Ticket')"
      ],
      "metadata": {
        "id": "0KarsW1Gbq-l"
      },
      "execution_count": 66,
      "outputs": []
    },
    {
      "cell_type": "markdown",
      "source": [
        "## Fare"
      ],
      "metadata": {
        "id": "MjSx6MkQOaAI"
      }
    },
    {
      "cell_type": "code",
      "source": [
        "train.Fare.min()"
      ],
      "metadata": {
        "colab": {
          "base_uri": "https://localhost:8080/"
        },
        "id": "9TQmvIndQ993",
        "outputId": "b1605a9d-aa9e-4811-a9b1-87a04bdd221c"
      },
      "execution_count": 67,
      "outputs": [
        {
          "output_type": "execute_result",
          "data": {
            "text/plain": [
              "0.0"
            ]
          },
          "metadata": {},
          "execution_count": 67
        }
      ]
    },
    {
      "cell_type": "code",
      "source": [
        "train[train.Fare <= 6].mean().Survived"
      ],
      "metadata": {
        "colab": {
          "base_uri": "https://localhost:8080/"
        },
        "id": "scDA1dTmRBlW",
        "outputId": "5a905cef-c71b-46df-9f4d-86f28933671c"
      },
      "execution_count": 68,
      "outputs": [
        {
          "output_type": "execute_result",
          "data": {
            "text/plain": [
              "0.058823529411764705"
            ]
          },
          "metadata": {},
          "execution_count": 68
        }
      ]
    },
    {
      "cell_type": "code",
      "source": [
        "sns.distplot(train['Fare'])\n",
        "plt.show()"
      ],
      "metadata": {
        "colab": {
          "base_uri": "https://localhost:8080/",
          "height": 0
        },
        "id": "nnoQV3RqOZD2",
        "outputId": "7c25e117-1e2e-4f00-b0cb-6a6f16185407"
      },
      "execution_count": 69,
      "outputs": [
        {
          "output_type": "display_data",
          "data": {
            "image/png": "[encoded data removed]",
            "text/plain": [
              "<Figure size 432x288 with 1 Axes>"
            ]
          },
          "metadata": {}
        }
      ]
    },
    {
      "cell_type": "code",
      "source": [
        "# 로그변환\n",
        "train['log_Fare'] = train.Fare + 1\n",
        "test['log_Fare'] = test.Fare + 1\n",
        "\n",
        "train.log_Fare = np.log(train.log_Fare)\n",
        "test.log_Fare = np.log(test.log_Fare)\n",
        "\n",
        "sns.distplot(train.log_Fare)\n",
        "plt.show()"
      ],
      "metadata": {
        "colab": {
          "base_uri": "https://localhost:8080/",
          "height": 0
        },
        "id": "Kr4ulKeeQFRG",
        "outputId": "93f09366-7060-4f6e-af79-dd3f463be557"
      },
      "execution_count": 70,
      "outputs": [
        {
          "output_type": "display_data",
          "data": {
            "image/png": "[encoded data removed]",
            "text/plain": [
              "<Figure size 432x288 with 1 Axes>"
            ]
          },
          "metadata": {}
        }
      ]
    },
    {
      "cell_type": "code",
      "source": [
        "train['Free'] = (train.Fare <= 6)\n",
        "test['Free'] = (test.Fare <= 6)"
      ],
      "metadata": {
        "id": "Zr-gewR3a5xm"
      },
      "execution_count": 71,
      "outputs": []
    },
    {
      "cell_type": "markdown",
      "source": [
        "## 나머지"
      ],
      "metadata": {
        "id": "R-Ekg-YASfei"
      }
    },
    {
      "cell_type": "code",
      "source": [
        "train = train.drop(columns = ['PassengerId'])\n",
        "test = test.drop(columns = ['PassengerId'])\n",
        "\n",
        "train.loc[train['Survived']==1, 'Survived']='1'\n",
        "train.loc[train['Survived']==0,'Survived']='0'"
      ],
      "metadata": {
        "id": "CBJE1ElvSgd5"
      },
      "execution_count": 72,
      "outputs": []
    },
    {
      "cell_type": "markdown",
      "source": [
        "# Modeling"
      ],
      "metadata": {
        "id": "mqVTCNQrSbr7"
      }
    },
    {
      "cell_type": "code",
      "source": [
        "train.dtypes"
      ],
      "metadata": {
        "colab": {
          "base_uri": "https://localhost:8080/"
        },
        "id": "GqDAyeQRbnYO",
        "outputId": "c048707f-d4df-4051-e37c-348532d46120"
      },
      "execution_count": 82,
      "outputs": [
        {
          "output_type": "execute_result",
          "data": {
            "text/plain": [
              "Survived        int64\n",
              "Sex              bool\n",
              "Age             int64\n",
              "SibSp           int64\n",
              "Pclass_3         bool\n",
              "Pclass_2         bool\n",
              "Pclass_1         bool\n",
              "Embarked_C      uint8\n",
              "Embarked_Q      uint8\n",
              "Embarked_S      uint8\n",
              "Nuclear          bool\n",
              "Mrs              bool\n",
              "Master           bool\n",
              "log_Fare      float64\n",
              "dtype: object"
            ]
          },
          "metadata": {},
          "execution_count": 82
        }
      ]
    },
    {
      "cell_type": "code",
      "source": [
        "Ytrain = train['Survived']\n",
        "feature_names = list(test)\n",
        "Xtrain = train[feature_names]\n",
        "Xtest = test[feature_names]   # test 데이터\n",
        "\n",
        "print(f'Xtrain shape: {Xtrain.shape}')\n",
        "print(f'Ytrain shape: {Ytrain.shape}')\n",
        "print(f'Xtest shape: {Xtest.shape}')\n",
        "\n",
        "X_train, X_test, y_train, y_test = train_test_split(Xtrain, Ytrain,\n",
        "                                                    test_size = .3,\n",
        "                                                    random_state = 5,\n",
        "                                                   stratify = Ytrain)\n",
        "print(f'X_train shape: {X_train.shape}')\n",
        "print(f'y_train shape: {y_train.shape}')"
      ],
      "metadata": {
        "id": "BOkdsPK3ETm2",
        "colab": {
          "base_uri": "https://localhost:8080/"
        },
        "outputId": "553ac195-a7cd-4e8d-8e87-4b28c0a5dfa9"
      },
      "execution_count": 83,
      "outputs": [
        {
          "output_type": "stream",
          "name": "stdout",
          "text": [
            "Xtrain shape: (891, 13)\n",
            "Ytrain shape: (891,)\n",
            "Xtest shape: (418, 13)\n",
            "X_train shape: (623, 13)\n",
            "y_train shape: (623,)\n"
          ]
        }
      ]
    },
    {
      "cell_type": "code",
      "source": [
        "from xgboost import XGBClassifier\n",
        "xgb = XGBClassifier()\n",
        "xgb.fit(X_train, y_train)\n",
        "xgb.score(X_test, y_test)"
      ],
      "metadata": {
        "colab": {
          "base_uri": "https://localhost:8080/"
        },
        "id": "muxZe0h4g0Xk",
        "outputId": "bc34cf3f-6b6c-4172-9bee-7fab0fd747a6"
      },
      "execution_count": 84,
      "outputs": [
        {
          "output_type": "execute_result",
          "data": {
            "text/plain": [
              "0.8582089552238806"
            ]
          },
          "metadata": {},
          "execution_count": 84
        }
      ]
    },
    {
      "cell_type": "code",
      "source": [
        "#변수 중요도\n",
        "xgb.feature_importances_\n",
        "\n",
        "plt.barh(feature_names, xgb.feature_importances_)\n",
        "plt.show()"
      ],
      "metadata": {
        "colab": {
          "base_uri": "https://localhost:8080/",
          "height": 265
        },
        "id": "AcB93XadsRDy",
        "outputId": "38706866-317a-4705-d94f-94d4f7bb20a0"
      },
      "execution_count": 85,
      "outputs": [
        {
          "output_type": "display_data",
          "data": {
            "image/png": "[encoded data removed]",
            "text/plain": [
              "<Figure size 432x288 with 1 Axes>"
            ]
          },
          "metadata": {}
        }
      ]
    },
    {
      "cell_type": "code",
      "source": [
        "import xgboost as xgb\n",
        "from sklearn.model_selection import RandomizedSearchCV\n",
        "\n",
        "# Create the parameter grid: gbm_param_grid \n",
        "gbm_param_grid = {\n",
        "    'n_estimators': range(500,1000,100),\n",
        "    'max_depth': range(4, 10),\n",
        "    'learning_rate': [0.01,0.05,0.1,0.15],\n",
        "    'colsample_bytree': [.5, .6, .7, .8, .9, 1],\n",
        "    'subsample':[i/10.0 for i in range(6,10)]\n",
        "}\n",
        "\n",
        "# Instantiate the regressor: gbm\n",
        "gbm = XGBClassifier(objective= 'binary:logistic',\n",
        "                     nthread=-1, \n",
        "                     scale_pos_weight=1)\n",
        "\n",
        "# Perform random search: grid_mse\n",
        "xgb_random = RandomizedSearchCV(param_distributions=gbm_param_grid, \n",
        "                                estimator = gbm, \n",
        "                                scoring = \"accuracy\", \n",
        "                                verbose = 1, n_iter = 200, cv = 4)\n",
        "\n",
        "# Fit randomized_mse to the data\n",
        "xgb_random.fit(Xtrain, Ytrain)\n",
        "\n",
        "# Print the best parameters and lowest RMSE\n",
        "print(\"Best parameters found: \", xgb_random.best_params_)\n",
        "print(\"Best accuracy found: \", xgb_random.best_score_)"
      ],
      "metadata": {
        "colab": {
          "base_uri": "https://localhost:8080/"
        },
        "id": "H9RGsNathDHv",
        "outputId": "d702f46d-b385-4464-b2bd-d78988f2ee20"
      },
      "execution_count": 86,
      "outputs": [
        {
          "output_type": "stream",
          "name": "stdout",
          "text": [
            "Fitting 4 folds for each of 200 candidates, totalling 800 fits\n",
            "Best parameters found:  {'subsample': 0.8, 'n_estimators': 600, 'max_depth': 5, 'learning_rate': 0.01, 'colsample_bytree': 1}\n",
            "Best accuracy found:  0.848498161838969\n"
          ]
        }
      ]
    },
    {
      "cell_type": "code",
      "source": [
        "param_test1 = {\n",
        " 'max_depth':range(3,10),\n",
        " 'min_child_weight':range(1,6)\n",
        "}\n",
        "gbm2 = XGBClassifier(subsample = 0.8,\n",
        "                     n_estimators = 600,\n",
        "                     max_depth = 5,\n",
        "                     learning_rate = 0.01,\n",
        "                     colsample_bytree = 0.6,\n",
        "                     objective= 'binary:logistic',\n",
        "                     nthread=-1, \n",
        "                     scale_pos_weight=1)\n",
        "xgb_gread = GridSearchCV(estimator = gbm2, param_grid = param_test1,\n",
        "                         scoring = \"accuracy\", cv=4, verbose=1)\n",
        "# Fit randomized_mse to the data\n",
        "xgb_gread.fit(Xtrain, Ytrain)\n",
        "\n",
        "# Print the best parameters and lowest RMSE\n",
        "print(\"Best parameters found: \", xgb_gread.best_params_)\n",
        "print(\"Best accuracy found: \", xgb_gread.best_score_)"
      ],
      "metadata": {
        "colab": {
          "base_uri": "https://localhost:8080/"
        },
        "id": "VR9dJVXl8Svs",
        "outputId": "17b3bb28-43bc-4d99-e5ad-11d7c4d2e09f"
      },
      "execution_count": 87,
      "outputs": [
        {
          "output_type": "stream",
          "name": "stdout",
          "text": [
            "Fitting 4 folds for each of 35 candidates, totalling 140 fits\n",
            "Best parameters found:  {'max_depth': 7, 'min_child_weight': 2}\n",
            "Best accuracy found:  0.8507352644123946\n"
          ]
        }
      ]
    },
    {
      "cell_type": "code",
      "source": [
        "param_test2 = {\n",
        " 'gamma' :[0.001, 0.01, 0.1, 1, 10, 100]\n",
        "}\n",
        "gbm2 = XGBClassifier(subsample = 0.8,\n",
        "                     n_estimators = 600,\n",
        "                     max_depth = 7,\n",
        "                     min_child_weight = 2,\n",
        "                     learning_rate = 0.01,\n",
        "                     colsample_bytree = 0.6,\n",
        "                     gamma = 0.001,\n",
        "                     reg_alpha = 1e-05,\n",
        "                     objective= 'binary:logistic',\n",
        "                     nthread=-1, \n",
        "                     scale_pos_weight=1)\n",
        "xgb_gread = GridSearchCV(estimator = gbm2, param_grid = param_test2,\n",
        "                         scoring = \"accuracy\", cv=4, verbose=1)\n",
        "# Fit randomized_mse to the data\n",
        "xgb_gread.fit(Xtrain, Ytrain)\n",
        "\n",
        "# Print the best parameters and lowest RMSE\n",
        "print(\"Best parameters found: \", xgb_gread.best_params_)\n",
        "print(\"Best accuracy found: \", xgb_gread.best_score_)"
      ],
      "metadata": {
        "colab": {
          "base_uri": "https://localhost:8080/"
        },
        "id": "2JlYXf6Syy12",
        "outputId": "46068347-d746-47e5-8146-189c214ba64e"
      },
      "execution_count": 88,
      "outputs": [
        {
          "output_type": "stream",
          "name": "stdout",
          "text": [
            "Fitting 4 folds for each of 6 candidates, totalling 24 fits\n",
            "Best parameters found:  {'gamma': 0.001}\n",
            "Best accuracy found:  0.8507403143053367\n"
          ]
        }
      ]
    },
    {
      "cell_type": "code",
      "source": [
        "# 최종 예측\n",
        "xgb = XGBClassifier(subsample = 0.8,\n",
        "                     n_estimators = 600,\n",
        "                     max_depth = 7,\n",
        "                     min_child_weight = 2,\n",
        "                     learning_rate = 0.01,\n",
        "                     colsample_bytree = 0.6,\n",
        "                     gamma = 0.001,\n",
        "                     reg_alpha = 1e-05,\n",
        "                     objective= 'binary:logistic',\n",
        "                     nthread=-1, \n",
        "                     scale_pos_weight=1)\n",
        "\n",
        "xgb.fit(Xtrain, Ytrain)\n",
        "submission['Survived'] = xgb.predict(Xtest)\n",
        "submission.to_csv('titanic_submission.csv', header = True, index = False)"
      ],
      "metadata": {
        "id": "bgigTLM7jJyI"
      },
      "execution_count": 92,
      "outputs": []
    }
  ]
}